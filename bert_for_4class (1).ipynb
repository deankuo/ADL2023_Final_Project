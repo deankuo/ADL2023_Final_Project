{
  "metadata": {
    "kernelspec": {
      "display_name": "Python 3",
      "name": "python3"
    },
    "language_info": {
      "name": "python",
      "version": "3.10.12",
      "mimetype": "text/x-python",
      "codemirror_mode": {
        "name": "ipython",
        "version": 3
      },
      "pygments_lexer": "ipython3",
      "nbconvert_exporter": "python",
      "file_extension": ".py"
    },
    "colab": {
      "provenance": []
    }
  },
  "nbformat_minor": 0,
  "nbformat": 4,
  "cells": [
    {
      "cell_type": "markdown",
      "source": [
        "# Importing necessary libraries"
      ],
      "metadata": {
        "id": "Phi5szy-5KGO"
      }
    },
    {
      "cell_type": "code",
      "source": [
        "import numpy as np\n",
        "import pandas as pd\n",
        "import matplotlib.pyplot as plt\n",
        "import seaborn as sns\n",
        "import plotly.express as px\n",
        "import plotly.offline as pyo\n",
        "import plotly.graph_objects as go\n",
        "import re\n",
        "from wordcloud import WordCloud, STOPWORDS\n",
        "import torch\n",
        "from torch.utils.data import DataLoader, TensorDataset\n",
        "from transformers import BertTokenizer, BertForSequenceClassification, AdamW\n",
        "from sklearn.model_selection import train_test_split\n",
        "from sklearn.metrics import accuracy_score, precision_score, recall_score\n",
        "\n",
        "import os\n",
        "import zipfile\n",
        "import warnings"
      ],
      "metadata": {
        "execution": {
          "iopub.status.busy": "2023-11-21T04:31:01.500086Z",
          "iopub.execute_input": "2023-11-21T04:31:01.500936Z",
          "iopub.status.idle": "2023-11-21T04:31:16.207186Z",
          "shell.execute_reply.started": "2023-11-21T04:31:01.500902Z",
          "shell.execute_reply": "2023-11-21T04:31:16.206216Z"
        },
        "trusted": true,
        "id": "S6086Jb05KGS"
      },
      "execution_count": null,
      "outputs": []
    },
    {
      "cell_type": "markdown",
      "source": [
        "# Load the Dataset"
      ],
      "metadata": {
        "id": "SdZKlTy_5KGX"
      }
    },
    {
      "cell_type": "code",
      "source": [
        "df = pd.read_excel(\"/content/df_bert.xlsx\")"
      ],
      "metadata": {
        "execution": {
          "iopub.status.busy": "2023-11-21T04:31:16.209162Z",
          "iopub.execute_input": "2023-11-21T04:31:16.209545Z",
          "iopub.status.idle": "2023-11-21T04:31:17.689371Z",
          "shell.execute_reply.started": "2023-11-21T04:31:16.209511Z",
          "shell.execute_reply": "2023-11-21T04:31:17.688387Z"
        },
        "trusted": true,
        "id": "Rhe6wVrS5KGY"
      },
      "execution_count": null,
      "outputs": []
    },
    {
      "cell_type": "code",
      "source": [
        "df_2 = pd.read_excel(\"/content/df_gpt_all_sentiment_text.xlsx\")"
      ],
      "metadata": {
        "id": "bOGAyU5wQ7Pt"
      },
      "execution_count": null,
      "outputs": []
    },
    {
      "cell_type": "code",
      "source": [
        "df_3 = pd.read_excel(r\"/content/df_Miaoli.xlsx\")"
      ],
      "metadata": {
        "id": "6IS8rGs6Q85c"
      },
      "execution_count": null,
      "outputs": []
    },
    {
      "cell_type": "code",
      "source": [
        "df_4 = pd.read_excel(r\"/content/test_6class_pred.xlsx\")\n",
        "df_4 = df_4.dropna()\n",
        "df_4[['information', 'justification', 'change', 'sanctions']] = df_4[['information', 'justification', 'change', 'sanctions']].astype('int')"
      ],
      "metadata": {
        "id": "6T-7kHKKQ_yF"
      },
      "execution_count": null,
      "outputs": []
    },
    {
      "cell_type": "code",
      "source": [
        "df_2 = df_2[['text', 'information', 'justification', 'change', 'sanctions', 'wordlen']]\n",
        "df_3 = df_3[['text', 'information', 'justification', 'change', 'sanctions']]\n",
        "df_4 = df_4[['text', 'information', 'justification', 'change', 'sanctions', 'wordlen']]"
      ],
      "metadata": {
        "id": "GZ3ei-lu5y7u"
      },
      "execution_count": null,
      "outputs": []
    },
    {
      "cell_type": "markdown",
      "source": [
        "# Preprocessing"
      ],
      "metadata": {
        "id": "vA32mWX_5KGa"
      }
    },
    {
      "cell_type": "code",
      "source": [
        "df = pd.read_excel('/content/train_data.xlsx')"
      ],
      "metadata": {
        "id": "FFqzXBHeG-Ye"
      },
      "execution_count": null,
      "outputs": []
    },
    {
      "cell_type": "code",
      "source": [
        "df = pd.concat([df, df_2, df_3, df_4], ignore_index=True)"
      ],
      "metadata": {
        "id": "n6NP6FhiRISO"
      },
      "execution_count": null,
      "outputs": []
    },
    {
      "cell_type": "code",
      "source": [
        "df['wordlen'] = df['text'].str.len()"
      ],
      "metadata": {
        "id": "6un5k605RQy0"
      },
      "execution_count": null,
      "outputs": []
    },
    {
      "cell_type": "code",
      "source": [
        "df = df[df['wordlen'] <= 800]"
      ],
      "metadata": {
        "id": "7-uUzKJwnehD"
      },
      "execution_count": null,
      "outputs": []
    },
    {
      "cell_type": "code",
      "source": [
        "df"
      ],
      "metadata": {
        "colab": {
          "base_uri": "https://localhost:8080/",
          "height": 684
        },
        "id": "_qyBV4ka6HZB",
        "outputId": "98d76d41-c438-4e64-ff34-c42a032a87e2"
      },
      "execution_count": null,
      "outputs": [
        {
          "output_type": "execute_result",
          "data": {
            "text/plain": [
              "       Unnamed: 0                                               text  \\\n",
              "0               0  但是有一件事情，本席感覺處理上還是非常的不妥，就是張顯耀違規施打疫苗事件。在這個事件裡面，雖...   \n",
              "1               1  好，謝謝市長。我相信假如今天疫苗夠的話，今天也不會產生這麼大的一個問題出來，也沒有類似這種案...   \n",
              "2               2  針對一個平民老百姓都可以如此的對待，所以希望市府團隊對於高雄市的團隊，以及公職人員及其親屬的...   \n",
              "3               3                                            市長、市長…。   \n",
              "4               4                                         我不是質疑這個部分。   \n",
              "...           ...                                                ...   \n",
              "12654       12850                         市長，我知道了，所以分成兩邊，他做他的，你做你的嗎?   \n",
              "12655       12851                         我們市民也希望看到市長是一個真正講實話、做實事的人。   \n",
              "12656       12852                         幾戶?你認為高雄市照顧弱勢的社會住宅應該多少戶才夠?   \n",
              "12657       12853                         是，但是你有關注你也會去了解一下，這個要不要讓他過。   \n",
              "12658       12854                         我明年準備看，如果你增加一倍，當然訪視的數量就會夠。   \n",
              "\n",
              "       information  justification  change  sanctions  wordlen  \n",
              "0                0              1       0          0      286  \n",
              "1                0              0       0          0      237  \n",
              "2                0              1       1          0      290  \n",
              "3                0              0       0          0        7  \n",
              "4                0              0       0          0       10  \n",
              "...            ...            ...     ...        ...      ...  \n",
              "12654            0              1       0          0       26  \n",
              "12655            0              0       0          0       26  \n",
              "12656            0              1       0          0       26  \n",
              "12657            0              0       0          0       26  \n",
              "12658            0              0       0          0       26  \n",
              "\n",
              "[12659 rows x 7 columns]"
            ],
            "text/html": [
              "\n",
              "  <div id=\"df-720d8fe4-5e47-4443-b230-e05aef184bda\" class=\"colab-df-container\">\n",
              "    <div>\n",
              "<style scoped>\n",
              "    .dataframe tbody tr th:only-of-type {\n",
              "        vertical-align: middle;\n",
              "    }\n",
              "\n",
              "    .dataframe tbody tr th {\n",
              "        vertical-align: top;\n",
              "    }\n",
              "\n",
              "    .dataframe thead th {\n",
              "        text-align: right;\n",
              "    }\n",
              "</style>\n",
              "<table border=\"1\" class=\"dataframe\">\n",
              "  <thead>\n",
              "    <tr style=\"text-align: right;\">\n",
              "      <th></th>\n",
              "      <th>Unnamed: 0</th>\n",
              "      <th>text</th>\n",
              "      <th>information</th>\n",
              "      <th>justification</th>\n",
              "      <th>change</th>\n",
              "      <th>sanctions</th>\n",
              "      <th>wordlen</th>\n",
              "    </tr>\n",
              "  </thead>\n",
              "  <tbody>\n",
              "    <tr>\n",
              "      <th>0</th>\n",
              "      <td>0</td>\n",
              "      <td>但是有一件事情，本席感覺處理上還是非常的不妥，就是張顯耀違規施打疫苗事件。在這個事件裡面，雖...</td>\n",
              "      <td>0</td>\n",
              "      <td>1</td>\n",
              "      <td>0</td>\n",
              "      <td>0</td>\n",
              "      <td>286</td>\n",
              "    </tr>\n",
              "    <tr>\n",
              "      <th>1</th>\n",
              "      <td>1</td>\n",
              "      <td>好，謝謝市長。我相信假如今天疫苗夠的話，今天也不會產生這麼大的一個問題出來，也沒有類似這種案...</td>\n",
              "      <td>0</td>\n",
              "      <td>0</td>\n",
              "      <td>0</td>\n",
              "      <td>0</td>\n",
              "      <td>237</td>\n",
              "    </tr>\n",
              "    <tr>\n",
              "      <th>2</th>\n",
              "      <td>2</td>\n",
              "      <td>針對一個平民老百姓都可以如此的對待，所以希望市府團隊對於高雄市的團隊，以及公職人員及其親屬的...</td>\n",
              "      <td>0</td>\n",
              "      <td>1</td>\n",
              "      <td>1</td>\n",
              "      <td>0</td>\n",
              "      <td>290</td>\n",
              "    </tr>\n",
              "    <tr>\n",
              "      <th>3</th>\n",
              "      <td>3</td>\n",
              "      <td>市長、市長…。</td>\n",
              "      <td>0</td>\n",
              "      <td>0</td>\n",
              "      <td>0</td>\n",
              "      <td>0</td>\n",
              "      <td>7</td>\n",
              "    </tr>\n",
              "    <tr>\n",
              "      <th>4</th>\n",
              "      <td>4</td>\n",
              "      <td>我不是質疑這個部分。</td>\n",
              "      <td>0</td>\n",
              "      <td>0</td>\n",
              "      <td>0</td>\n",
              "      <td>0</td>\n",
              "      <td>10</td>\n",
              "    </tr>\n",
              "    <tr>\n",
              "      <th>...</th>\n",
              "      <td>...</td>\n",
              "      <td>...</td>\n",
              "      <td>...</td>\n",
              "      <td>...</td>\n",
              "      <td>...</td>\n",
              "      <td>...</td>\n",
              "      <td>...</td>\n",
              "    </tr>\n",
              "    <tr>\n",
              "      <th>12654</th>\n",
              "      <td>12850</td>\n",
              "      <td>市長，我知道了，所以分成兩邊，他做他的，你做你的嗎?</td>\n",
              "      <td>0</td>\n",
              "      <td>1</td>\n",
              "      <td>0</td>\n",
              "      <td>0</td>\n",
              "      <td>26</td>\n",
              "    </tr>\n",
              "    <tr>\n",
              "      <th>12655</th>\n",
              "      <td>12851</td>\n",
              "      <td>我們市民也希望看到市長是一個真正講實話、做實事的人。</td>\n",
              "      <td>0</td>\n",
              "      <td>0</td>\n",
              "      <td>0</td>\n",
              "      <td>0</td>\n",
              "      <td>26</td>\n",
              "    </tr>\n",
              "    <tr>\n",
              "      <th>12656</th>\n",
              "      <td>12852</td>\n",
              "      <td>幾戶?你認為高雄市照顧弱勢的社會住宅應該多少戶才夠?</td>\n",
              "      <td>0</td>\n",
              "      <td>1</td>\n",
              "      <td>0</td>\n",
              "      <td>0</td>\n",
              "      <td>26</td>\n",
              "    </tr>\n",
              "    <tr>\n",
              "      <th>12657</th>\n",
              "      <td>12853</td>\n",
              "      <td>是，但是你有關注你也會去了解一下，這個要不要讓他過。</td>\n",
              "      <td>0</td>\n",
              "      <td>0</td>\n",
              "      <td>0</td>\n",
              "      <td>0</td>\n",
              "      <td>26</td>\n",
              "    </tr>\n",
              "    <tr>\n",
              "      <th>12658</th>\n",
              "      <td>12854</td>\n",
              "      <td>我明年準備看，如果你增加一倍，當然訪視的數量就會夠。</td>\n",
              "      <td>0</td>\n",
              "      <td>0</td>\n",
              "      <td>0</td>\n",
              "      <td>0</td>\n",
              "      <td>26</td>\n",
              "    </tr>\n",
              "  </tbody>\n",
              "</table>\n",
              "<p>12659 rows × 7 columns</p>\n",
              "</div>\n",
              "    <div class=\"colab-df-buttons\">\n",
              "\n",
              "  <div class=\"colab-df-container\">\n",
              "    <button class=\"colab-df-convert\" onclick=\"convertToInteractive('df-720d8fe4-5e47-4443-b230-e05aef184bda')\"\n",
              "            title=\"Convert this dataframe to an interactive table.\"\n",
              "            style=\"display:none;\">\n",
              "\n",
              "  <svg xmlns=\"http://www.w3.org/2000/svg\" height=\"24px\" viewBox=\"0 -960 960 960\">\n",
              "    <path d=\"M120-120v-720h720v720H120Zm60-500h600v-160H180v160Zm220 220h160v-160H400v160Zm0 220h160v-160H400v160ZM180-400h160v-160H180v160Zm440 0h160v-160H620v160ZM180-180h160v-160H180v160Zm440 0h160v-160H620v160Z\"/>\n",
              "  </svg>\n",
              "    </button>\n",
              "\n",
              "  <style>\n",
              "    .colab-df-container {\n",
              "      display:flex;\n",
              "      gap: 12px;\n",
              "    }\n",
              "\n",
              "    .colab-df-convert {\n",
              "      background-color: #E8F0FE;\n",
              "      border: none;\n",
              "      border-radius: 50%;\n",
              "      cursor: pointer;\n",
              "      display: none;\n",
              "      fill: #1967D2;\n",
              "      height: 32px;\n",
              "      padding: 0 0 0 0;\n",
              "      width: 32px;\n",
              "    }\n",
              "\n",
              "    .colab-df-convert:hover {\n",
              "      background-color: #E2EBFA;\n",
              "      box-shadow: 0px 1px 2px rgba(60, 64, 67, 0.3), 0px 1px 3px 1px rgba(60, 64, 67, 0.15);\n",
              "      fill: #174EA6;\n",
              "    }\n",
              "\n",
              "    .colab-df-buttons div {\n",
              "      margin-bottom: 4px;\n",
              "    }\n",
              "\n",
              "    [theme=dark] .colab-df-convert {\n",
              "      background-color: #3B4455;\n",
              "      fill: #D2E3FC;\n",
              "    }\n",
              "\n",
              "    [theme=dark] .colab-df-convert:hover {\n",
              "      background-color: #434B5C;\n",
              "      box-shadow: 0px 1px 3px 1px rgba(0, 0, 0, 0.15);\n",
              "      filter: drop-shadow(0px 1px 2px rgba(0, 0, 0, 0.3));\n",
              "      fill: #FFFFFF;\n",
              "    }\n",
              "  </style>\n",
              "\n",
              "    <script>\n",
              "      const buttonEl =\n",
              "        document.querySelector('#df-720d8fe4-5e47-4443-b230-e05aef184bda button.colab-df-convert');\n",
              "      buttonEl.style.display =\n",
              "        google.colab.kernel.accessAllowed ? 'block' : 'none';\n",
              "\n",
              "      async function convertToInteractive(key) {\n",
              "        const element = document.querySelector('#df-720d8fe4-5e47-4443-b230-e05aef184bda');\n",
              "        const dataTable =\n",
              "          await google.colab.kernel.invokeFunction('convertToInteractive',\n",
              "                                                    [key], {});\n",
              "        if (!dataTable) return;\n",
              "\n",
              "        const docLinkHtml = 'Like what you see? Visit the ' +\n",
              "          '<a target=\"_blank\" href=https://colab.research.google.com/notebooks/data_table.ipynb>data table notebook</a>'\n",
              "          + ' to learn more about interactive tables.';\n",
              "        element.innerHTML = '';\n",
              "        dataTable['output_type'] = 'display_data';\n",
              "        await google.colab.output.renderOutput(dataTable, element);\n",
              "        const docLink = document.createElement('div');\n",
              "        docLink.innerHTML = docLinkHtml;\n",
              "        element.appendChild(docLink);\n",
              "      }\n",
              "    </script>\n",
              "  </div>\n",
              "\n",
              "\n",
              "<div id=\"df-d72470eb-4d75-4e3e-aea3-9c4512613067\">\n",
              "  <button class=\"colab-df-quickchart\" onclick=\"quickchart('df-d72470eb-4d75-4e3e-aea3-9c4512613067')\"\n",
              "            title=\"Suggest charts\"\n",
              "            style=\"display:none;\">\n",
              "\n",
              "<svg xmlns=\"http://www.w3.org/2000/svg\" height=\"24px\"viewBox=\"0 0 24 24\"\n",
              "     width=\"24px\">\n",
              "    <g>\n",
              "        <path d=\"M19 3H5c-1.1 0-2 .9-2 2v14c0 1.1.9 2 2 2h14c1.1 0 2-.9 2-2V5c0-1.1-.9-2-2-2zM9 17H7v-7h2v7zm4 0h-2V7h2v10zm4 0h-2v-4h2v4z\"/>\n",
              "    </g>\n",
              "</svg>\n",
              "  </button>\n",
              "\n",
              "<style>\n",
              "  .colab-df-quickchart {\n",
              "      --bg-color: #E8F0FE;\n",
              "      --fill-color: #1967D2;\n",
              "      --hover-bg-color: #E2EBFA;\n",
              "      --hover-fill-color: #174EA6;\n",
              "      --disabled-fill-color: #AAA;\n",
              "      --disabled-bg-color: #DDD;\n",
              "  }\n",
              "\n",
              "  [theme=dark] .colab-df-quickchart {\n",
              "      --bg-color: #3B4455;\n",
              "      --fill-color: #D2E3FC;\n",
              "      --hover-bg-color: #434B5C;\n",
              "      --hover-fill-color: #FFFFFF;\n",
              "      --disabled-bg-color: #3B4455;\n",
              "      --disabled-fill-color: #666;\n",
              "  }\n",
              "\n",
              "  .colab-df-quickchart {\n",
              "    background-color: var(--bg-color);\n",
              "    border: none;\n",
              "    border-radius: 50%;\n",
              "    cursor: pointer;\n",
              "    display: none;\n",
              "    fill: var(--fill-color);\n",
              "    height: 32px;\n",
              "    padding: 0;\n",
              "    width: 32px;\n",
              "  }\n",
              "\n",
              "  .colab-df-quickchart:hover {\n",
              "    background-color: var(--hover-bg-color);\n",
              "    box-shadow: 0 1px 2px rgba(60, 64, 67, 0.3), 0 1px 3px 1px rgba(60, 64, 67, 0.15);\n",
              "    fill: var(--button-hover-fill-color);\n",
              "  }\n",
              "\n",
              "  .colab-df-quickchart-complete:disabled,\n",
              "  .colab-df-quickchart-complete:disabled:hover {\n",
              "    background-color: var(--disabled-bg-color);\n",
              "    fill: var(--disabled-fill-color);\n",
              "    box-shadow: none;\n",
              "  }\n",
              "\n",
              "  .colab-df-spinner {\n",
              "    border: 2px solid var(--fill-color);\n",
              "    border-color: transparent;\n",
              "    border-bottom-color: var(--fill-color);\n",
              "    animation:\n",
              "      spin 1s steps(1) infinite;\n",
              "  }\n",
              "\n",
              "  @keyframes spin {\n",
              "    0% {\n",
              "      border-color: transparent;\n",
              "      border-bottom-color: var(--fill-color);\n",
              "      border-left-color: var(--fill-color);\n",
              "    }\n",
              "    20% {\n",
              "      border-color: transparent;\n",
              "      border-left-color: var(--fill-color);\n",
              "      border-top-color: var(--fill-color);\n",
              "    }\n",
              "    30% {\n",
              "      border-color: transparent;\n",
              "      border-left-color: var(--fill-color);\n",
              "      border-top-color: var(--fill-color);\n",
              "      border-right-color: var(--fill-color);\n",
              "    }\n",
              "    40% {\n",
              "      border-color: transparent;\n",
              "      border-right-color: var(--fill-color);\n",
              "      border-top-color: var(--fill-color);\n",
              "    }\n",
              "    60% {\n",
              "      border-color: transparent;\n",
              "      border-right-color: var(--fill-color);\n",
              "    }\n",
              "    80% {\n",
              "      border-color: transparent;\n",
              "      border-right-color: var(--fill-color);\n",
              "      border-bottom-color: var(--fill-color);\n",
              "    }\n",
              "    90% {\n",
              "      border-color: transparent;\n",
              "      border-bottom-color: var(--fill-color);\n",
              "    }\n",
              "  }\n",
              "</style>\n",
              "\n",
              "  <script>\n",
              "    async function quickchart(key) {\n",
              "      const quickchartButtonEl =\n",
              "        document.querySelector('#' + key + ' button');\n",
              "      quickchartButtonEl.disabled = true;  // To prevent multiple clicks.\n",
              "      quickchartButtonEl.classList.add('colab-df-spinner');\n",
              "      try {\n",
              "        const charts = await google.colab.kernel.invokeFunction(\n",
              "            'suggestCharts', [key], {});\n",
              "      } catch (error) {\n",
              "        console.error('Error during call to suggestCharts:', error);\n",
              "      }\n",
              "      quickchartButtonEl.classList.remove('colab-df-spinner');\n",
              "      quickchartButtonEl.classList.add('colab-df-quickchart-complete');\n",
              "    }\n",
              "    (() => {\n",
              "      let quickchartButtonEl =\n",
              "        document.querySelector('#df-d72470eb-4d75-4e3e-aea3-9c4512613067 button');\n",
              "      quickchartButtonEl.style.display =\n",
              "        google.colab.kernel.accessAllowed ? 'block' : 'none';\n",
              "    })();\n",
              "  </script>\n",
              "</div>\n",
              "\n",
              "  <div id=\"id_f3bebefb-a3c7-4714-a071-52abb37f04d1\">\n",
              "    <style>\n",
              "      .colab-df-generate {\n",
              "        background-color: #E8F0FE;\n",
              "        border: none;\n",
              "        border-radius: 50%;\n",
              "        cursor: pointer;\n",
              "        display: none;\n",
              "        fill: #1967D2;\n",
              "        height: 32px;\n",
              "        padding: 0 0 0 0;\n",
              "        width: 32px;\n",
              "      }\n",
              "\n",
              "      .colab-df-generate:hover {\n",
              "        background-color: #E2EBFA;\n",
              "        box-shadow: 0px 1px 2px rgba(60, 64, 67, 0.3), 0px 1px 3px 1px rgba(60, 64, 67, 0.15);\n",
              "        fill: #174EA6;\n",
              "      }\n",
              "\n",
              "      [theme=dark] .colab-df-generate {\n",
              "        background-color: #3B4455;\n",
              "        fill: #D2E3FC;\n",
              "      }\n",
              "\n",
              "      [theme=dark] .colab-df-generate:hover {\n",
              "        background-color: #434B5C;\n",
              "        box-shadow: 0px 1px 3px 1px rgba(0, 0, 0, 0.15);\n",
              "        filter: drop-shadow(0px 1px 2px rgba(0, 0, 0, 0.3));\n",
              "        fill: #FFFFFF;\n",
              "      }\n",
              "    </style>\n",
              "    <button class=\"colab-df-generate\" onclick=\"generateWithVariable('df')\"\n",
              "            title=\"Generate code using this dataframe.\"\n",
              "            style=\"display:none;\">\n",
              "\n",
              "  <svg xmlns=\"http://www.w3.org/2000/svg\" height=\"24px\"viewBox=\"0 0 24 24\"\n",
              "       width=\"24px\">\n",
              "    <path d=\"M7,19H8.4L18.45,9,17,7.55,7,17.6ZM5,21V16.75L18.45,3.32a2,2,0,0,1,2.83,0l1.4,1.43a1.91,1.91,0,0,1,.58,1.4,1.91,1.91,0,0,1-.58,1.4L9.25,21ZM18.45,9,17,7.55Zm-12,3A5.31,5.31,0,0,0,4.9,8.1,5.31,5.31,0,0,0,1,6.5,5.31,5.31,0,0,0,4.9,4.9,5.31,5.31,0,0,0,6.5,1,5.31,5.31,0,0,0,8.1,4.9,5.31,5.31,0,0,0,12,6.5,5.46,5.46,0,0,0,6.5,12Z\"/>\n",
              "  </svg>\n",
              "    </button>\n",
              "    <script>\n",
              "      (() => {\n",
              "      const buttonEl =\n",
              "        document.querySelector('#id_f3bebefb-a3c7-4714-a071-52abb37f04d1 button.colab-df-generate');\n",
              "      buttonEl.style.display =\n",
              "        google.colab.kernel.accessAllowed ? 'block' : 'none';\n",
              "\n",
              "      buttonEl.onclick = () => {\n",
              "        google.colab.notebook.generateWithVariable('df');\n",
              "      }\n",
              "      })();\n",
              "    </script>\n",
              "  </div>\n",
              "\n",
              "    </div>\n",
              "  </div>\n"
            ]
          },
          "metadata": {},
          "execution_count": 7
        }
      ]
    },
    {
      "cell_type": "markdown",
      "source": [
        "## Data Visualization to Understand Class Distribution"
      ],
      "metadata": {
        "id": "m89Huw2L5KGd"
      }
    },
    {
      "cell_type": "code",
      "source": [
        "train = df.drop(\"wordlen\", axis=1)\n",
        "train = train[['text', 'information', 'justification', 'change', 'sanctions']]\n",
        "train = train.drop_duplicates()"
      ],
      "metadata": {
        "execution": {
          "iopub.status.busy": "2023-11-21T04:31:17.702296Z",
          "iopub.execute_input": "2023-11-21T04:31:17.702773Z",
          "iopub.status.idle": "2023-11-21T04:31:18.660279Z",
          "shell.execute_reply.started": "2023-11-21T04:31:17.702741Z",
          "shell.execute_reply": "2023-11-21T04:31:18.659258Z"
        },
        "trusted": true,
        "id": "m49hPMY35KGf"
      },
      "execution_count": null,
      "outputs": []
    },
    {
      "cell_type": "code",
      "source": [
        "train['text'] = train['text'].str[-512:]"
      ],
      "metadata": {
        "id": "HGt3coU1b5ew"
      },
      "execution_count": null,
      "outputs": []
    },
    {
      "cell_type": "code",
      "source": [
        "train['wordlen'] = train['text'].str.len()"
      ],
      "metadata": {
        "id": "D3Ft2mIByNVY"
      },
      "execution_count": null,
      "outputs": []
    },
    {
      "cell_type": "code",
      "source": [
        "train = train[train['wordlen'] <= 512]"
      ],
      "metadata": {
        "id": "naJp9aoHySsS"
      },
      "execution_count": null,
      "outputs": []
    },
    {
      "cell_type": "code",
      "source": [
        "train"
      ],
      "metadata": {
        "colab": {
          "base_uri": "https://localhost:8080/",
          "height": 562
        },
        "id": "LIH4lgXn0rBB",
        "outputId": "3cde6994-bfd0-4f8a-aade-ce95895117d4"
      },
      "execution_count": null,
      "outputs": [
        {
          "output_type": "execute_result",
          "data": {
            "text/plain": [
              "                                                    text  information  \\\n",
              "0      但是有一件事情，本席感覺處理上還是非常的不妥，就是張顯耀違規施打疫苗事件。在這個事件裡面，雖...            0   \n",
              "1      好，謝謝市長。我相信假如今天疫苗夠的話，今天也不會產生這麼大的一個問題出來，也沒有類似這種案...            0   \n",
              "2      針對一個平民老百姓都可以如此的對待，所以希望市府團隊對於高雄市的團隊，以及公職人員及其親屬的...            0   \n",
              "3                                                市長、市長…。            0   \n",
              "4                                             我不是質疑這個部分。            0   \n",
              "...                                                  ...          ...   \n",
              "13055  我知道，甚至還癱瘓了旗津交通，我覺得這個旗津交通，當然不是我的選區，但是還是特別要再特別講一...            0   \n",
              "13056  黃局長，請問一下，新冠疫情燃燒到現在已經二年多了，高雄市曾經確診的人數到底是多少?衛生局在人...            1   \n",
              "13057  謝謝市長，再問一下研考會，請問研考會，每次市政報告中各局處的業務報告，當它印成白紙黑字送到議...            0   \n",
              "13058  里長也有去告訴他們，市府這邊很不簡單通過了，現在簽的比例不夠，我也知道副市長對這個很重視，也...            0   \n",
              "13059  對於這些長期以來站在第一線維護市政的先鋒、尖兵，這個部分市長必須要了解。在這上面本席所提出來...            0   \n",
              "\n",
              "       justification  change  sanctions  wordlen  \n",
              "0                  1       0          0      286  \n",
              "1                  0       0          0      237  \n",
              "2                  1       1          0      290  \n",
              "3                  0       0          0        7  \n",
              "4                  0       0          0       10  \n",
              "...              ...     ...        ...      ...  \n",
              "13055              0       0          0       86  \n",
              "13056              0       0          0       86  \n",
              "13057              1       0          0       86  \n",
              "13058              0       1          0       87  \n",
              "13059              1       1          0       87  \n",
              "\n",
              "[10050 rows x 6 columns]"
            ],
            "text/html": [
              "\n",
              "  <div id=\"df-40f49202-6373-4493-8103-e7d80cfd0681\" class=\"colab-df-container\">\n",
              "    <div>\n",
              "<style scoped>\n",
              "    .dataframe tbody tr th:only-of-type {\n",
              "        vertical-align: middle;\n",
              "    }\n",
              "\n",
              "    .dataframe tbody tr th {\n",
              "        vertical-align: top;\n",
              "    }\n",
              "\n",
              "    .dataframe thead th {\n",
              "        text-align: right;\n",
              "    }\n",
              "</style>\n",
              "<table border=\"1\" class=\"dataframe\">\n",
              "  <thead>\n",
              "    <tr style=\"text-align: right;\">\n",
              "      <th></th>\n",
              "      <th>text</th>\n",
              "      <th>information</th>\n",
              "      <th>justification</th>\n",
              "      <th>change</th>\n",
              "      <th>sanctions</th>\n",
              "      <th>wordlen</th>\n",
              "    </tr>\n",
              "  </thead>\n",
              "  <tbody>\n",
              "    <tr>\n",
              "      <th>0</th>\n",
              "      <td>但是有一件事情，本席感覺處理上還是非常的不妥，就是張顯耀違規施打疫苗事件。在這個事件裡面，雖...</td>\n",
              "      <td>0</td>\n",
              "      <td>1</td>\n",
              "      <td>0</td>\n",
              "      <td>0</td>\n",
              "      <td>286</td>\n",
              "    </tr>\n",
              "    <tr>\n",
              "      <th>1</th>\n",
              "      <td>好，謝謝市長。我相信假如今天疫苗夠的話，今天也不會產生這麼大的一個問題出來，也沒有類似這種案...</td>\n",
              "      <td>0</td>\n",
              "      <td>0</td>\n",
              "      <td>0</td>\n",
              "      <td>0</td>\n",
              "      <td>237</td>\n",
              "    </tr>\n",
              "    <tr>\n",
              "      <th>2</th>\n",
              "      <td>針對一個平民老百姓都可以如此的對待，所以希望市府團隊對於高雄市的團隊，以及公職人員及其親屬的...</td>\n",
              "      <td>0</td>\n",
              "      <td>1</td>\n",
              "      <td>1</td>\n",
              "      <td>0</td>\n",
              "      <td>290</td>\n",
              "    </tr>\n",
              "    <tr>\n",
              "      <th>3</th>\n",
              "      <td>市長、市長…。</td>\n",
              "      <td>0</td>\n",
              "      <td>0</td>\n",
              "      <td>0</td>\n",
              "      <td>0</td>\n",
              "      <td>7</td>\n",
              "    </tr>\n",
              "    <tr>\n",
              "      <th>4</th>\n",
              "      <td>我不是質疑這個部分。</td>\n",
              "      <td>0</td>\n",
              "      <td>0</td>\n",
              "      <td>0</td>\n",
              "      <td>0</td>\n",
              "      <td>10</td>\n",
              "    </tr>\n",
              "    <tr>\n",
              "      <th>...</th>\n",
              "      <td>...</td>\n",
              "      <td>...</td>\n",
              "      <td>...</td>\n",
              "      <td>...</td>\n",
              "      <td>...</td>\n",
              "      <td>...</td>\n",
              "    </tr>\n",
              "    <tr>\n",
              "      <th>13055</th>\n",
              "      <td>我知道，甚至還癱瘓了旗津交通，我覺得這個旗津交通，當然不是我的選區，但是還是特別要再特別講一...</td>\n",
              "      <td>0</td>\n",
              "      <td>0</td>\n",
              "      <td>0</td>\n",
              "      <td>0</td>\n",
              "      <td>86</td>\n",
              "    </tr>\n",
              "    <tr>\n",
              "      <th>13056</th>\n",
              "      <td>黃局長，請問一下，新冠疫情燃燒到現在已經二年多了，高雄市曾經確診的人數到底是多少?衛生局在人...</td>\n",
              "      <td>1</td>\n",
              "      <td>0</td>\n",
              "      <td>0</td>\n",
              "      <td>0</td>\n",
              "      <td>86</td>\n",
              "    </tr>\n",
              "    <tr>\n",
              "      <th>13057</th>\n",
              "      <td>謝謝市長，再問一下研考會，請問研考會，每次市政報告中各局處的業務報告，當它印成白紙黑字送到議...</td>\n",
              "      <td>0</td>\n",
              "      <td>1</td>\n",
              "      <td>0</td>\n",
              "      <td>0</td>\n",
              "      <td>86</td>\n",
              "    </tr>\n",
              "    <tr>\n",
              "      <th>13058</th>\n",
              "      <td>里長也有去告訴他們，市府這邊很不簡單通過了，現在簽的比例不夠，我也知道副市長對這個很重視，也...</td>\n",
              "      <td>0</td>\n",
              "      <td>0</td>\n",
              "      <td>1</td>\n",
              "      <td>0</td>\n",
              "      <td>87</td>\n",
              "    </tr>\n",
              "    <tr>\n",
              "      <th>13059</th>\n",
              "      <td>對於這些長期以來站在第一線維護市政的先鋒、尖兵，這個部分市長必須要了解。在這上面本席所提出來...</td>\n",
              "      <td>0</td>\n",
              "      <td>1</td>\n",
              "      <td>1</td>\n",
              "      <td>0</td>\n",
              "      <td>87</td>\n",
              "    </tr>\n",
              "  </tbody>\n",
              "</table>\n",
              "<p>10050 rows × 6 columns</p>\n",
              "</div>\n",
              "    <div class=\"colab-df-buttons\">\n",
              "\n",
              "  <div class=\"colab-df-container\">\n",
              "    <button class=\"colab-df-convert\" onclick=\"convertToInteractive('df-40f49202-6373-4493-8103-e7d80cfd0681')\"\n",
              "            title=\"Convert this dataframe to an interactive table.\"\n",
              "            style=\"display:none;\">\n",
              "\n",
              "  <svg xmlns=\"http://www.w3.org/2000/svg\" height=\"24px\" viewBox=\"0 -960 960 960\">\n",
              "    <path d=\"M120-120v-720h720v720H120Zm60-500h600v-160H180v160Zm220 220h160v-160H400v160Zm0 220h160v-160H400v160ZM180-400h160v-160H180v160Zm440 0h160v-160H620v160ZM180-180h160v-160H180v160Zm440 0h160v-160H620v160Z\"/>\n",
              "  </svg>\n",
              "    </button>\n",
              "\n",
              "  <style>\n",
              "    .colab-df-container {\n",
              "      display:flex;\n",
              "      gap: 12px;\n",
              "    }\n",
              "\n",
              "    .colab-df-convert {\n",
              "      background-color: #E8F0FE;\n",
              "      border: none;\n",
              "      border-radius: 50%;\n",
              "      cursor: pointer;\n",
              "      display: none;\n",
              "      fill: #1967D2;\n",
              "      height: 32px;\n",
              "      padding: 0 0 0 0;\n",
              "      width: 32px;\n",
              "    }\n",
              "\n",
              "    .colab-df-convert:hover {\n",
              "      background-color: #E2EBFA;\n",
              "      box-shadow: 0px 1px 2px rgba(60, 64, 67, 0.3), 0px 1px 3px 1px rgba(60, 64, 67, 0.15);\n",
              "      fill: #174EA6;\n",
              "    }\n",
              "\n",
              "    .colab-df-buttons div {\n",
              "      margin-bottom: 4px;\n",
              "    }\n",
              "\n",
              "    [theme=dark] .colab-df-convert {\n",
              "      background-color: #3B4455;\n",
              "      fill: #D2E3FC;\n",
              "    }\n",
              "\n",
              "    [theme=dark] .colab-df-convert:hover {\n",
              "      background-color: #434B5C;\n",
              "      box-shadow: 0px 1px 3px 1px rgba(0, 0, 0, 0.15);\n",
              "      filter: drop-shadow(0px 1px 2px rgba(0, 0, 0, 0.3));\n",
              "      fill: #FFFFFF;\n",
              "    }\n",
              "  </style>\n",
              "\n",
              "    <script>\n",
              "      const buttonEl =\n",
              "        document.querySelector('#df-40f49202-6373-4493-8103-e7d80cfd0681 button.colab-df-convert');\n",
              "      buttonEl.style.display =\n",
              "        google.colab.kernel.accessAllowed ? 'block' : 'none';\n",
              "\n",
              "      async function convertToInteractive(key) {\n",
              "        const element = document.querySelector('#df-40f49202-6373-4493-8103-e7d80cfd0681');\n",
              "        const dataTable =\n",
              "          await google.colab.kernel.invokeFunction('convertToInteractive',\n",
              "                                                    [key], {});\n",
              "        if (!dataTable) return;\n",
              "\n",
              "        const docLinkHtml = 'Like what you see? Visit the ' +\n",
              "          '<a target=\"_blank\" href=https://colab.research.google.com/notebooks/data_table.ipynb>data table notebook</a>'\n",
              "          + ' to learn more about interactive tables.';\n",
              "        element.innerHTML = '';\n",
              "        dataTable['output_type'] = 'display_data';\n",
              "        await google.colab.output.renderOutput(dataTable, element);\n",
              "        const docLink = document.createElement('div');\n",
              "        docLink.innerHTML = docLinkHtml;\n",
              "        element.appendChild(docLink);\n",
              "      }\n",
              "    </script>\n",
              "  </div>\n",
              "\n",
              "\n",
              "<div id=\"df-64363b5e-555b-4321-952c-64f630631f24\">\n",
              "  <button class=\"colab-df-quickchart\" onclick=\"quickchart('df-64363b5e-555b-4321-952c-64f630631f24')\"\n",
              "            title=\"Suggest charts\"\n",
              "            style=\"display:none;\">\n",
              "\n",
              "<svg xmlns=\"http://www.w3.org/2000/svg\" height=\"24px\"viewBox=\"0 0 24 24\"\n",
              "     width=\"24px\">\n",
              "    <g>\n",
              "        <path d=\"M19 3H5c-1.1 0-2 .9-2 2v14c0 1.1.9 2 2 2h14c1.1 0 2-.9 2-2V5c0-1.1-.9-2-2-2zM9 17H7v-7h2v7zm4 0h-2V7h2v10zm4 0h-2v-4h2v4z\"/>\n",
              "    </g>\n",
              "</svg>\n",
              "  </button>\n",
              "\n",
              "<style>\n",
              "  .colab-df-quickchart {\n",
              "      --bg-color: #E8F0FE;\n",
              "      --fill-color: #1967D2;\n",
              "      --hover-bg-color: #E2EBFA;\n",
              "      --hover-fill-color: #174EA6;\n",
              "      --disabled-fill-color: #AAA;\n",
              "      --disabled-bg-color: #DDD;\n",
              "  }\n",
              "\n",
              "  [theme=dark] .colab-df-quickchart {\n",
              "      --bg-color: #3B4455;\n",
              "      --fill-color: #D2E3FC;\n",
              "      --hover-bg-color: #434B5C;\n",
              "      --hover-fill-color: #FFFFFF;\n",
              "      --disabled-bg-color: #3B4455;\n",
              "      --disabled-fill-color: #666;\n",
              "  }\n",
              "\n",
              "  .colab-df-quickchart {\n",
              "    background-color: var(--bg-color);\n",
              "    border: none;\n",
              "    border-radius: 50%;\n",
              "    cursor: pointer;\n",
              "    display: none;\n",
              "    fill: var(--fill-color);\n",
              "    height: 32px;\n",
              "    padding: 0;\n",
              "    width: 32px;\n",
              "  }\n",
              "\n",
              "  .colab-df-quickchart:hover {\n",
              "    background-color: var(--hover-bg-color);\n",
              "    box-shadow: 0 1px 2px rgba(60, 64, 67, 0.3), 0 1px 3px 1px rgba(60, 64, 67, 0.15);\n",
              "    fill: var(--button-hover-fill-color);\n",
              "  }\n",
              "\n",
              "  .colab-df-quickchart-complete:disabled,\n",
              "  .colab-df-quickchart-complete:disabled:hover {\n",
              "    background-color: var(--disabled-bg-color);\n",
              "    fill: var(--disabled-fill-color);\n",
              "    box-shadow: none;\n",
              "  }\n",
              "\n",
              "  .colab-df-spinner {\n",
              "    border: 2px solid var(--fill-color);\n",
              "    border-color: transparent;\n",
              "    border-bottom-color: var(--fill-color);\n",
              "    animation:\n",
              "      spin 1s steps(1) infinite;\n",
              "  }\n",
              "\n",
              "  @keyframes spin {\n",
              "    0% {\n",
              "      border-color: transparent;\n",
              "      border-bottom-color: var(--fill-color);\n",
              "      border-left-color: var(--fill-color);\n",
              "    }\n",
              "    20% {\n",
              "      border-color: transparent;\n",
              "      border-left-color: var(--fill-color);\n",
              "      border-top-color: var(--fill-color);\n",
              "    }\n",
              "    30% {\n",
              "      border-color: transparent;\n",
              "      border-left-color: var(--fill-color);\n",
              "      border-top-color: var(--fill-color);\n",
              "      border-right-color: var(--fill-color);\n",
              "    }\n",
              "    40% {\n",
              "      border-color: transparent;\n",
              "      border-right-color: var(--fill-color);\n",
              "      border-top-color: var(--fill-color);\n",
              "    }\n",
              "    60% {\n",
              "      border-color: transparent;\n",
              "      border-right-color: var(--fill-color);\n",
              "    }\n",
              "    80% {\n",
              "      border-color: transparent;\n",
              "      border-right-color: var(--fill-color);\n",
              "      border-bottom-color: var(--fill-color);\n",
              "    }\n",
              "    90% {\n",
              "      border-color: transparent;\n",
              "      border-bottom-color: var(--fill-color);\n",
              "    }\n",
              "  }\n",
              "</style>\n",
              "\n",
              "  <script>\n",
              "    async function quickchart(key) {\n",
              "      const quickchartButtonEl =\n",
              "        document.querySelector('#' + key + ' button');\n",
              "      quickchartButtonEl.disabled = true;  // To prevent multiple clicks.\n",
              "      quickchartButtonEl.classList.add('colab-df-spinner');\n",
              "      try {\n",
              "        const charts = await google.colab.kernel.invokeFunction(\n",
              "            'suggestCharts', [key], {});\n",
              "      } catch (error) {\n",
              "        console.error('Error during call to suggestCharts:', error);\n",
              "      }\n",
              "      quickchartButtonEl.classList.remove('colab-df-spinner');\n",
              "      quickchartButtonEl.classList.add('colab-df-quickchart-complete');\n",
              "    }\n",
              "    (() => {\n",
              "      let quickchartButtonEl =\n",
              "        document.querySelector('#df-64363b5e-555b-4321-952c-64f630631f24 button');\n",
              "      quickchartButtonEl.style.display =\n",
              "        google.colab.kernel.accessAllowed ? 'block' : 'none';\n",
              "    })();\n",
              "  </script>\n",
              "</div>\n",
              "\n",
              "  <div id=\"id_b2f39c97-df0b-4fb7-88f3-eb19368e59a5\">\n",
              "    <style>\n",
              "      .colab-df-generate {\n",
              "        background-color: #E8F0FE;\n",
              "        border: none;\n",
              "        border-radius: 50%;\n",
              "        cursor: pointer;\n",
              "        display: none;\n",
              "        fill: #1967D2;\n",
              "        height: 32px;\n",
              "        padding: 0 0 0 0;\n",
              "        width: 32px;\n",
              "      }\n",
              "\n",
              "      .colab-df-generate:hover {\n",
              "        background-color: #E2EBFA;\n",
              "        box-shadow: 0px 1px 2px rgba(60, 64, 67, 0.3), 0px 1px 3px 1px rgba(60, 64, 67, 0.15);\n",
              "        fill: #174EA6;\n",
              "      }\n",
              "\n",
              "      [theme=dark] .colab-df-generate {\n",
              "        background-color: #3B4455;\n",
              "        fill: #D2E3FC;\n",
              "      }\n",
              "\n",
              "      [theme=dark] .colab-df-generate:hover {\n",
              "        background-color: #434B5C;\n",
              "        box-shadow: 0px 1px 3px 1px rgba(0, 0, 0, 0.15);\n",
              "        filter: drop-shadow(0px 1px 2px rgba(0, 0, 0, 0.3));\n",
              "        fill: #FFFFFF;\n",
              "      }\n",
              "    </style>\n",
              "    <button class=\"colab-df-generate\" onclick=\"generateWithVariable('train')\"\n",
              "            title=\"Generate code using this dataframe.\"\n",
              "            style=\"display:none;\">\n",
              "\n",
              "  <svg xmlns=\"http://www.w3.org/2000/svg\" height=\"24px\"viewBox=\"0 0 24 24\"\n",
              "       width=\"24px\">\n",
              "    <path d=\"M7,19H8.4L18.45,9,17,7.55,7,17.6ZM5,21V16.75L18.45,3.32a2,2,0,0,1,2.83,0l1.4,1.43a1.91,1.91,0,0,1,.58,1.4,1.91,1.91,0,0,1-.58,1.4L9.25,21ZM18.45,9,17,7.55Zm-12,3A5.31,5.31,0,0,0,4.9,8.1,5.31,5.31,0,0,0,1,6.5,5.31,5.31,0,0,0,4.9,4.9,5.31,5.31,0,0,0,6.5,1,5.31,5.31,0,0,0,8.1,4.9,5.31,5.31,0,0,0,12,6.5,5.46,5.46,0,0,0,6.5,12Z\"/>\n",
              "  </svg>\n",
              "    </button>\n",
              "    <script>\n",
              "      (() => {\n",
              "      const buttonEl =\n",
              "        document.querySelector('#id_b2f39c97-df0b-4fb7-88f3-eb19368e59a5 button.colab-df-generate');\n",
              "      buttonEl.style.display =\n",
              "        google.colab.kernel.accessAllowed ? 'block' : 'none';\n",
              "\n",
              "      buttonEl.onclick = () => {\n",
              "        google.colab.notebook.generateWithVariable('train');\n",
              "      }\n",
              "      })();\n",
              "    </script>\n",
              "  </div>\n",
              "\n",
              "    </div>\n",
              "  </div>\n"
            ]
          },
          "metadata": {},
          "execution_count": 75
        }
      ]
    },
    {
      "cell_type": "code",
      "source": [
        "train['text'][235]"
      ],
      "metadata": {
        "colab": {
          "base_uri": "https://localhost:8080/",
          "height": 144
        },
        "id": "F29Wv-HAPWfm",
        "outputId": "653d556a-f8ef-4970-f233-4aa672d373b8"
      },
      "execution_count": null,
      "outputs": [
        {
          "output_type": "execute_result",
          "data": {
            "text/plain": [
              "'國道10後，那裏的水路被切斷了，之後再改道也是無法順利排水。局長，這個問題你應該也非常深入去了解了，為了這件事，我相信市府水利局所有同仁也非常用心的投入，我也請教過你們局內的同仁，唯一能夠解決的就是…，你看這裡的排水口也是流到澄觀路橋下的曹公圳，因為地勢高低的關係，所以排水口的地勢已經非常低了，譬如遇到初一或十五海水漲潮的時候，水淹上來到曹公圳的橋下，出水口就已經滿了，所以水就會倒灌上來，所以鳳仁路和澄觀路的橋下，每年只要下大雨就會淹水、積水，要改善的是如何去攔截上面的排水。在高爾夫球場上方有一塊台糖土地，剛好在澄觀路的路旁，是不是可以在那裏蓋一座滯洪池，把雨水先收集起來就不會再淹水，你看!這裡是鳳仁路和澄觀路交叉路口，旁邊球場的水整個宣洩下來就會積淹水、倒灌，沒有流向中南橋，因為中南橋地勢比較高，它是流向地勢比較低的鳳仁路，整個水都淤積在這裡，這裡又是出水口，因為地勢高的關係，水滿了就會倒灌。所以最好的一個辦法，這裡是台糖地，我記得市長擔任行政院副院長的時候，行政院經濟部也有通過一個法令，只要地方政府需要開闢滯洪池來治水的，台糖土地可以提供無償使用，所以這一個地方是不是可以開闢蓋一座滯洪池，請市長簡單回答。'"
            ],
            "application/vnd.google.colaboratory.intrinsic+json": {
              "type": "string"
            }
          },
          "metadata": {},
          "execution_count": 76
        }
      ]
    },
    {
      "cell_type": "code",
      "source": [
        "train = train.drop(\"wordlen\", axis=1)"
      ],
      "metadata": {
        "id": "8cFCjcTb09BR"
      },
      "execution_count": null,
      "outputs": []
    },
    {
      "cell_type": "code",
      "source": [
        "target_labels= [col for col in train.columns if train[col].dtypes == 'int64']\n",
        "target_labels"
      ],
      "metadata": {
        "execution": {
          "iopub.status.busy": "2023-11-21T04:31:33.204299Z",
          "iopub.execute_input": "2023-11-21T04:31:33.204632Z",
          "iopub.status.idle": "2023-11-21T04:31:33.216347Z",
          "shell.execute_reply.started": "2023-11-21T04:31:33.204593Z",
          "shell.execute_reply": "2023-11-21T04:31:33.215517Z"
        },
        "trusted": true,
        "colab": {
          "base_uri": "https://localhost:8080/"
        },
        "id": "kXpFL8kE5KGj",
        "outputId": "d20245ec-da7b-412e-a44d-6c2857e10a5e"
      },
      "execution_count": null,
      "outputs": [
        {
          "output_type": "execute_result",
          "data": {
            "text/plain": [
              "['information', 'justification', 'change', 'sanctions']"
            ]
          },
          "metadata": {},
          "execution_count": 78
        }
      ]
    },
    {
      "cell_type": "markdown",
      "source": [
        "# Visualizing the Category of Dataset"
      ],
      "metadata": {
        "id": "dcp8Zv0K5KGk"
      }
    },
    {
      "cell_type": "code",
      "source": [
        "comments=train['text'].to_list()\n",
        "comments[:5]"
      ],
      "metadata": {
        "execution": {
          "iopub.status.busy": "2023-11-21T04:31:33.217495Z",
          "iopub.execute_input": "2023-11-21T04:31:33.217819Z",
          "iopub.status.idle": "2023-11-21T04:31:33.231419Z",
          "shell.execute_reply.started": "2023-11-21T04:31:33.217788Z",
          "shell.execute_reply": "2023-11-21T04:31:33.230643Z"
        },
        "trusted": true,
        "colab": {
          "base_uri": "https://localhost:8080/"
        },
        "id": "QtpwVD8P5KGl",
        "outputId": "4e31e688-77ea-4865-8736-ca7f44196539"
      },
      "execution_count": null,
      "outputs": [
        {
          "output_type": "execute_result",
          "data": {
            "text/plain": [
              "['但是有一件事情，本席感覺處理上還是非常的不妥，就是張顯耀違規施打疫苗事件。在這個事件裡面，雖然張顯耀先生他本身的做法是不對的，但是大家有沒有去思考為什麼張顯耀先生會去做這一件事情?為什麼他會去違規施打疫苗?最重要的就是我們的疫苗不足造成搶打的恐慌，因為每個人感受是不一樣，有些人感受到他的生命會造成很大的威脅，而保護市民生命財產的安全是我們政府的首要責任，所以針對這個事情，我想市府不能只是開罰而已，你要認真的去檢討，為什麼張顯耀先生會做這件事情?我相信今天也不是張顯耀先生會做件事情而已，絕對非常的多。所以針對這件事情，我還是請市長回應一下，你的感覺是如何?請市長回答。',\n",
              " '好，謝謝市長。我相信假如今天疫苗夠的話，今天也不會產生這麼大的一個問題出來，也沒有類似這種案件出來，所以整個國家的整體疫苗政策確實造成民眾非常大的恐慌，在這一波疫情每個人的感受是不一樣，而且台灣的感染死亡率相對全世界是最高的。有的人雖然恐慌，但是他可以等疫苗，而有些人恐慌的感覺不一樣，也許可能明天就會感染死亡，在他內心深處相對地非常的恐慌，所以本席絕對相信會去違規施打的人絕對非常的多，如果按照我們市府團隊的標準，包括張顯耀先生目前也不是擔任公職，他現在是一個平民老百姓。',\n",
              " '針對一個平民老百姓都可以如此的對待，所以希望市府團隊對於高雄市的團隊，以及公職人員及其親屬的施打日期應該公布出來，讓全民共同來檢視。為什麼要全民共同來檢視?尤其5、6月份，大家都知道，我們可以針對5、6月份來共同檢視這些名單，尤其這一波的疫情，防疫人員相對地非常的重要，5、6月剛好是一個高峰，所以第一類跟第二類的所有醫護人員，還有疫調人員絕對是最先要去施打。所以本席建議市長是不是針對所有的公職人員也好，市府團隊也好，絕對要公布，包括調查他是不是在5、6月來施打的?把這些名單公布出來。我想做任何事情只有自清才能取得人民共同的信任。針對這個部分，請問市長有沒有辦法?請市長回答。',\n",
              " '市長、市長…。',\n",
              " '我不是質疑這個部分。']"
            ]
          },
          "metadata": {},
          "execution_count": 79
        }
      ]
    },
    {
      "cell_type": "code",
      "source": [
        "train[target_labels].sum()"
      ],
      "metadata": {
        "execution": {
          "iopub.status.busy": "2023-11-21T04:31:33.232458Z",
          "iopub.execute_input": "2023-11-21T04:31:33.232780Z",
          "iopub.status.idle": "2023-11-21T04:31:33.274042Z",
          "shell.execute_reply.started": "2023-11-21T04:31:33.232757Z",
          "shell.execute_reply": "2023-11-21T04:31:33.273139Z"
        },
        "trusted": true,
        "colab": {
          "base_uri": "https://localhost:8080/"
        },
        "id": "k-xv1_3u5KGm",
        "outputId": "fbf26949-c9e3-4fbb-e33a-0943fc7d0bcd"
      },
      "execution_count": null,
      "outputs": [
        {
          "output_type": "execute_result",
          "data": {
            "text/plain": [
              "information      3373\n",
              "justification    4907\n",
              "change           3996\n",
              "sanctions         874\n",
              "dtype: int64"
            ]
          },
          "metadata": {},
          "execution_count": 80
        }
      ]
    },
    {
      "cell_type": "code",
      "source": [
        "# Calculate the value counts for each target label\n",
        "value_counts = train[target_labels].sum()\n",
        "\n",
        "# Add the count for the \"neither\" category (where all target labels are 0)\n",
        "value_counts['No label'] = len(train) - value_counts.sum()\n",
        "\n",
        "fig =px.bar(x= value_counts.index,\n",
        "            y= value_counts.values,\n",
        "            color=value_counts.index,\n",
        "            color_discrete_sequence =  px.colors.qualitative.Dark24_r,\n",
        "            title='<b>Counts of Target Labels')\n",
        "\n",
        "fig.update_layout(title='Counts of Target Labels',\n",
        "                  xaxis_title='Toxicity Labels',\n",
        "                  yaxis_title='Counts',\n",
        "                  template='plotly_dark')\n",
        "\n",
        "# Show the bar chart\n",
        "fig.show()\n",
        "pyo.plot(fig, filename = 'Counts of Target Labels.html', auto_open = True)"
      ],
      "metadata": {
        "execution": {
          "iopub.status.busy": "2023-11-21T04:31:33.278419Z",
          "iopub.execute_input": "2023-11-21T04:31:33.278709Z",
          "iopub.status.idle": "2023-11-21T04:31:34.795457Z",
          "shell.execute_reply.started": "2023-11-21T04:31:33.278684Z",
          "shell.execute_reply": "2023-11-21T04:31:34.794425Z"
        },
        "trusted": true,
        "colab": {
          "base_uri": "https://localhost:8080/",
          "height": 561
        },
        "id": "iHbMboQu5KG3",
        "outputId": "4100384c-7e2e-47bd-f548-c5c77aa1b428"
      },
      "execution_count": null,
      "outputs": [
        {
          "output_type": "display_data",
          "data": {
            "text/html": [
              "<html>\n",
              "<head><meta charset=\"utf-8\" /></head>\n",
              "<body>\n",
              "    <div>            <script src=\"https://cdnjs.cloudflare.com/ajax/libs/mathjax/2.7.5/MathJax.js?config=TeX-AMS-MML_SVG\"></script><script type=\"text/javascript\">if (window.MathJax && window.MathJax.Hub && window.MathJax.Hub.Config) {window.MathJax.Hub.Config({SVG: {font: \"STIX-Web\"}});}</script>                <script type=\"text/javascript\">window.PlotlyConfig = {MathJaxConfig: 'local'};</script>\n",
              "        <script charset=\"utf-8\" src=\"https://cdn.plot.ly/plotly-2.24.1.min.js\"></script>                <div id=\"ada3de59-cc92-4028-8b41-9cd5ad668194\" class=\"plotly-graph-div\" style=\"height:525px; width:100%;\"></div>            <script type=\"text/javascript\">                                    window.PLOTLYENV=window.PLOTLYENV || {};                                    if (document.getElementById(\"ada3de59-cc92-4028-8b41-9cd5ad668194\")) {                    Plotly.newPlot(                        \"ada3de59-cc92-4028-8b41-9cd5ad668194\",                        [{\"alignmentgroup\":\"True\",\"hovertemplate\":\"color=information\\u003cbr\\u003ex=%{x}\\u003cbr\\u003ey=%{y}\\u003cextra\\u003e\\u003c\\u002fextra\\u003e\",\"legendgroup\":\"information\",\"marker\":{\"color\":\"#AF0038\",\"pattern\":{\"shape\":\"\"}},\"name\":\"information\",\"offsetgroup\":\"information\",\"orientation\":\"v\",\"showlegend\":true,\"textposition\":\"auto\",\"x\":[\"information\"],\"xaxis\":\"x\",\"y\":[3373],\"yaxis\":\"y\",\"type\":\"bar\"},{\"alignmentgroup\":\"True\",\"hovertemplate\":\"color=justification\\u003cbr\\u003ex=%{x}\\u003cbr\\u003ey=%{y}\\u003cextra\\u003e\\u003c\\u002fextra\\u003e\",\"legendgroup\":\"justification\",\"marker\":{\"color\":\"#0D2A63\",\"pattern\":{\"shape\":\"\"}},\"name\":\"justification\",\"offsetgroup\":\"justification\",\"orientation\":\"v\",\"showlegend\":true,\"textposition\":\"auto\",\"x\":[\"justification\"],\"xaxis\":\"x\",\"y\":[4907],\"yaxis\":\"y\",\"type\":\"bar\"},{\"alignmentgroup\":\"True\",\"hovertemplate\":\"color=change\\u003cbr\\u003ex=%{x}\\u003cbr\\u003ey=%{y}\\u003cextra\\u003e\\u003c\\u002fextra\\u003e\",\"legendgroup\":\"change\",\"marker\":{\"color\":\"#6C4516\",\"pattern\":{\"shape\":\"\"}},\"name\":\"change\",\"offsetgroup\":\"change\",\"orientation\":\"v\",\"showlegend\":true,\"textposition\":\"auto\",\"x\":[\"change\"],\"xaxis\":\"x\",\"y\":[3996],\"yaxis\":\"y\",\"type\":\"bar\"},{\"alignmentgroup\":\"True\",\"hovertemplate\":\"color=sanctions\\u003cbr\\u003ex=%{x}\\u003cbr\\u003ey=%{y}\\u003cextra\\u003e\\u003c\\u002fextra\\u003e\",\"legendgroup\":\"sanctions\",\"marker\":{\"color\":\"#DA60CA\",\"pattern\":{\"shape\":\"\"}},\"name\":\"sanctions\",\"offsetgroup\":\"sanctions\",\"orientation\":\"v\",\"showlegend\":true,\"textposition\":\"auto\",\"x\":[\"sanctions\"],\"xaxis\":\"x\",\"y\":[874],\"yaxis\":\"y\",\"type\":\"bar\"},{\"alignmentgroup\":\"True\",\"hovertemplate\":\"color=No label\\u003cbr\\u003ex=%{x}\\u003cbr\\u003ey=%{y}\\u003cextra\\u003e\\u003c\\u002fextra\\u003e\",\"legendgroup\":\"No label\",\"marker\":{\"color\":\"#1616A7\",\"pattern\":{\"shape\":\"\"}},\"name\":\"No label\",\"offsetgroup\":\"No label\",\"orientation\":\"v\",\"showlegend\":true,\"textposition\":\"auto\",\"x\":[\"No label\"],\"xaxis\":\"x\",\"y\":[-3100],\"yaxis\":\"y\",\"type\":\"bar\"}],                        {\"template\":{\"data\":{\"barpolar\":[{\"marker\":{\"line\":{\"color\":\"rgb(17,17,17)\",\"width\":0.5},\"pattern\":{\"fillmode\":\"overlay\",\"size\":10,\"solidity\":0.2}},\"type\":\"barpolar\"}],\"bar\":[{\"error_x\":{\"color\":\"#f2f5fa\"},\"error_y\":{\"color\":\"#f2f5fa\"},\"marker\":{\"line\":{\"color\":\"rgb(17,17,17)\",\"width\":0.5},\"pattern\":{\"fillmode\":\"overlay\",\"size\":10,\"solidity\":0.2}},\"type\":\"bar\"}],\"carpet\":[{\"aaxis\":{\"endlinecolor\":\"#A2B1C6\",\"gridcolor\":\"#506784\",\"linecolor\":\"#506784\",\"minorgridcolor\":\"#506784\",\"startlinecolor\":\"#A2B1C6\"},\"baxis\":{\"endlinecolor\":\"#A2B1C6\",\"gridcolor\":\"#506784\",\"linecolor\":\"#506784\",\"minorgridcolor\":\"#506784\",\"startlinecolor\":\"#A2B1C6\"},\"type\":\"carpet\"}],\"choropleth\":[{\"colorbar\":{\"outlinewidth\":0,\"ticks\":\"\"},\"type\":\"choropleth\"}],\"contourcarpet\":[{\"colorbar\":{\"outlinewidth\":0,\"ticks\":\"\"},\"type\":\"contourcarpet\"}],\"contour\":[{\"colorbar\":{\"outlinewidth\":0,\"ticks\":\"\"},\"colorscale\":[[0.0,\"#0d0887\"],[0.1111111111111111,\"#46039f\"],[0.2222222222222222,\"#7201a8\"],[0.3333333333333333,\"#9c179e\"],[0.4444444444444444,\"#bd3786\"],[0.5555555555555556,\"#d8576b\"],[0.6666666666666666,\"#ed7953\"],[0.7777777777777778,\"#fb9f3a\"],[0.8888888888888888,\"#fdca26\"],[1.0,\"#f0f921\"]],\"type\":\"contour\"}],\"heatmapgl\":[{\"colorbar\":{\"outlinewidth\":0,\"ticks\":\"\"},\"colorscale\":[[0.0,\"#0d0887\"],[0.1111111111111111,\"#46039f\"],[0.2222222222222222,\"#7201a8\"],[0.3333333333333333,\"#9c179e\"],[0.4444444444444444,\"#bd3786\"],[0.5555555555555556,\"#d8576b\"],[0.6666666666666666,\"#ed7953\"],[0.7777777777777778,\"#fb9f3a\"],[0.8888888888888888,\"#fdca26\"],[1.0,\"#f0f921\"]],\"type\":\"heatmapgl\"}],\"heatmap\":[{\"colorbar\":{\"outlinewidth\":0,\"ticks\":\"\"},\"colorscale\":[[0.0,\"#0d0887\"],[0.1111111111111111,\"#46039f\"],[0.2222222222222222,\"#7201a8\"],[0.3333333333333333,\"#9c179e\"],[0.4444444444444444,\"#bd3786\"],[0.5555555555555556,\"#d8576b\"],[0.6666666666666666,\"#ed7953\"],[0.7777777777777778,\"#fb9f3a\"],[0.8888888888888888,\"#fdca26\"],[1.0,\"#f0f921\"]],\"type\":\"heatmap\"}],\"histogram2dcontour\":[{\"colorbar\":{\"outlinewidth\":0,\"ticks\":\"\"},\"colorscale\":[[0.0,\"#0d0887\"],[0.1111111111111111,\"#46039f\"],[0.2222222222222222,\"#7201a8\"],[0.3333333333333333,\"#9c179e\"],[0.4444444444444444,\"#bd3786\"],[0.5555555555555556,\"#d8576b\"],[0.6666666666666666,\"#ed7953\"],[0.7777777777777778,\"#fb9f3a\"],[0.8888888888888888,\"#fdca26\"],[1.0,\"#f0f921\"]],\"type\":\"histogram2dcontour\"}],\"histogram2d\":[{\"colorbar\":{\"outlinewidth\":0,\"ticks\":\"\"},\"colorscale\":[[0.0,\"#0d0887\"],[0.1111111111111111,\"#46039f\"],[0.2222222222222222,\"#7201a8\"],[0.3333333333333333,\"#9c179e\"],[0.4444444444444444,\"#bd3786\"],[0.5555555555555556,\"#d8576b\"],[0.6666666666666666,\"#ed7953\"],[0.7777777777777778,\"#fb9f3a\"],[0.8888888888888888,\"#fdca26\"],[1.0,\"#f0f921\"]],\"type\":\"histogram2d\"}],\"histogram\":[{\"marker\":{\"pattern\":{\"fillmode\":\"overlay\",\"size\":10,\"solidity\":0.2}},\"type\":\"histogram\"}],\"mesh3d\":[{\"colorbar\":{\"outlinewidth\":0,\"ticks\":\"\"},\"type\":\"mesh3d\"}],\"parcoords\":[{\"line\":{\"colorbar\":{\"outlinewidth\":0,\"ticks\":\"\"}},\"type\":\"parcoords\"}],\"pie\":[{\"automargin\":true,\"type\":\"pie\"}],\"scatter3d\":[{\"line\":{\"colorbar\":{\"outlinewidth\":0,\"ticks\":\"\"}},\"marker\":{\"colorbar\":{\"outlinewidth\":0,\"ticks\":\"\"}},\"type\":\"scatter3d\"}],\"scattercarpet\":[{\"marker\":{\"colorbar\":{\"outlinewidth\":0,\"ticks\":\"\"}},\"type\":\"scattercarpet\"}],\"scattergeo\":[{\"marker\":{\"colorbar\":{\"outlinewidth\":0,\"ticks\":\"\"}},\"type\":\"scattergeo\"}],\"scattergl\":[{\"marker\":{\"line\":{\"color\":\"#283442\"}},\"type\":\"scattergl\"}],\"scattermapbox\":[{\"marker\":{\"colorbar\":{\"outlinewidth\":0,\"ticks\":\"\"}},\"type\":\"scattermapbox\"}],\"scatterpolargl\":[{\"marker\":{\"colorbar\":{\"outlinewidth\":0,\"ticks\":\"\"}},\"type\":\"scatterpolargl\"}],\"scatterpolar\":[{\"marker\":{\"colorbar\":{\"outlinewidth\":0,\"ticks\":\"\"}},\"type\":\"scatterpolar\"}],\"scatter\":[{\"marker\":{\"line\":{\"color\":\"#283442\"}},\"type\":\"scatter\"}],\"scatterternary\":[{\"marker\":{\"colorbar\":{\"outlinewidth\":0,\"ticks\":\"\"}},\"type\":\"scatterternary\"}],\"surface\":[{\"colorbar\":{\"outlinewidth\":0,\"ticks\":\"\"},\"colorscale\":[[0.0,\"#0d0887\"],[0.1111111111111111,\"#46039f\"],[0.2222222222222222,\"#7201a8\"],[0.3333333333333333,\"#9c179e\"],[0.4444444444444444,\"#bd3786\"],[0.5555555555555556,\"#d8576b\"],[0.6666666666666666,\"#ed7953\"],[0.7777777777777778,\"#fb9f3a\"],[0.8888888888888888,\"#fdca26\"],[1.0,\"#f0f921\"]],\"type\":\"surface\"}],\"table\":[{\"cells\":{\"fill\":{\"color\":\"#506784\"},\"line\":{\"color\":\"rgb(17,17,17)\"}},\"header\":{\"fill\":{\"color\":\"#2a3f5f\"},\"line\":{\"color\":\"rgb(17,17,17)\"}},\"type\":\"table\"}]},\"layout\":{\"annotationdefaults\":{\"arrowcolor\":\"#f2f5fa\",\"arrowhead\":0,\"arrowwidth\":1},\"autotypenumbers\":\"strict\",\"coloraxis\":{\"colorbar\":{\"outlinewidth\":0,\"ticks\":\"\"}},\"colorscale\":{\"diverging\":[[0,\"#8e0152\"],[0.1,\"#c51b7d\"],[0.2,\"#de77ae\"],[0.3,\"#f1b6da\"],[0.4,\"#fde0ef\"],[0.5,\"#f7f7f7\"],[0.6,\"#e6f5d0\"],[0.7,\"#b8e186\"],[0.8,\"#7fbc41\"],[0.9,\"#4d9221\"],[1,\"#276419\"]],\"sequential\":[[0.0,\"#0d0887\"],[0.1111111111111111,\"#46039f\"],[0.2222222222222222,\"#7201a8\"],[0.3333333333333333,\"#9c179e\"],[0.4444444444444444,\"#bd3786\"],[0.5555555555555556,\"#d8576b\"],[0.6666666666666666,\"#ed7953\"],[0.7777777777777778,\"#fb9f3a\"],[0.8888888888888888,\"#fdca26\"],[1.0,\"#f0f921\"]],\"sequentialminus\":[[0.0,\"#0d0887\"],[0.1111111111111111,\"#46039f\"],[0.2222222222222222,\"#7201a8\"],[0.3333333333333333,\"#9c179e\"],[0.4444444444444444,\"#bd3786\"],[0.5555555555555556,\"#d8576b\"],[0.6666666666666666,\"#ed7953\"],[0.7777777777777778,\"#fb9f3a\"],[0.8888888888888888,\"#fdca26\"],[1.0,\"#f0f921\"]]},\"colorway\":[\"#636efa\",\"#EF553B\",\"#00cc96\",\"#ab63fa\",\"#FFA15A\",\"#19d3f3\",\"#FF6692\",\"#B6E880\",\"#FF97FF\",\"#FECB52\"],\"font\":{\"color\":\"#f2f5fa\"},\"geo\":{\"bgcolor\":\"rgb(17,17,17)\",\"lakecolor\":\"rgb(17,17,17)\",\"landcolor\":\"rgb(17,17,17)\",\"showlakes\":true,\"showland\":true,\"subunitcolor\":\"#506784\"},\"hoverlabel\":{\"align\":\"left\"},\"hovermode\":\"closest\",\"mapbox\":{\"style\":\"dark\"},\"paper_bgcolor\":\"rgb(17,17,17)\",\"plot_bgcolor\":\"rgb(17,17,17)\",\"polar\":{\"angularaxis\":{\"gridcolor\":\"#506784\",\"linecolor\":\"#506784\",\"ticks\":\"\"},\"bgcolor\":\"rgb(17,17,17)\",\"radialaxis\":{\"gridcolor\":\"#506784\",\"linecolor\":\"#506784\",\"ticks\":\"\"}},\"scene\":{\"xaxis\":{\"backgroundcolor\":\"rgb(17,17,17)\",\"gridcolor\":\"#506784\",\"gridwidth\":2,\"linecolor\":\"#506784\",\"showbackground\":true,\"ticks\":\"\",\"zerolinecolor\":\"#C8D4E3\"},\"yaxis\":{\"backgroundcolor\":\"rgb(17,17,17)\",\"gridcolor\":\"#506784\",\"gridwidth\":2,\"linecolor\":\"#506784\",\"showbackground\":true,\"ticks\":\"\",\"zerolinecolor\":\"#C8D4E3\"},\"zaxis\":{\"backgroundcolor\":\"rgb(17,17,17)\",\"gridcolor\":\"#506784\",\"gridwidth\":2,\"linecolor\":\"#506784\",\"showbackground\":true,\"ticks\":\"\",\"zerolinecolor\":\"#C8D4E3\"}},\"shapedefaults\":{\"line\":{\"color\":\"#f2f5fa\"}},\"sliderdefaults\":{\"bgcolor\":\"#C8D4E3\",\"bordercolor\":\"rgb(17,17,17)\",\"borderwidth\":1,\"tickwidth\":0},\"ternary\":{\"aaxis\":{\"gridcolor\":\"#506784\",\"linecolor\":\"#506784\",\"ticks\":\"\"},\"baxis\":{\"gridcolor\":\"#506784\",\"linecolor\":\"#506784\",\"ticks\":\"\"},\"bgcolor\":\"rgb(17,17,17)\",\"caxis\":{\"gridcolor\":\"#506784\",\"linecolor\":\"#506784\",\"ticks\":\"\"}},\"title\":{\"x\":0.05},\"updatemenudefaults\":{\"bgcolor\":\"#506784\",\"borderwidth\":0},\"xaxis\":{\"automargin\":true,\"gridcolor\":\"#283442\",\"linecolor\":\"#506784\",\"ticks\":\"\",\"title\":{\"standoff\":15},\"zerolinecolor\":\"#283442\",\"zerolinewidth\":2},\"yaxis\":{\"automargin\":true,\"gridcolor\":\"#283442\",\"linecolor\":\"#506784\",\"ticks\":\"\",\"title\":{\"standoff\":15},\"zerolinecolor\":\"#283442\",\"zerolinewidth\":2}}},\"xaxis\":{\"anchor\":\"y\",\"domain\":[0.0,1.0],\"title\":{\"text\":\"Toxicity Labels\"}},\"yaxis\":{\"anchor\":\"x\",\"domain\":[0.0,1.0],\"title\":{\"text\":\"Counts\"}},\"legend\":{\"title\":{\"text\":\"color\"},\"tracegroupgap\":0},\"title\":{\"text\":\"Counts of Target Labels\"},\"barmode\":\"relative\"},                        {\"responsive\": true}                    ).then(function(){\n",
              "                            \n",
              "var gd = document.getElementById('ada3de59-cc92-4028-8b41-9cd5ad668194');\n",
              "var x = new MutationObserver(function (mutations, observer) {{\n",
              "        var display = window.getComputedStyle(gd).display;\n",
              "        if (!display || display === 'none') {{\n",
              "            console.log([gd, 'removed!']);\n",
              "            Plotly.purge(gd);\n",
              "            observer.disconnect();\n",
              "        }}\n",
              "}});\n",
              "\n",
              "// Listen for the removal of the full notebook cells\n",
              "var notebookContainer = gd.closest('#notebook-container');\n",
              "if (notebookContainer) {{\n",
              "    x.observe(notebookContainer, {childList: true});\n",
              "}}\n",
              "\n",
              "// Listen for the clearing of the current output cell\n",
              "var outputEl = gd.closest('.output');\n",
              "if (outputEl) {{\n",
              "    x.observe(outputEl, {childList: true});\n",
              "}}\n",
              "\n",
              "                        })                };                            </script>        </div>\n",
              "</body>\n",
              "</html>"
            ]
          },
          "metadata": {}
        },
        {
          "output_type": "execute_result",
          "data": {
            "text/plain": [
              "'Counts of Target Labels.html'"
            ],
            "application/vnd.google.colaboratory.intrinsic+json": {
              "type": "string"
            }
          },
          "metadata": {},
          "execution_count": 81
        }
      ]
    },
    {
      "cell_type": "code",
      "source": [
        "data = train[target_labels]"
      ],
      "metadata": {
        "execution": {
          "iopub.status.busy": "2023-11-21T04:31:34.797021Z",
          "iopub.execute_input": "2023-11-21T04:31:34.797451Z",
          "iopub.status.idle": "2023-11-21T04:31:34.805760Z",
          "shell.execute_reply.started": "2023-11-21T04:31:34.797415Z",
          "shell.execute_reply": "2023-11-21T04:31:34.804648Z"
        },
        "trusted": true,
        "id": "DpvjQRzi5KG4"
      },
      "execution_count": null,
      "outputs": []
    },
    {
      "cell_type": "code",
      "source": [
        "colormap = plt.cm.plasma\n",
        "plt.figure(figsize=(7,7))\n",
        "plt.title('Correlation of features & targets',y=1.05,size=14)\n",
        "sns.heatmap(data.astype(float).corr(),linewidths=0.1,vmax=1.0,square=True,cmap=colormap,\n",
        "           linecolor='white',annot=True)"
      ],
      "metadata": {
        "execution": {
          "iopub.status.busy": "2023-11-21T04:31:34.807147Z",
          "iopub.execute_input": "2023-11-21T04:31:34.808019Z",
          "iopub.status.idle": "2023-11-21T04:31:35.339709Z",
          "shell.execute_reply.started": "2023-11-21T04:31:34.807978Z",
          "shell.execute_reply": "2023-11-21T04:31:35.338728Z"
        },
        "trusted": true,
        "colab": {
          "base_uri": "https://localhost:8080/",
          "height": 599
        },
        "id": "vNKbJPGp5KG5",
        "outputId": "c5861eac-3f1c-4607-b09a-d2d0b7870a4a"
      },
      "execution_count": null,
      "outputs": [
        {
          "output_type": "execute_result",
          "data": {
            "text/plain": [
              "<Axes: title={'center': 'Correlation of features & targets'}>"
            ]
          },
          "metadata": {},
          "execution_count": 83
        },
        {
          "output_type": "display_data",
          "data": {
            "text/plain": [
              "<Figure size 700x700 with 2 Axes>"
            ],
            "image/png": "[encoded data removed]"
          },
          "metadata": {}
        }
      ]
    },
    {
      "cell_type": "markdown",
      "source": [
        "# Split the dataset into Train, Test and Validation"
      ],
      "metadata": {
        "id": "S5iDp6gZ5KG5"
      }
    },
    {
      "cell_type": "code",
      "source": [
        "# Split data into training, testing sets & validation sets\n",
        "Train_texts, Test_texts, Train_labels, Test_labels = train_test_split(\n",
        "    comments, train[target_labels].values, test_size=0.2, random_state=2023)\n",
        "\n",
        "#validation set\n",
        "test_texts, val_texts, test_labels, val_labels = train_test_split(\n",
        "    Test_texts, Test_labels, test_size=0.5, random_state=23)\n",
        "\n",
        "print('numbers of training Dataset ',len(Train_texts))\n",
        "print('numbers of testing Dataset',len(test_texts))\n",
        "print('numbers of validation Dataset',len(val_texts))"
      ],
      "metadata": {
        "execution": {
          "iopub.status.busy": "2023-11-21T04:31:35.340831Z",
          "iopub.execute_input": "2023-11-21T04:31:35.341098Z",
          "iopub.status.idle": "2023-11-21T04:31:35.428417Z",
          "shell.execute_reply.started": "2023-11-21T04:31:35.341075Z",
          "shell.execute_reply": "2023-11-21T04:31:35.427374Z"
        },
        "trusted": true,
        "colab": {
          "base_uri": "https://localhost:8080/"
        },
        "id": "_mlbnTCF5KG6",
        "outputId": "12d1cde9-fc8e-4acc-f93b-de3ac097bd14"
      },
      "execution_count": null,
      "outputs": [
        {
          "output_type": "stream",
          "name": "stdout",
          "text": [
            "numbers of training Dataset  8040\n",
            "numbers of testing Dataset 1005\n",
            "numbers of validation Dataset 1005\n"
          ]
        }
      ]
    },
    {
      "cell_type": "markdown",
      "source": [
        "# Fine-tune BERT Model for Multilabel Classification"
      ],
      "metadata": {
        "id": "5OOAqHnB5KG7"
      }
    },
    {
      "cell_type": "code",
      "source": [
        "def tokenize_and_encode(tokenizer, comments, labels, max_length=512):\n",
        "    # Initialize empty lists to store tokenized inputs and attention masks\n",
        "    input_ids = []\n",
        "    attention_masks = []\n",
        "\n",
        "    # Iterate through each comment in the 'comments' list\n",
        "    for comment in comments:\n",
        "        # Tokenize and encode the comment using the BERT tokenizer\n",
        "        encoded_dict = tokenizer.encode_plus(\n",
        "            comment,\n",
        "            add_special_tokens=True,\n",
        "            max_length=max_length,\n",
        "            pad_to_max_length=True,\n",
        "            return_attention_mask=True,\n",
        "            return_tensors='pt'\n",
        "        )\n",
        "\n",
        "        # Append the tokenized input and attention mask to their respective lists\n",
        "        input_ids.append(encoded_dict['input_ids'])\n",
        "        attention_masks.append(encoded_dict['attention_mask'])\n",
        "\n",
        "    # Convert the lists of tokenized inputs and attention masks to PyTorch tensors\n",
        "    input_ids = torch.cat(input_ids, dim=0)\n",
        "    attention_masks = torch.cat(attention_masks, dim=0)\n",
        "\n",
        "    # Convert the labels to a PyTorch tensor with the data type float32\n",
        "    labels = torch.tensor(labels, dtype=torch.float32)\n",
        "\n",
        "    # Return the tokenized inputs, attention masks, and labels as PyTorch tensors\n",
        "    return input_ids, attention_masks, labels"
      ],
      "metadata": {
        "execution": {
          "iopub.status.busy": "2023-11-21T04:34:42.230337Z",
          "iopub.execute_input": "2023-11-21T04:34:42.231395Z",
          "iopub.status.idle": "2023-11-21T04:34:42.239622Z",
          "shell.execute_reply.started": "2023-11-21T04:34:42.231361Z",
          "shell.execute_reply": "2023-11-21T04:34:42.238137Z"
        },
        "trusted": true,
        "id": "xJIIlwZ25KG7"
      },
      "execution_count": null,
      "outputs": []
    },
    {
      "cell_type": "code",
      "source": [
        "# Token Initialization\n",
        "tokenizer = BertTokenizer.from_pretrained('bert-base-chinese', do_lower_case=True)\n",
        "\n",
        "# Model Initialization\n",
        "model = BertForSequenceClassification.from_pretrained('bert-base-chinese', num_labels=4)"
      ],
      "metadata": {
        "execution": {
          "iopub.status.busy": "2023-11-21T04:34:46.870716Z",
          "iopub.execute_input": "2023-11-21T04:34:46.871163Z",
          "iopub.status.idle": "2023-11-21T04:34:48.092738Z",
          "shell.execute_reply.started": "2023-11-21T04:34:46.871126Z",
          "shell.execute_reply": "2023-11-21T04:34:48.092003Z"
        },
        "trusted": true,
        "colab": {
          "base_uri": "https://localhost:8080/"
        },
        "id": "_SFg0_6T5KG8",
        "outputId": "30b257ba-06f2-4720-b4d4-4fa3b1236415"
      },
      "execution_count": null,
      "outputs": [
        {
          "output_type": "stream",
          "name": "stderr",
          "text": [
            "Some weights of BertForSequenceClassification were not initialized from the model checkpoint at bert-base-chinese and are newly initialized: ['classifier.weight', 'classifier.bias']\n",
            "You should probably TRAIN this model on a down-stream task to be able to use it for predictions and inference.\n"
          ]
        }
      ]
    },
    {
      "cell_type": "code",
      "source": [
        "# Move model to GPU if available\n",
        "device = torch.device('cuda') if torch.cuda.is_available() else torch.device('cpu')\n",
        "print(device)\n",
        "\n",
        "model = model.to(device)"
      ],
      "metadata": {
        "execution": {
          "iopub.status.busy": "2023-11-21T04:31:39.492250Z",
          "iopub.execute_input": "2023-11-21T04:31:39.492539Z",
          "iopub.status.idle": "2023-11-21T04:31:44.763339Z",
          "shell.execute_reply.started": "2023-11-21T04:31:39.492513Z",
          "shell.execute_reply": "2023-11-21T04:31:44.762317Z"
        },
        "trusted": true,
        "colab": {
          "base_uri": "https://localhost:8080/"
        },
        "id": "bHjg5zcZ5KG8",
        "outputId": "848cb4c9-f097-4a2c-ce3d-421280f59182"
      },
      "execution_count": null,
      "outputs": [
        {
          "output_type": "stream",
          "name": "stdout",
          "text": [
            "cuda\n"
          ]
        }
      ]
    },
    {
      "cell_type": "code",
      "source": [
        "# Tokenize and Encode the comments and labels for the training set\n",
        "input_ids, attention_masks, labels = tokenize_and_encode(\n",
        "    tokenizer,\n",
        "    Train_texts,\n",
        "    Train_labels\n",
        ")\n",
        "\n",
        "# Step 4: Tokenize and Encode the comments and labels for the test set\n",
        "test_input_ids, test_attention_masks, test_labels = tokenize_and_encode(\n",
        "    tokenizer,\n",
        "    test_texts,\n",
        "    test_labels\n",
        ")\n",
        "\n",
        "# Tokenize and Encode the comments and labels for the validation set\n",
        "val_input_ids, val_attention_masks, val_labels = tokenize_and_encode(\n",
        "    tokenizer,\n",
        "    val_texts,\n",
        "    val_labels\n",
        ")"
      ],
      "metadata": {
        "execution": {
          "iopub.status.busy": "2023-11-21T04:34:51.074605Z",
          "iopub.execute_input": "2023-11-21T04:34:51.075496Z",
          "iopub.status.idle": "2023-11-21T04:41:03.546436Z",
          "shell.execute_reply.started": "2023-11-21T04:34:51.075463Z",
          "shell.execute_reply": "2023-11-21T04:41:03.545248Z"
        },
        "trusted": true,
        "colab": {
          "base_uri": "https://localhost:8080/"
        },
        "id": "1_xoBBAI5KG9",
        "outputId": "2fc1da9d-fdc4-45d3-ffce-bc53f7c740a6"
      },
      "execution_count": null,
      "outputs": [
        {
          "output_type": "stream",
          "name": "stderr",
          "text": [
            "Truncation was not explicitly activated but `max_length` is provided a specific value, please use `truncation=True` to explicitly truncate examples to max length. Defaulting to 'longest_first' truncation strategy. If you encode pairs of sequences (GLUE-style) with the tokenizer you can select this strategy more precisely by providing a specific strategy to `truncation`.\n",
            "/usr/local/lib/python3.10/dist-packages/transformers/tokenization_utils_base.py:2614: FutureWarning:\n",
            "\n",
            "The `pad_to_max_length` argument is deprecated and will be removed in a future version, use `padding=True` or `padding='longest'` to pad to the longest sequence in the batch, or use `padding='max_length'` to pad to a max length. In this case, you can give a specific length with `max_length` (e.g. `max_length=45`) or leave max_length to None to pad to the maximal input size of the model (e.g. 512 for Bert).\n",
            "\n"
          ]
        }
      ]
    },
    {
      "cell_type": "markdown",
      "source": [
        "## Creating DataLoaders for training dataset"
      ],
      "metadata": {
        "id": "UFhRA4dR5KG9"
      }
    },
    {
      "cell_type": "code",
      "source": [
        "# Creating DataLoader for the balanced dataset\n",
        "batch_size = 16\n",
        "train_dataset = TensorDataset(input_ids, attention_masks, labels)\n",
        "train_loader = DataLoader(train_dataset, batch_size=batch_size, shuffle=True)\n",
        "\n",
        "#test\n",
        "test_dataset = TensorDataset(test_input_ids, test_attention_masks, test_labels)\n",
        "test_loader = DataLoader(test_dataset, batch_size=batch_size, shuffle=False)\n",
        "\n",
        "#val\n",
        "val_dataset = TensorDataset(val_input_ids, val_attention_masks, val_labels)\n",
        "val_loader = DataLoader(val_dataset, batch_size=batch_size, shuffle=False)"
      ],
      "metadata": {
        "execution": {
          "iopub.status.busy": "2023-11-21T04:41:03.548490Z",
          "iopub.execute_input": "2023-11-21T04:41:03.549118Z",
          "iopub.status.idle": "2023-11-21T04:41:03.555308Z",
          "shell.execute_reply.started": "2023-11-21T04:41:03.549080Z",
          "shell.execute_reply": "2023-11-21T04:41:03.554224Z"
        },
        "trusted": true,
        "id": "qOV3t05p5KG-"
      },
      "execution_count": null,
      "outputs": []
    },
    {
      "cell_type": "code",
      "source": [
        "print('Batch Size :',train_loader.batch_size)\n",
        "Batch =next(iter(train_loader))\n",
        "print('Each Input ids shape :',Batch[0].shape)\n",
        "print('Input ids :\\n',Batch[0][0])\n",
        "print('Corresponding Decoded text:\\n',tokenizer.decode(Batch[0][0]))\n",
        "print('Corresponding Attention Mask :\\n',Batch[1][0])\n",
        "print('Corresponding Label:',Batch[2][0])"
      ],
      "metadata": {
        "execution": {
          "iopub.status.busy": "2023-11-21T04:51:42.954535Z",
          "iopub.execute_input": "2023-11-21T04:51:42.955336Z",
          "iopub.status.idle": "2023-11-21T04:51:42.993063Z",
          "shell.execute_reply.started": "2023-11-21T04:51:42.955302Z",
          "shell.execute_reply": "2023-11-21T04:51:42.992082Z"
        },
        "trusted": true,
        "colab": {
          "base_uri": "https://localhost:8080/"
        },
        "id": "ulzOYx8y5KG-",
        "outputId": "6d3894cf-d422-4891-e874-e65aaeac3dc9"
      },
      "execution_count": null,
      "outputs": [
        {
          "output_type": "stream",
          "name": "stdout",
          "text": [
            "Batch Size : 16\n",
            "Each Input ids shape : torch.Size([16, 512])\n",
            "Input ids :\n",
            " tensor([ 101, 2769,  947, 4412, 1762, 6313, 3136, 2339, 1243, 2229, 7269,  511,\n",
            "         785, 2552, 6662, 8024, 6250, 2533, 3315, 2375, 1762, 6857, 3613, 2137,\n",
            "        3309, 1920, 3298, 7502, 2356, 7269, 3177, 3124, 1841, 1440, 4638, 3229,\n",
            "         952, 8024, 3300, 6341, 1168, 6857,  671, 3454, 6662,  872,  947, 2356,\n",
            "        2424, 1343, 6794,  749, 7077, 3428, 8024, 2769, 6341, 6882, 6857,  943,\n",
            "        4696, 4638, 3221,  753, 1282, 2407, 2399,  889, 8024, 1765, 3175,  677,\n",
            "        2792, 3300, 4638, 3696, 2692,  807, 6134, 1469, 3696, 4707, 3297, 3309,\n",
            "        2521, 6857, 3454, 6662, 5543, 1917, 2868, 2184, 8024, 6629, 1044, 1920,\n",
            "        2157, 2533, 1168, 6244, 2622, 3229, 2523, 7770, 5646, 8024, 5178, 3362,\n",
            "         872,  947, 1343, 6794, 7077, 3428, 8024,  124,  943, 3333, 5862, 4493,\n",
            "        5635, 3300,  782, 5481, 1168, 3315, 2375, 4638, 6549, 6273, 8024, 2769,\n",
            "        1762, 1912, 7481, 6878, 1168,  800,  947, 8024,  800,  947, 6963, 6303,\n",
            "        2582, 7938, 3298, 6929, 7938, 1377, 2670,  136, 6549, 6273, 1168, 3297,\n",
            "        2527, 8024, 2769,  947, 4638, 6359, 7269,  100, 8024, 6313, 3064, 3123,\n",
            "         671,  678, 2512, 4275, 8024, 1962,  679, 1962,  136, 2339, 1243, 2229,\n",
            "        7269, 8024, 1168, 4412, 1762, 1914,  719,  749,  136,  872,  947, 4638,\n",
            "        2201,  782, 6917, 3760, 3836, 1139,  889,  511,  679, 3221, 1568,  106,\n",
            "        2229, 7269, 8024, 1333,  889,  800,  947, 6243, 4529, 3221, 1146, 2768,\n",
            "         676, 3309, 8024, 5018,  671, 3309,  704, 1925, 6171, 1221, 3621, 2746,\n",
            "        6283, 1762,  124,  117, 8241, 1914, 5857, 1039, 1416,  136, 2769,  947,\n",
            "        2356, 2424, 4638, 5632, 5092, 3621, 1469, 2547, 3119, 3621, 1962, 1008,\n",
            "        3221,  100,  511, 2769, 4638, 1313, 6496, 3221, 1762,  122, 1023, 8195,\n",
            "        5857, 1039, 2340, 1381,  511, 6857,  943, 3188, 4197, 2347, 2768,  752,\n",
            "        2179, 8024, 2769, 4412, 1762, 3221, 6206, 1558, 6303, 8024,  872,  947,\n",
            "         784, 7938, 3229,  952, 6206, 4825, 2137, 6857,  943, 3428, 2094, 1377,\n",
            "         809, 1086, 3300,  671,  943, 1962, 4638, 5178, 6316, 1139,  889,  136,\n",
            "        2769,  947, 2137, 3309, 1920, 3298, 2571, 6206, 5178, 3338,  749,  511,\n",
            "        6359, 7269, 6161, 4850, 4638, 8024,  872, 4692, 1168, 4412, 1762,  872,\n",
            "         947, 6917, 3760, 3300, 5178, 6316, 1139,  889,  511,  679, 3221, 8024,\n",
            "         872, 4638, 3175, 3428, 1914,  719, 6206, 5183, 2769,  136, 2229, 7269,\n",
            "        8024, 2769, 6656,  872, 6341,  511, 1962,  749, 8024, 2229, 7269,  100,\n",
            "         511, 1962,  511, 2229, 7269, 8024, 6857,  943,  785, 2552, 6662, 2868,\n",
            "        2184, 3428, 8024,  872, 1963, 3362,  679, 6634, 2571, 3300,  671,  943,\n",
            "        5178, 6316, 1139,  889, 8024, 3680, 3613, 3298, 3309, 2769, 6963, 3298,\n",
            "        6656,  872, 6841, 6697,  511,  102,    0,    0,    0,    0,    0,    0,\n",
            "           0,    0,    0,    0,    0,    0,    0,    0,    0,    0,    0,    0,\n",
            "           0,    0,    0,    0,    0,    0,    0,    0,    0,    0,    0,    0,\n",
            "           0,    0,    0,    0,    0,    0,    0,    0,    0,    0,    0,    0,\n",
            "           0,    0,    0,    0,    0,    0,    0,    0,    0,    0,    0,    0,\n",
            "           0,    0,    0,    0,    0,    0,    0,    0,    0,    0,    0,    0,\n",
            "           0,    0,    0,    0,    0,    0,    0,    0,    0,    0,    0,    0,\n",
            "           0,    0,    0,    0,    0,    0,    0,    0,    0,    0,    0,    0,\n",
            "           0,    0,    0,    0,    0,    0,    0,    0])\n",
            "Corresponding Decoded text:\n",
            " [CLS] 我 們 現 在 請 教 工 務 局 長 。 仁 心 路 ， 記 得 本 席 在 這 次 定 期 大 會 韓 市 長 施 政 報 告 的 時 候 ， 有 講 到 這 一 條 路 你 們 市 府 去 辦 了 銷 案 ， 我 講 過 這 個 真 的 是 二 十 幾 年 來 ， 地 方 上 所 有 的 民 意 代 表 和 民 眾 最 期 待 這 條 路 能 夠 拓 寬 ， 起 先 大 家 得 到 訊 息 時 很 高 興 ， 結 果 你 們 去 辦 銷 案 ， 3 個 村 落 甚 至 有 人 聽 到 本 席 的 質 詢 ， 我 在 外 面 遇 到 他 們 ， 他 們 都 說 怎 麼 會 那 麼 可 惡? 質 詢 到 最 後 ， 我 們 的 議 長 [UNK] ， 請 播 放 一 下 影 片 ， 好 不 好? 工 務 局 長 ， 到 現 在 多 久 了? 你 們 的 專 人 還 沒 派 出 來 。 不 是 啦! 局 長 ， 原 來 他 們 計 畫 是 分 成 三 期 ， 第 一 期 中 央 補 助 款 應 該 在 3, 000 多 萬 元 吧? 我 們 市 府 的 自 籌 款 和 徵 收 款 好 像 是 [UNK] 。 我 的 印 象 是 在 1 億 500 萬 元 左 右 。 這 個 既 然 已 成 事 實 ， 我 現 在 是 要 問 說 ， 你 們 什 麼 時 候 要 確 定 這 個 案 子 可 以 再 有 一 個 好 的 結 論 出 來? 我 們 定 期 大 會 快 要 結 束 了 。 議 長 裁 示 的 ， 你 看 到 現 在 你 們 還 沒 有 結 論 出 來 。 不 是 ， 你 的 方 案 多 久 要 給 我? 局 長 ， 我 跟 你 講 。 好 了 ， 局 長 [UNK] 。 好 。 局 長 ， 這 個 仁 心 路 拓 寬 案 ， 你 如 果 不 趕 快 有 一 個 結 論 出 來 ， 每 次 會 期 我 都 會 跟 你 追 蹤 。 [SEP] [PAD] [PAD] [PAD] [PAD] [PAD] [PAD] [PAD] [PAD] [PAD] [PAD] [PAD] [PAD] [PAD] [PAD] [PAD] [PAD] [PAD] [PAD] [PAD] [PAD] [PAD] [PAD] [PAD] [PAD] [PAD] [PAD] [PAD] [PAD] [PAD] [PAD] [PAD] [PAD] [PAD] [PAD] [PAD] [PAD] [PAD] [PAD] [PAD] [PAD] [PAD] [PAD] [PAD] [PAD] [PAD] [PAD] [PAD] [PAD] [PAD] [PAD] [PAD] [PAD] [PAD] [PAD] [PAD] [PAD] [PAD] [PAD] [PAD] [PAD] [PAD] [PAD] [PAD] [PAD] [PAD] [PAD] [PAD] [PAD] [PAD] [PAD] [PAD] [PAD] [PAD] [PAD] [PAD] [PAD] [PAD] [PAD] [PAD] [PAD] [PAD] [PAD] [PAD] [PAD] [PAD] [PAD] [PAD] [PAD] [PAD] [PAD] [PAD] [PAD] [PAD] [PAD] [PAD] [PAD] [PAD] [PAD]\n",
            "Corresponding Attention Mask :\n",
            " tensor([1, 1, 1, 1, 1, 1, 1, 1, 1, 1, 1, 1, 1, 1, 1, 1, 1, 1, 1, 1, 1, 1, 1, 1,\n",
            "        1, 1, 1, 1, 1, 1, 1, 1, 1, 1, 1, 1, 1, 1, 1, 1, 1, 1, 1, 1, 1, 1, 1, 1,\n",
            "        1, 1, 1, 1, 1, 1, 1, 1, 1, 1, 1, 1, 1, 1, 1, 1, 1, 1, 1, 1, 1, 1, 1, 1,\n",
            "        1, 1, 1, 1, 1, 1, 1, 1, 1, 1, 1, 1, 1, 1, 1, 1, 1, 1, 1, 1, 1, 1, 1, 1,\n",
            "        1, 1, 1, 1, 1, 1, 1, 1, 1, 1, 1, 1, 1, 1, 1, 1, 1, 1, 1, 1, 1, 1, 1, 1,\n",
            "        1, 1, 1, 1, 1, 1, 1, 1, 1, 1, 1, 1, 1, 1, 1, 1, 1, 1, 1, 1, 1, 1, 1, 1,\n",
            "        1, 1, 1, 1, 1, 1, 1, 1, 1, 1, 1, 1, 1, 1, 1, 1, 1, 1, 1, 1, 1, 1, 1, 1,\n",
            "        1, 1, 1, 1, 1, 1, 1, 1, 1, 1, 1, 1, 1, 1, 1, 1, 1, 1, 1, 1, 1, 1, 1, 1,\n",
            "        1, 1, 1, 1, 1, 1, 1, 1, 1, 1, 1, 1, 1, 1, 1, 1, 1, 1, 1, 1, 1, 1, 1, 1,\n",
            "        1, 1, 1, 1, 1, 1, 1, 1, 1, 1, 1, 1, 1, 1, 1, 1, 1, 1, 1, 1, 1, 1, 1, 1,\n",
            "        1, 1, 1, 1, 1, 1, 1, 1, 1, 1, 1, 1, 1, 1, 1, 1, 1, 1, 1, 1, 1, 1, 1, 1,\n",
            "        1, 1, 1, 1, 1, 1, 1, 1, 1, 1, 1, 1, 1, 1, 1, 1, 1, 1, 1, 1, 1, 1, 1, 1,\n",
            "        1, 1, 1, 1, 1, 1, 1, 1, 1, 1, 1, 1, 1, 1, 1, 1, 1, 1, 1, 1, 1, 1, 1, 1,\n",
            "        1, 1, 1, 1, 1, 1, 1, 1, 1, 1, 1, 1, 1, 1, 1, 1, 1, 1, 1, 1, 1, 1, 1, 1,\n",
            "        1, 1, 1, 1, 1, 1, 1, 1, 1, 1, 1, 1, 1, 1, 1, 1, 1, 1, 1, 1, 1, 1, 1, 1,\n",
            "        1, 1, 1, 1, 1, 1, 1, 1, 1, 1, 1, 1, 1, 1, 1, 1, 1, 1, 1, 1, 1, 1, 1, 1,\n",
            "        1, 1, 1, 1, 1, 1, 1, 1, 1, 1, 1, 1, 1, 1, 1, 1, 1, 1, 1, 1, 1, 1, 1, 1,\n",
            "        1, 1, 1, 1, 1, 1, 0, 0, 0, 0, 0, 0, 0, 0, 0, 0, 0, 0, 0, 0, 0, 0, 0, 0,\n",
            "        0, 0, 0, 0, 0, 0, 0, 0, 0, 0, 0, 0, 0, 0, 0, 0, 0, 0, 0, 0, 0, 0, 0, 0,\n",
            "        0, 0, 0, 0, 0, 0, 0, 0, 0, 0, 0, 0, 0, 0, 0, 0, 0, 0, 0, 0, 0, 0, 0, 0,\n",
            "        0, 0, 0, 0, 0, 0, 0, 0, 0, 0, 0, 0, 0, 0, 0, 0, 0, 0, 0, 0, 0, 0, 0, 0,\n",
            "        0, 0, 0, 0, 0, 0, 0, 0])\n",
            "Corresponding Label: tensor([1., 1., 0., 0.])\n"
          ]
        }
      ]
    },
    {
      "cell_type": "markdown",
      "source": [
        "### Initialising optimizer\n",
        "Initializes the optimizer for training the model\n",
        "\n",
        "Adam with Weight Decay (AdamW) is a variant of the Adam optimizer that incorporates weight decay (L2 regularization) during the parameter updates. It is an extension of the original Adam optimizer and addresses some of its limitations when using weight decay as a regularization technique."
      ],
      "metadata": {
        "id": "c1Ge-e975KG_"
      }
    },
    {
      "cell_type": "code",
      "source": [
        "# Optimizer setup\n",
        "optimizer = AdamW(model.parameters(), lr=0.00003)"
      ],
      "metadata": {
        "execution": {
          "iopub.status.busy": "2023-11-21T08:15:00.488156Z",
          "iopub.execute_input": "2023-11-21T08:15:00.488520Z",
          "iopub.status.idle": "2023-11-21T08:15:00.497802Z",
          "shell.execute_reply.started": "2023-11-21T08:15:00.488486Z",
          "shell.execute_reply": "2023-11-21T08:15:00.496789Z"
        },
        "trusted": true,
        "colab": {
          "base_uri": "https://localhost:8080/"
        },
        "id": "WaGXx7D75KHA",
        "outputId": "7d1b634c-beb8-478a-90e3-e85767c7f74f"
      },
      "execution_count": null,
      "outputs": [
        {
          "output_type": "stream",
          "name": "stderr",
          "text": [
            "/usr/local/lib/python3.10/dist-packages/transformers/optimization.py:411: FutureWarning:\n",
            "\n",
            "This implementation of AdamW is deprecated and will be removed in a future version. Use the PyTorch implementation torch.optim.AdamW instead, or set `no_deprecation_warning=True` to disable this warning\n",
            "\n"
          ]
        }
      ]
    },
    {
      "cell_type": "markdown",
      "source": [
        "# Model training"
      ],
      "metadata": {
        "id": "XDks25L75KHA"
      }
    },
    {
      "cell_type": "code",
      "source": [
        "import matplotlib.pyplot as plt\n",
        "from sklearn.metrics import f1_score\n",
        "\n",
        "train_loss_history = []\n",
        "train_acc_history=[]\n",
        "val_loss_history = []\n",
        "val_accuracy_history = []\n",
        "\n",
        "def train_model(model, train_loader, val_loader, optimizer, device, num_epochs):\n",
        "    model=model.to(device)\n",
        "    for epoch in range(num_epochs):\n",
        "        model.train()\n",
        "        total_loss = 0\n",
        "        correct_predictions=0\n",
        "        total_predictions=0\n",
        "        label_accuracies = [0] * 4\n",
        "        label_f1_scores = [0] * 4\n",
        "        for step, batch in enumerate(train_loader):\n",
        "            input_ids, attention_mask, labels = [t.to(device) for t in batch]\n",
        "\n",
        "            optimizer.zero_grad()\n",
        "            outputs = model(input_ids, attention_mask=attention_mask, labels=labels)\n",
        "            loss = outputs.loss\n",
        "            total_loss += loss.item()\n",
        "\n",
        "            loss.backward()\n",
        "            optimizer.step()\n",
        "\n",
        "            # 记录训练损失\n",
        "            train_loss_history.append(loss.item())\n",
        "            logits = outputs.logits\n",
        "            predictions = torch.round(torch.sigmoid(logits))\n",
        "            correct_predictions += torch.sum(predictions == labels).item()\n",
        "            total_predictions += labels.size(0)*labels.size(1)\n",
        "\n",
        "            label_predictions = torch.round(torch.sigmoid(logits))\n",
        "            label_f1 = [f1_score(labels[:, i].detach().cpu().numpy(), label_predictions[:, i].detach().cpu().numpy(), average='binary', zero_division=1) for i in range(4)]\n",
        "\n",
        "            for i in range(4):  # Assuming 4 labels\n",
        "                label_correct = torch.sum(label_predictions[:, i] == labels[:, i]).item()\n",
        "                label_total = labels.size(0)\n",
        "                label_accuracy = label_correct / label_total\n",
        "                label_accuracies[i] += label_accuracy\n",
        "                label_f1_scores[i] += label_f1[i]\n",
        "\n",
        "            if (step + 1) % 150 == 0:\n",
        "                print(f'Epoch {epoch+1}, Step {step+1}, Training Loss: {loss.item()}')\n",
        "            if(step+1)==780:\n",
        "                break\n",
        "        train_accuracy=correct_predictions/total_predictions\n",
        "        train_acc_history.append(train_accuracy)\n",
        "\n",
        "        label_accuracies = [acc / len(train_loader) for acc in label_accuracies]\n",
        "        label_f1_scores = [score / len(train_loader) for score in label_f1_scores]\n",
        "        # Print train accuracy for each label\n",
        "        for i in range(4):\n",
        "            print(f'Train Accuracy for Label {i + 1}: {label_accuracies[i]}')\n",
        "            print(f'Train F1 Score for Label {i + 1}: {label_f1_scores[i]}')\n",
        "\n",
        "        model.eval()\n",
        "        val_loss = 0\n",
        "        correct_predictions = 0\n",
        "        total_predictions = 0\n",
        "\n",
        "        with torch.no_grad():\n",
        "            for batch in val_loader:\n",
        "                input_ids, attention_mask, labels = [t.to(device) for t in batch]\n",
        "\n",
        "                outputs = model(input_ids, attention_mask=attention_mask, labels=labels)\n",
        "                loss = outputs.loss\n",
        "                val_loss += loss.item()\n",
        "\n",
        "                logits = outputs.logits\n",
        "\n",
        "                predictions = torch.round(torch.sigmoid(logits))\n",
        "                correct_predictions += torch.sum(predictions == labels).item()\n",
        "                total_predictions += labels.size(0)*labels.size(1)\n",
        "\n",
        "        val_accuracy = correct_predictions / total_predictions\n",
        "\n",
        "        val_loss_history.append(val_loss / len(val_loader))\n",
        "        val_accuracy_history.append(val_accuracy)\n",
        "\n",
        "        print(f'Epoch {epoch+1}, Training Loss: {total_loss/len(train_loader)},Train Accuracy: {train_accuracy}, Validation Loss: {val_loss/len(val_loader)}, Validation Accuracy: {val_accuracy}')\n",
        "\n",
        "    plt.figure(figsize=(12, 4))\n",
        "    plt.subplot(1, 3, 1)\n",
        "    plt.plot(train_loss_history, label='Training Loss')\n",
        "    plt.plot(val_loss_history, label='Validation Loss')\n",
        "    plt.xlabel('Step')\n",
        "    plt.ylabel('Loss')\n",
        "    plt.legend()\n",
        "\n",
        "    plt.subplot(1, 3, 2)\n",
        "    plt.plot(val_accuracy_history, label='Validation Accuracy')\n",
        "    plt.xlabel('Epoch')\n",
        "    plt.ylabel('Accuracy')\n",
        "    plt.legend()\n",
        "    plt.show()\n",
        "\n",
        "    plt.subplot(1,3,3)\n",
        "    plt.plot(train_acc_history,label='train accuracy')\n",
        "    plt.xlabel('Epoch')\n",
        "    plt.ylabel('Accuracy')\n",
        "    plt.legend()\n",
        "    plt.show()"
      ],
      "metadata": {
        "execution": {
          "iopub.status.busy": "2023-11-21T08:15:07.137228Z",
          "iopub.execute_input": "2023-11-21T08:15:07.137661Z",
          "iopub.status.idle": "2023-11-21T08:45:25.244062Z",
          "shell.execute_reply.started": "2023-11-21T08:15:07.137628Z",
          "shell.execute_reply": "2023-11-21T08:45:25.240309Z"
        },
        "trusted": true,
        "id": "N6E5mGhG5KHA"
      },
      "execution_count": null,
      "outputs": []
    },
    {
      "cell_type": "code",
      "source": [
        "train_model(model, train_loader, val_loader, optimizer, device, num_epochs=10)"
      ],
      "metadata": {
        "colab": {
          "base_uri": "https://localhost:8080/"
        },
        "id": "YPoPNFcC7gHb",
        "outputId": "6fb744d7-1751-4285-a05e-3d24628c10af"
      },
      "execution_count": null,
      "outputs": [
        {
          "output_type": "stream",
          "name": "stdout",
          "text": [
            "Epoch 1, Step 150, Training Loss: 0.3831297755241394\n",
            "Epoch 1, Step 300, Training Loss: 0.43464040756225586\n",
            "Epoch 1, Step 450, Training Loss: 0.38016384840011597\n",
            "Epoch 1, Step 600, Training Loss: 0.5345110893249512\n",
            "Train Accuracy for Label 1: 0.7744865718799369\n",
            "Train F1 Score for Label 1: 0.6085597393453651\n",
            "Train Accuracy for Label 2: 0.7865126382306478\n",
            "Train F1 Score for Label 2: 0.8076821421513537\n",
            "Train Accuracy for Label 3: 0.7840639810426541\n",
            "Train F1 Score for Label 3: 0.7548495886823683\n",
            "Train Accuracy for Label 4: 0.9044167983149025\n",
            "Train F1 Score for Label 4: 0.3088730911005793\n",
            "Epoch 1, Training Loss: 0.41005606111286186,Train Accuracy: 0.8123580527303249, Validation Loss: 0.3358613034710288, Validation Accuracy: 0.8605845181674565\n",
            "Epoch 2, Step 150, Training Loss: 0.2511955499649048\n",
            "Epoch 2, Step 300, Training Loss: 0.2963261306285858\n",
            "Epoch 2, Step 450, Training Loss: 0.2774654030799866\n",
            "Epoch 2, Step 600, Training Loss: 0.2705386281013489\n",
            "Train Accuracy for Label 1: 0.8627501316482359\n",
            "Train F1 Score for Label 1: 0.7747165309807479\n",
            "Train Accuracy for Label 2: 0.8483346498156924\n",
            "Train F1 Score for Label 2: 0.8595660770690922\n",
            "Train Accuracy for Label 3: 0.8508030542390731\n",
            "Train F1 Score for Label 3: 0.8283073971839159\n",
            "Train Accuracy for Label 4: 0.924565560821485\n",
            "Train F1 Score for Label 4: 0.5058514506381807\n",
            "Epoch 2, Training Loss: 0.3033813453892961,Train Accuracy: 0.8716056087686382, Validation Loss: 0.3207311945036054, Validation Accuracy: 0.8700631911532386\n",
            "Epoch 3, Step 150, Training Loss: 0.34569478034973145\n",
            "Epoch 3, Step 300, Training Loss: 0.24957621097564697\n",
            "Epoch 3, Step 450, Training Loss: 0.2647040784358978\n",
            "Epoch 3, Step 600, Training Loss: 0.45038118958473206\n",
            "Train Accuracy for Label 1: 0.904719589257504\n",
            "Train F1 Score for Label 1: 0.8501142449908482\n",
            "Train Accuracy for Label 2: 0.8852553975776725\n",
            "Train F1 Score for Label 2: 0.8927167910219826\n",
            "Train Accuracy for Label 3: 0.898591363875724\n",
            "Train F1 Score for Label 3: 0.8844604128927576\n",
            "Train Accuracy for Label 4: 0.9444049499736703\n",
            "Train F1 Score for Label 4: 0.6507490841614076\n",
            "Epoch 3, Training Loss: 0.23084888518986543,Train Accuracy: 0.9082403475856621, Validation Loss: 0.3066338990814984, Validation Accuracy: 0.8807266982622433\n",
            "Epoch 4, Step 150, Training Loss: 0.20723316073417664\n",
            "Epoch 4, Step 300, Training Loss: 0.3781379163265228\n",
            "Epoch 4, Step 450, Training Loss: 0.1648801863193512\n",
            "Epoch 4, Step 600, Training Loss: 0.22697272896766663\n",
            "Train Accuracy for Label 1: 0.9331490258030541\n",
            "Train F1 Score for Label 1: 0.8939503540704524\n",
            "Train Accuracy for Label 2: 0.9217943654555029\n",
            "Train F1 Score for Label 2: 0.924544063441651\n",
            "Train Accuracy for Label 3: 0.9260466034755134\n",
            "Train F1 Score for Label 3: 0.9143039370644691\n",
            "Train Accuracy for Label 4: 0.96365850447604\n",
            "Train F1 Score for Label 4: 0.7662709240908305\n",
            "Epoch 4, Training Loss: 0.1715436541014844,Train Accuracy: 0.9361607583687173, Validation Loss: 0.32614645985886453, Validation Accuracy: 0.8848736176935229\n",
            "Epoch 5, Step 150, Training Loss: 0.13669359683990479\n",
            "Epoch 5, Step 300, Training Loss: 0.0898546576499939\n",
            "Epoch 5, Step 450, Training Loss: 0.2081582099199295\n",
            "Epoch 5, Step 600, Training Loss: 0.3480268716812134\n",
            "Train Accuracy for Label 1: 0.9531003159557662\n",
            "Train F1 Score for Label 1: 0.9253653306714069\n",
            "Train Accuracy for Label 2: 0.943707214323328\n",
            "Train F1 Score for Label 2: 0.944481916839889\n",
            "Train Accuracy for Label 3: 0.9506319115323855\n",
            "Train F1 Score for Label 3: 0.9439442482136516\n",
            "Train Accuracy for Label 4: 0.9736374407582938\n",
            "Train F1 Score for Label 4: 0.8451928447189119\n",
            "Epoch 5, Training Loss: 0.1286707025044855,Train Accuracy: 0.9552680951910734, Validation Loss: 0.3310087094083428, Validation Accuracy: 0.8890205371248026\n",
            "Epoch 6, Step 150, Training Loss: 0.09899020195007324\n",
            "Epoch 6, Step 300, Training Loss: 0.15971235930919647\n",
            "Epoch 6, Step 450, Training Loss: 0.1448121964931488\n",
            "Epoch 6, Step 600, Training Loss: 0.10611608624458313\n",
            "Train Accuracy for Label 1: 0.9638559768299104\n",
            "Train F1 Score for Label 1: 0.9402110618366697\n",
            "Train Accuracy for Label 2: 0.9551671932596102\n",
            "Train F1 Score for Label 2: 0.955650197536454\n",
            "Train Accuracy for Label 3: 0.9642575039494471\n",
            "Train F1 Score for Label 3: 0.9593541906743859\n",
            "Train Accuracy for Label 4: 0.9782780410742496\n",
            "Train F1 Score for Label 4: 0.868941616571949\n",
            "Epoch 6, Training Loss: 0.09973039644760025,Train Accuracy: 0.965389552680952, Validation Loss: 0.3627187087200582, Validation Accuracy: 0.893957345971564\n",
            "Epoch 7, Step 150, Training Loss: 0.028390919789671898\n",
            "Epoch 7, Step 300, Training Loss: 0.1402069330215454\n",
            "Epoch 7, Step 450, Training Loss: 0.12528513371944427\n",
            "Epoch 7, Step 600, Training Loss: 0.14183595776557922\n",
            "Train Accuracy for Label 1: 0.9687862032648763\n",
            "Train F1 Score for Label 1: 0.9503189762804157\n",
            "Train Accuracy for Label 2: 0.9639547130068457\n",
            "Train F1 Score for Label 2: 0.9650680487427452\n",
            "Train Accuracy for Label 3: 0.9703791469194313\n",
            "Train F1 Score for Label 3: 0.9661467660988242\n",
            "Train Accuracy for Label 4: 0.9813388625592417\n",
            "Train F1 Score for Label 4: 0.8925374257127814\n",
            "Epoch 7, Training Loss: 0.08441476570221626,Train Accuracy: 0.9711168164313222, Validation Loss: 0.35485743400640785, Validation Accuracy: 0.8992890995260664\n"
          ]
        }
      ]
    },
    {
      "cell_type": "code",
      "source": [
        "len(train_loader)"
      ],
      "metadata": {
        "execution": {
          "iopub.status.busy": "2023-11-21T07:17:43.902348Z",
          "iopub.execute_input": "2023-11-21T07:17:43.902860Z",
          "iopub.status.idle": "2023-11-21T07:17:43.909869Z",
          "shell.execute_reply.started": "2023-11-21T07:17:43.902807Z",
          "shell.execute_reply": "2023-11-21T07:17:43.908789Z"
        },
        "trusted": true,
        "id": "tjmOHC3K5KHC"
      },
      "execution_count": null,
      "outputs": []
    },
    {
      "cell_type": "markdown",
      "source": [
        "# Model Evaluation"
      ],
      "metadata": {
        "id": "EgWKAhAF5KHD"
      }
    },
    {
      "cell_type": "code",
      "source": [
        "# Evaluate the Model\n",
        "def evaluate_model(model, test_loader, device):\n",
        "    model.eval()\n",
        "\n",
        "    true_labels = []\n",
        "    predicted_probs = []\n",
        "\n",
        "    with torch.no_grad():\n",
        "        for batch in test_loader:\n",
        "            input_ids, attention_mask, labels = [t.to(device) for t in batch]\n",
        "\n",
        "            # Get model's predictions\n",
        "            outputs = model(input_ids, attention_mask=attention_mask)\n",
        "            predicted_probs_batch = torch.sigmoid(outputs.logits)  # Use sigmoid for multilabel classification\n",
        "            predicted_probs.append(predicted_probs_batch.cpu().numpy())\n",
        "\n",
        "            true_labels_batch = labels.cpu().numpy()\n",
        "            true_labels.append(true_labels_batch)\n",
        "\n",
        "    # Combine predictions and labels for evaluation\n",
        "    true_labels = np.concatenate(true_labels, axis=0)\n",
        "    predicted_probs = np.concatenate(predicted_probs, axis=0)\n",
        "    predicted_labels = (predicted_probs > 0.5).astype(int)  # Apply threshold for binary classification\n",
        "\n",
        "    # Calculate evaluation metrics\n",
        "    accuracy = accuracy_score(true_labels, predicted_labels)\n",
        "    precision = precision_score(true_labels, predicted_labels, average='micro')\n",
        "    recall = recall_score(true_labels, predicted_labels, average='micro')\n",
        "\n",
        "    # Print the evaluation metrics\n",
        "    print(f'Accuracy: {accuracy:.4f}')\n",
        "    print(f'Precision: {precision:.4f}')\n",
        "    print(f'Recall: {recall:.4f}')"
      ],
      "metadata": {
        "execution": {
          "iopub.status.busy": "2023-11-21T04:31:46.028861Z",
          "iopub.status.idle": "2023-11-21T04:31:46.029309Z",
          "shell.execute_reply.started": "2023-11-21T04:31:46.029069Z",
          "shell.execute_reply": "2023-11-21T04:31:46.029091Z"
        },
        "trusted": true,
        "id": "56xjwz7Y5KHD"
      },
      "execution_count": null,
      "outputs": []
    },
    {
      "cell_type": "code",
      "source": [
        "import torch\n",
        "import numpy as np\n",
        "from sklearn.metrics import accuracy_score, precision_score, recall_score, f1_score\n",
        "\n",
        "def evaluate_model(model, test_loader, device):\n",
        "    model.eval()\n",
        "\n",
        "    true_labels = []\n",
        "    predicted_probs = []\n",
        "\n",
        "    with torch.no_grad():\n",
        "        for batch in test_loader:\n",
        "            input_ids, attention_mask, labels = [t.to(device) for t in batch]\n",
        "\n",
        "            # Get model's predictions\n",
        "            outputs = model(input_ids, attention_mask=attention_mask)\n",
        "            predicted_probs_batch = torch.sigmoid(outputs.logits)  # Use sigmoid for multilabel classification\n",
        "            predicted_probs.append(predicted_probs_batch.cpu().numpy())\n",
        "\n",
        "            true_labels_batch = labels.cpu().numpy()\n",
        "            true_labels.append(true_labels_batch)\n",
        "\n",
        "    # Combine predictions and labels for evaluation\n",
        "    true_labels = np.concatenate(true_labels, axis=0)\n",
        "    predicted_probs = np.concatenate(predicted_probs, axis=0)\n",
        "    predicted_labels = (predicted_probs > 0.5).astype(int)  # Apply threshold for binary classification\n",
        "\n",
        "    # Calculate evaluation metrics\n",
        "    accuracy = accuracy_score(true_labels, predicted_labels)\n",
        "    precision = precision_score(true_labels, predicted_labels, average='micro')\n",
        "    recall = recall_score(true_labels, predicted_labels, average='micro')\n",
        "\n",
        "    # Print the evaluation metrics\n",
        "    print(f'Accuracy: {accuracy:.4f}')\n",
        "    print(f'Precision: {precision:.4f}')\n",
        "    print(f'Recall: {recall:.4f}')\n",
        "\n",
        "    # Calculate and print F1 score for each label\n",
        "    f1_scores = f1_score(true_labels, predicted_labels, average=None)\n",
        "    for i, f1 in enumerate(f1_scores):\n",
        "        print(f'F1 Score (Label {i}): {f1:.4f}')\n",
        "\n",
        "    # Calculate and print accuracy for each label\n",
        "    for i in range(true_labels.shape[1]):  # Loop over each label\n",
        "        label_accuracy = accuracy_score(true_labels[:, i], predicted_labels[:, i])\n",
        "        print(f'Accuracy (Label {i}): {label_accuracy:.4f}')\n",
        "\n",
        "# Example usage:\n",
        "# evaluate_model(model, test_loader, device)"
      ],
      "metadata": {
        "id": "iTfi9FrMqSVS"
      },
      "execution_count": null,
      "outputs": []
    },
    {
      "cell_type": "code",
      "source": [
        "# Call the function to evaluate the model on the test data\n",
        "evaluate_model(model, test_loader, device)"
      ],
      "metadata": {
        "id": "fmRvYJ3qTytN"
      },
      "execution_count": null,
      "outputs": []
    },
    {
      "cell_type": "markdown",
      "source": [
        "## Save the model"
      ],
      "metadata": {
        "id": "4kqq4Ul55KHE"
      }
    },
    {
      "cell_type": "code",
      "source": [
        "# Save the tokenizer and model in the same directory\n",
        "output_dir = \"/content/Saved_model\"\n",
        "model.save_pretrained(output_dir)  # Save model's state dictionary and configuration\n",
        "tokenizer.save_pretrained(output_dir)  # Save tokenizer's configuration and vocabulary"
      ],
      "metadata": {
        "execution": {
          "iopub.status.busy": "2023-11-21T04:31:46.031367Z",
          "iopub.status.idle": "2023-11-21T04:31:46.031706Z",
          "shell.execute_reply.started": "2023-11-21T04:31:46.031541Z",
          "shell.execute_reply": "2023-11-21T04:31:46.031558Z"
        },
        "trusted": true,
        "id": "eVZCVrSL5KHE"
      },
      "execution_count": null,
      "outputs": []
    },
    {
      "cell_type": "markdown",
      "source": [
        "## Load the model"
      ],
      "metadata": {
        "id": "Ml2Y2d425KHE"
      }
    },
    {
      "cell_type": "code",
      "source": [
        "# Load the tokenizer and model from the saved directory\n",
        "model_name =\"/content/Saved_model\"\n",
        "Bert_Tokenizer = BertTokenizer.from_pretrained(model_name)\n",
        "Bert_Model = BertForSequenceClassification.from_pretrained(model_name).to(device)"
      ],
      "metadata": {
        "execution": {
          "iopub.status.busy": "2023-11-21T04:31:46.033606Z",
          "iopub.status.idle": "2023-11-21T04:31:46.033983Z",
          "shell.execute_reply.started": "2023-11-21T04:31:46.033783Z",
          "shell.execute_reply": "2023-11-21T04:31:46.033798Z"
        },
        "trusted": true,
        "id": "n6ug2WkQ5KHF"
      },
      "execution_count": null,
      "outputs": []
    },
    {
      "cell_type": "markdown",
      "source": [
        "# Prediction for user input"
      ],
      "metadata": {
        "id": "2GqR0e4l5KHF"
      }
    },
    {
      "cell_type": "code",
      "source": [
        "def predict_user_input(input_text, model=Bert_Model, tokenizer=Bert_Tokenizer,device=device):\n",
        "    user_input = [input_text]\n",
        "\n",
        "    user_encodings = tokenizer(user_input, truncation=True, padding=True, return_tensors=\"pt\")\n",
        "\n",
        "    user_dataset = TensorDataset(user_encodings['input_ids'], user_encodings['attention_mask'])\n",
        "\n",
        "    user_loader = DataLoader(user_dataset, batch_size=1, shuffle=False)\n",
        "\n",
        "    model.eval()\n",
        "    with torch.no_grad():\n",
        "        for batch in user_loader:\n",
        "            input_ids, attention_mask = [t.to(device) for t in batch]\n",
        "            outputs = model(input_ids, attention_mask=attention_mask)\n",
        "            logits = outputs.logits\n",
        "            predictions = torch.sigmoid(logits)\n",
        "    predicted_labels = (predictions.cpu().numpy() > 0.5).astype(int)\n",
        "    return predicted_labels[0].tolist()"
      ],
      "metadata": {
        "execution": {
          "iopub.status.busy": "2023-11-21T04:31:46.035056Z",
          "iopub.status.idle": "2023-11-21T04:31:46.035474Z",
          "shell.execute_reply.started": "2023-11-21T04:31:46.035289Z",
          "shell.execute_reply": "2023-11-21T04:31:46.035310Z"
        },
        "trusted": true,
        "id": "tUu4Nj_v5KHX"
      },
      "execution_count": null,
      "outputs": []
    },
    {
      "cell_type": "code",
      "source": [
        "text = '市長，請問今年預算多少?'\n",
        "predict_user_input(input_text=text)"
      ],
      "metadata": {
        "execution": {
          "iopub.status.busy": "2023-11-21T04:31:46.036653Z",
          "iopub.status.idle": "2023-11-21T04:31:46.036953Z",
          "shell.execute_reply.started": "2023-11-21T04:31:46.036801Z",
          "shell.execute_reply": "2023-11-21T04:31:46.036815Z"
        },
        "trusted": true,
        "id": "MYjFZKlO5KHY"
      },
      "execution_count": null,
      "outputs": []
    },
    {
      "cell_type": "code",
      "source": [
        "text = '請處長不要回答。市長，你覺得合理嗎？'\n",
        "predict_user_input(input_text=text)"
      ],
      "metadata": {
        "execution": {
          "iopub.status.busy": "2023-11-21T04:31:46.038073Z",
          "iopub.status.idle": "2023-11-21T04:31:46.038423Z",
          "shell.execute_reply.started": "2023-11-21T04:31:46.038227Z",
          "shell.execute_reply": "2023-11-21T04:31:46.038241Z"
        },
        "trusted": true,
        "id": "PMxNo3w65KHY"
      },
      "execution_count": null,
      "outputs": []
    },
    {
      "cell_type": "code",
      "source": [
        "text = '市長，光是103年到106年的一次性設備採購，就花費二億九千多萬元。校長，妳攤提了四億多元，右手又花了二億九千多萬元，請問一次性設備是買了什麼東西？細項是什麼？請說明。'\n",
        "predict_user_input(input_text=text)"
      ],
      "metadata": {
        "execution": {
          "iopub.status.busy": "2023-11-21T04:31:46.040202Z",
          "iopub.status.idle": "2023-11-21T04:31:46.040600Z",
          "shell.execute_reply.started": "2023-11-21T04:31:46.040399Z",
          "shell.execute_reply": "2023-11-21T04:31:46.040415Z"
        },
        "trusted": true,
        "id": "aSVMDXLz5KHZ"
      },
      "execution_count": null,
      "outputs": []
    },
    {
      "cell_type": "code",
      "source": [
        "text = '市長！請你加速。不要再讓你的政策龜速地進行，不要再讓你的政策全部跳票。'\n",
        "predict_user_input(input_text=text)"
      ],
      "metadata": {
        "execution": {
          "iopub.status.busy": "2023-11-21T04:31:46.041665Z",
          "iopub.status.idle": "2023-11-21T04:31:46.042037Z",
          "shell.execute_reply.started": "2023-11-21T04:31:46.041875Z",
          "shell.execute_reply": "2023-11-21T04:31:46.041890Z"
        },
        "trusted": true,
        "id": "1uTpNsBN5KHZ"
      },
      "execution_count": null,
      "outputs": []
    },
    {
      "cell_type": "code",
      "source": [
        "text = '市長，我建議你去把馬路鋪好。'\n",
        "predict_user_input(input_text=text)"
      ],
      "metadata": {
        "execution": {
          "iopub.status.busy": "2023-11-21T04:31:46.043657Z",
          "iopub.status.idle": "2023-11-21T04:31:46.043980Z",
          "shell.execute_reply.started": "2023-11-21T04:31:46.043821Z",
          "shell.execute_reply": "2023-11-21T04:31:46.043836Z"
        },
        "trusted": true,
        "id": "gWdGeH8H5KHa"
      },
      "execution_count": null,
      "outputs": []
    },
    {
      "cell_type": "code",
      "source": [
        "text = '真的是笑死，你這市長當得有夠爛'\n",
        "predict_user_input(input_text=text)"
      ],
      "metadata": {
        "execution": {
          "iopub.status.busy": "2023-11-21T04:31:46.045499Z",
          "iopub.status.idle": "2023-11-21T04:31:46.045968Z",
          "shell.execute_reply.started": "2023-11-21T04:31:46.045737Z",
          "shell.execute_reply": "2023-11-21T04:31:46.045758Z"
        },
        "trusted": true,
        "id": "Qc5e6bV_5KHa"
      },
      "execution_count": null,
      "outputs": []
    },
    {
      "cell_type": "code",
      "source": [
        "text = '你的市府裡面因為財團當道、官僚得志，所以都是內鬼。這些內鬼不只是扯你的後腿，而且用讒言來矇蔽你，讓你當成1個瞎眼的市長。不只內鬼一大堆，還有一堆吸血鬼。世大運花錢如流水，整個勞務採購完全浮濫，廠商要5毛、你給1塊，糟蹋公帑、浪費極致！'\n",
        "predict_user_input(input_text=text)"
      ],
      "metadata": {
        "execution": {
          "iopub.status.busy": "2023-11-21T04:31:46.047696Z",
          "iopub.status.idle": "2023-11-21T04:31:46.048148Z",
          "shell.execute_reply.started": "2023-11-21T04:31:46.047917Z",
          "shell.execute_reply": "2023-11-21T04:31:46.047938Z"
        },
        "trusted": true,
        "id": "SmytCWN05KHb"
      },
      "execution_count": null,
      "outputs": []
    },
    {
      "cell_type": "code",
      "source": [
        "text = '可不可以幫小港的市民蓋一個圖書館?'\n",
        "predict_user_input(input_text=text)"
      ],
      "metadata": {
        "id": "0iuI6cAbVEX4"
      },
      "execution_count": null,
      "outputs": []
    },
    {
      "cell_type": "markdown",
      "source": [
        "# Submission"
      ],
      "metadata": {
        "id": "zkMgGUIs5KHb"
      }
    }
  ]
}