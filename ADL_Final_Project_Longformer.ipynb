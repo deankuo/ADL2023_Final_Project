{
  "cells": [
    {
      "cell_type": "markdown",
      "metadata": {
        "id": "LKGcL1OWEJP9"
      },
      "source": [
        "# Set Up Enviornment"
      ]
    },
    {
      "cell_type": "code",
      "execution_count": null,
      "metadata": {
        "colab": {
          "base_uri": "https://localhost:8080/"
        },
        "id": "cRC3doLjED82",
        "outputId": "5b040d8c-8736-4e73-f709-32ed3df00252"
      },
      "outputs": [
        {
          "output_type": "stream",
          "name": "stdout",
          "text": [
            "Sun Dec 24 03:17:19 2023       \n",
            "+---------------------------------------------------------------------------------------+\n",
            "| NVIDIA-SMI 535.104.05             Driver Version: 535.104.05   CUDA Version: 12.2     |\n",
            "|-----------------------------------------+----------------------+----------------------+\n",
            "| GPU  Name                 Persistence-M | Bus-Id        Disp.A | Volatile Uncorr. ECC |\n",
            "| Fan  Temp   Perf          Pwr:Usage/Cap |         Memory-Usage | GPU-Util  Compute M. |\n",
            "|                                         |                      |               MIG M. |\n",
            "|=========================================+======================+======================|\n",
            "|   0  Tesla V100-SXM2-16GB           Off | 00000000:00:04.0 Off |                    0 |\n",
            "| N/A   37C    P0              26W / 300W |      0MiB / 16384MiB |      0%      Default |\n",
            "|                                         |                      |                  N/A |\n",
            "+-----------------------------------------+----------------------+----------------------+\n",
            "                                                                                         \n",
            "+---------------------------------------------------------------------------------------+\n",
            "| Processes:                                                                            |\n",
            "|  GPU   GI   CI        PID   Type   Process name                            GPU Memory |\n",
            "|        ID   ID                                                             Usage      |\n",
            "|=======================================================================================|\n",
            "|  No running processes found                                                           |\n",
            "+---------------------------------------------------------------------------------------+\n"
          ]
        }
      ],
      "source": [
        "!nvidia-smi"
      ]
    },
    {
      "cell_type": "code",
      "source": [
        "import pandas as pd\n",
        "import json\n",
        "f = open('/content/4some.json')\n",
        "df = json.load(f)"
      ],
      "metadata": {
        "id": "JlCNd0Lzlv7X"
      },
      "execution_count": null,
      "outputs": []
    },
    {
      "cell_type": "code",
      "source": [
        "df[:2]"
      ],
      "metadata": {
        "colab": {
          "base_uri": "https://localhost:8080/"
        },
        "id": "okSvuyTYmjfp",
        "outputId": "c6c6694f-69fd-48ca-d31e-07493bee4865"
      },
      "execution_count": null,
      "outputs": [
        {
          "output_type": "execute_result",
          "data": {
            "text/plain": [
              "[{'id': '9cb80237-070b-4d24-bfa5-203860ab5023',\n",
              "  'instruction': '市長，你的努力大家都感受得到，也讓高雄成為一個新的亮點!大家都知道，相對的市長也成為媒體的焦點，這是過去所沒有的，尤其現在的曝光率，甚至超越了柯市長文哲，這是高雄的光榮。但是架設了這麼多媒體，造就了正能量和負能量，這些人都希望跟市長站在一起，當然這些人最重要的是要博取一些版面，市長也曾經說過，如何當一位好的市長?你選擇就是做牛做馬，不要坐享其成，這非常好。相對的在短短的四個多月裡面，創造了很好的佳績，無論經濟的投資、觀光產業，還有消費，都有非常好的成績。相對民進黨也開始緊張了，為什麼緊張?過去高雄市可以說，好像是童話故事裡面的睡美人，沉睡了二、三十年，忽然間有韓市長，你把她救醒了，把睡美人救醒了，高雄也救醒了，所以相對的他們都非常緊張。但是你為了救這位睡美人，市長也相對付出17年的苦行，這個大家都知道，所以針對如何應變這些負能量的人，他們也不會讓市長好過，絕對會用各種方式來阻礙你，讓你在任何一個行事上，產生非常大的阻礙。本席也要感謝市長，救了高雄，但是高雄未來如何發展?也需要很大的努力。市長及大家都知道，這段期間你承受非常多的委屈，為什麼承受這麼多的委屈?因為他們怕你把高雄市做得太好了，所以百般的阻礙你，相對這段期間你所受到的委屈，大家也都知道，與其要受到那麼多的委屈，本席想跟你一樣，不如去參選總統，這也許會更好。但是還有一個疑惑又產生出來了，你去參選總統的時候，本席看絕對會當選，但是當選了以後，高雄市怎麼辦?是不是因為你的當選，高雄又要回到睡美人一樣，要回去睡覺了?所以針對這個問題，請市長簡單回應一下，這也是所有市民朋友都非常關心的，請市長先回答，謝謝!謝謝市長。這個問題市民朋友都非常的疑惑，非常關心非常擔心，大家都知道，高雄過去也沉睡了二、三十年，在經濟面如同剛才市長講的，有這麼好的條件，過去都沒有在運用。忽然間市長你來了，才知道原來高雄有這麼好的條件，我們如何趕快往前衝?跟世界接軌，讓高雄成為未來發展中的城市，所以這個部分，市長我覺得你的理念非常對，也是大家共同來加油的。',\n",
              "  'output': [0, 1, 0, 0]},\n",
              " {'id': '3dd107b8-f4c7-44ca-ac58-8f2fe98787ac',\n",
              "  'instruction': '接下來首先來針對第一項，幸福到底是什麼?也許大家說法都非常簡單，每個人的想法也不一樣，大家追求也是不一樣，有些人只是追求安居樂業而已，想要過一個好的生活而已。過去本席在選舉的時候，這次是擔任第五屆的議員，以前民國90年在選舉時晚上去做家戶拜訪，各家都和樂融融在樓下看電視，主席應該也有體會。現在去家戶拜訪的時候，幾乎是看不到小孩子，年輕人也幾乎看不到，很多家庭都是剩下老人在家而已，一到晚上8點很快就關門了，所以你連去做家戶拜訪的機會都沒有。針對這個部分，大家對市長都有很大的期待，眾所周知在去年選舉的時候，大家都沒有看好韓市長會當選，都只知道說陳其邁躺著選就會當選了。到底為什麼市長會當選?最重要的是民眾所需要的是幸福感，所以本席首先要請問市長，如何找回高雄市的幸福感?這才是最重要的。針對這個部分，請市長先簡單的回答，謝謝。市民最關心的也是很大，你自我的期許到底是怎樣?相對的也是每個人的感受，如何做到每個人的心坎裡，感受的到他很幸福?這才是最重要的。眾所周知，一個政治人物每天都在想的是，如何讓我們市民過得非常幸福快樂的生活，這是最重要的一位成功政治家。所以本席也是要問市長，請簡單回應，在你這一段期間，不管未來有機會擔任總統也好，擔任市長也好，你的心裡絕對是要把人民擺在第一，只要你心中有人民，我相信人民就會有幸福了。市長，雖然這個問題是非常的廣泛，但是在民調上面絕對都會顯現出來的，各個報社絕對都會問到這個問題。謝謝市長，相對能做到這樣子，我相信市民朋友的幸福是指日可待，現在高雄市等於病態的狀態，市長就好像是醫生，這些團隊就是醫療團隊，如何對症下藥才是最重要的，因為時間的關係，我儘量把速度再加快一點。',\n",
              "  'output': [0, 1, 0, 0]}]"
            ]
          },
          "metadata": {},
          "execution_count": 8
        }
      ]
    },
    {
      "cell_type": "code",
      "execution_count": 1,
      "metadata": {
        "id": "pNsaBgKQv1cD"
      },
      "outputs": [],
      "source": [
        "# Importing stock ml libraries\n",
        "import warnings\n",
        "warnings.simplefilter('ignore')\n",
        "import numpy as np\n",
        "import pandas as pd\n",
        "from tqdm import tqdm\n",
        "from sklearn import metrics\n",
        "from sklearn.metrics import accuracy_score, precision_score, recall_score, f1_score\n",
        "import transformers\n",
        "import torch\n",
        "import json\n",
        "import copy\n",
        "from torch.utils.data import Dataset, DataLoader, RandomSampler, SequentialSampler\n",
        "from transformers import (\n",
        "    AutoConfig,\n",
        "    AutoModelForSequenceClassification,\n",
        "    AutoTokenizer,\n",
        "    DataCollatorWithPadding,\n",
        "    PretrainedConfig,\n",
        "    SchedulerType,\n",
        "    default_data_collator,\n",
        "    get_scheduler,\n",
        "    RobertaModel,\n",
        "    LongformerModel,\n",
        "    BertTokenizer,\n",
        "    LongformerTokenizer,\n",
        "    BertForSequenceClassification,\n",
        "    LongformerForSequenceClassification,\n",
        "    TransfoXLForSequenceClassification,\n",
        "    TransfoXLTokenizer,\n",
        "    RobertaForSequenceClassification,\n",
        "    RobertaTokenizer,\n",
        ")\n",
        "\n",
        "import logging\n",
        "\n",
        "logging.basicConfig(level=logging.ERROR)"
      ]
    },
    {
      "cell_type": "markdown",
      "metadata": {
        "id": "AVjSUsyFEiBH"
      },
      "source": [
        "## Access to Drive"
      ]
    },
    {
      "cell_type": "code",
      "execution_count": 2,
      "metadata": {
        "colab": {
          "base_uri": "https://localhost:8080/"
        },
        "id": "9Ilq6FwhENTQ",
        "outputId": "b4cb9c02-e09a-4d4b-a892-6f6f4c0a2de7"
      },
      "outputs": [
        {
          "output_type": "stream",
          "name": "stdout",
          "text": [
            "Mounted at /content/drive\n"
          ]
        },
        {
          "output_type": "execute_result",
          "data": {
            "text/plain": [
              "['Data',\n",
              " 'requirement.txt',\n",
              " 'run_classification.py',\n",
              " 'Model',\n",
              " 'Model_1',\n",
              " 'train.json',\n",
              " 'test.json',\n",
              " 'validation.json',\n",
              " 'test_answer.json',\n",
              " 'Model_2',\n",
              " 'Model_3',\n",
              " 'PyTorch_model.bin']"
            ]
          },
          "metadata": {},
          "execution_count": 2
        }
      ],
      "source": [
        "from google.colab import drive\n",
        "import os\n",
        "\n",
        "# Setup work directory\n",
        "drive.mount('/content/drive')\n",
        "os.chdir('/content/drive/MyDrive/ADL/Group Project')\n",
        "os.listdir() # overview the files"
      ]
    },
    {
      "cell_type": "code",
      "execution_count": null,
      "metadata": {
        "id": "tU0MK4oKv9Nn"
      },
      "outputs": [],
      "source": [
        "# Setting up the device for GPU usage\n",
        "\n",
        "from torch import cuda\n",
        "device = 'cuda' if cuda.is_available() else 'cpu'"
      ]
    },
    {
      "cell_type": "code",
      "execution_count": 3,
      "metadata": {
        "id": "s4FYSRocwzWd"
      },
      "outputs": [],
      "source": [
        "def hamming_score(y_true, y_pred, normalize=True, sample_weight=None):\n",
        "    acc_list = []\n",
        "    for i in range(y_true.shape[0]):\n",
        "        set_true = set( np.where(y_true[i])[0] )\n",
        "        set_pred = set( np.where(y_pred[i])[0] )\n",
        "        tmp_a = None\n",
        "        if len(set_true) == 0 and len(set_pred) == 0:\n",
        "            tmp_a = 1\n",
        "        else:\n",
        "            tmp_a = len(set_true.intersection(set_pred))/\\\n",
        "                    float(len(set_true.union(set_pred)) )\n",
        "        acc_list.append(tmp_a)\n",
        "    return np.mean(acc_list)"
      ]
    },
    {
      "cell_type": "markdown",
      "metadata": {
        "id": "7EAdu9b7HPM0"
      },
      "source": [
        "# Overview Datasets"
      ]
    },
    {
      "cell_type": "markdown",
      "source": [
        "## Clean Data"
      ],
      "metadata": {
        "id": "J06tzz8qfq6P"
      }
    },
    {
      "cell_type": "code",
      "execution_count": 4,
      "metadata": {
        "id": "p2la8OTV33Qy"
      },
      "outputs": [],
      "source": [
        "df = pd.read_excel('Data/train_data.xlsx')"
      ]
    },
    {
      "cell_type": "code",
      "source": [
        "df['output'] = df[['information', 'justification', 'change', 'sanctions']].values.tolist()\n",
        "df = df[['text', 'output']]\n",
        "df = df.rename(columns={'text': 'instruction'})"
      ],
      "metadata": {
        "id": "iV-_iav_eKYZ"
      },
      "execution_count": 5,
      "outputs": []
    },
    {
      "cell_type": "code",
      "source": [
        "import uuid\n",
        "\n",
        "num_rows = len(df)\n",
        "uuids = [str(uuid.uuid4()) for _ in range(num_rows)]\n",
        "\n",
        "df.insert(0, 'id', uuids)"
      ],
      "metadata": {
        "id": "c1XWE_ZKfarc"
      },
      "execution_count": 6,
      "outputs": []
    },
    {
      "cell_type": "code",
      "source": [
        "df.head(2)"
      ],
      "metadata": {
        "colab": {
          "base_uri": "https://localhost:8080/",
          "height": 147
        },
        "id": "RaFruoSveNAo",
        "outputId": "cc44a185-8603-4527-da91-a401aa81c187"
      },
      "execution_count": null,
      "outputs": [
        {
          "output_type": "execute_result",
          "data": {
            "text/plain": [
              "                                     id  \\\n",
              "0  bb0c813c-248c-49af-9a2b-a6e53786dfc0   \n",
              "1  7f3aed1f-3482-4281-860f-77cc804b148d   \n",
              "\n",
              "                                         instruction        output  \n",
              "0  但是有一件事情，本席感覺處理上還是非常的不妥，就是張顯耀違規施打疫苗事件。在這個事件裡面，雖...  [0, 1, 0, 0]  \n",
              "1  好，謝謝市長。我相信假如今天疫苗夠的話，今天也不會產生這麼大的一個問題出來，也沒有類似這種案...  [0, 0, 0, 0]  "
            ],
            "text/html": [
              "\n",
              "  <div id=\"df-ad1f3be0-1dc1-4db9-be63-0c509553c3e8\" class=\"colab-df-container\">\n",
              "    <div>\n",
              "<style scoped>\n",
              "    .dataframe tbody tr th:only-of-type {\n",
              "        vertical-align: middle;\n",
              "    }\n",
              "\n",
              "    .dataframe tbody tr th {\n",
              "        vertical-align: top;\n",
              "    }\n",
              "\n",
              "    .dataframe thead th {\n",
              "        text-align: right;\n",
              "    }\n",
              "</style>\n",
              "<table border=\"1\" class=\"dataframe\">\n",
              "  <thead>\n",
              "    <tr style=\"text-align: right;\">\n",
              "      <th></th>\n",
              "      <th>id</th>\n",
              "      <th>instruction</th>\n",
              "      <th>output</th>\n",
              "    </tr>\n",
              "  </thead>\n",
              "  <tbody>\n",
              "    <tr>\n",
              "      <th>0</th>\n",
              "      <td>bb0c813c-248c-49af-9a2b-a6e53786dfc0</td>\n",
              "      <td>但是有一件事情，本席感覺處理上還是非常的不妥，就是張顯耀違規施打疫苗事件。在這個事件裡面，雖...</td>\n",
              "      <td>[0, 1, 0, 0]</td>\n",
              "    </tr>\n",
              "    <tr>\n",
              "      <th>1</th>\n",
              "      <td>7f3aed1f-3482-4281-860f-77cc804b148d</td>\n",
              "      <td>好，謝謝市長。我相信假如今天疫苗夠的話，今天也不會產生這麼大的一個問題出來，也沒有類似這種案...</td>\n",
              "      <td>[0, 0, 0, 0]</td>\n",
              "    </tr>\n",
              "  </tbody>\n",
              "</table>\n",
              "</div>\n",
              "    <div class=\"colab-df-buttons\">\n",
              "\n",
              "  <div class=\"colab-df-container\">\n",
              "    <button class=\"colab-df-convert\" onclick=\"convertToInteractive('df-ad1f3be0-1dc1-4db9-be63-0c509553c3e8')\"\n",
              "            title=\"Convert this dataframe to an interactive table.\"\n",
              "            style=\"display:none;\">\n",
              "\n",
              "  <svg xmlns=\"http://www.w3.org/2000/svg\" height=\"24px\" viewBox=\"0 -960 960 960\">\n",
              "    <path d=\"M120-120v-720h720v720H120Zm60-500h600v-160H180v160Zm220 220h160v-160H400v160Zm0 220h160v-160H400v160ZM180-400h160v-160H180v160Zm440 0h160v-160H620v160ZM180-180h160v-160H180v160Zm440 0h160v-160H620v160Z\"/>\n",
              "  </svg>\n",
              "    </button>\n",
              "\n",
              "  <style>\n",
              "    .colab-df-container {\n",
              "      display:flex;\n",
              "      gap: 12px;\n",
              "    }\n",
              "\n",
              "    .colab-df-convert {\n",
              "      background-color: #E8F0FE;\n",
              "      border: none;\n",
              "      border-radius: 50%;\n",
              "      cursor: pointer;\n",
              "      display: none;\n",
              "      fill: #1967D2;\n",
              "      height: 32px;\n",
              "      padding: 0 0 0 0;\n",
              "      width: 32px;\n",
              "    }\n",
              "\n",
              "    .colab-df-convert:hover {\n",
              "      background-color: #E2EBFA;\n",
              "      box-shadow: 0px 1px 2px rgba(60, 64, 67, 0.3), 0px 1px 3px 1px rgba(60, 64, 67, 0.15);\n",
              "      fill: #174EA6;\n",
              "    }\n",
              "\n",
              "    .colab-df-buttons div {\n",
              "      margin-bottom: 4px;\n",
              "    }\n",
              "\n",
              "    [theme=dark] .colab-df-convert {\n",
              "      background-color: #3B4455;\n",
              "      fill: #D2E3FC;\n",
              "    }\n",
              "\n",
              "    [theme=dark] .colab-df-convert:hover {\n",
              "      background-color: #434B5C;\n",
              "      box-shadow: 0px 1px 3px 1px rgba(0, 0, 0, 0.15);\n",
              "      filter: drop-shadow(0px 1px 2px rgba(0, 0, 0, 0.3));\n",
              "      fill: #FFFFFF;\n",
              "    }\n",
              "  </style>\n",
              "\n",
              "    <script>\n",
              "      const buttonEl =\n",
              "        document.querySelector('#df-ad1f3be0-1dc1-4db9-be63-0c509553c3e8 button.colab-df-convert');\n",
              "      buttonEl.style.display =\n",
              "        google.colab.kernel.accessAllowed ? 'block' : 'none';\n",
              "\n",
              "      async function convertToInteractive(key) {\n",
              "        const element = document.querySelector('#df-ad1f3be0-1dc1-4db9-be63-0c509553c3e8');\n",
              "        const dataTable =\n",
              "          await google.colab.kernel.invokeFunction('convertToInteractive',\n",
              "                                                    [key], {});\n",
              "        if (!dataTable) return;\n",
              "\n",
              "        const docLinkHtml = 'Like what you see? Visit the ' +\n",
              "          '<a target=\"_blank\" href=https://colab.research.google.com/notebooks/data_table.ipynb>data table notebook</a>'\n",
              "          + ' to learn more about interactive tables.';\n",
              "        element.innerHTML = '';\n",
              "        dataTable['output_type'] = 'display_data';\n",
              "        await google.colab.output.renderOutput(dataTable, element);\n",
              "        const docLink = document.createElement('div');\n",
              "        docLink.innerHTML = docLinkHtml;\n",
              "        element.appendChild(docLink);\n",
              "      }\n",
              "    </script>\n",
              "  </div>\n",
              "\n",
              "\n",
              "<div id=\"df-ed663789-6bcf-46c5-bd6d-6f04be420104\">\n",
              "  <button class=\"colab-df-quickchart\" onclick=\"quickchart('df-ed663789-6bcf-46c5-bd6d-6f04be420104')\"\n",
              "            title=\"Suggest charts\"\n",
              "            style=\"display:none;\">\n",
              "\n",
              "<svg xmlns=\"http://www.w3.org/2000/svg\" height=\"24px\"viewBox=\"0 0 24 24\"\n",
              "     width=\"24px\">\n",
              "    <g>\n",
              "        <path d=\"M19 3H5c-1.1 0-2 .9-2 2v14c0 1.1.9 2 2 2h14c1.1 0 2-.9 2-2V5c0-1.1-.9-2-2-2zM9 17H7v-7h2v7zm4 0h-2V7h2v10zm4 0h-2v-4h2v4z\"/>\n",
              "    </g>\n",
              "</svg>\n",
              "  </button>\n",
              "\n",
              "<style>\n",
              "  .colab-df-quickchart {\n",
              "      --bg-color: #E8F0FE;\n",
              "      --fill-color: #1967D2;\n",
              "      --hover-bg-color: #E2EBFA;\n",
              "      --hover-fill-color: #174EA6;\n",
              "      --disabled-fill-color: #AAA;\n",
              "      --disabled-bg-color: #DDD;\n",
              "  }\n",
              "\n",
              "  [theme=dark] .colab-df-quickchart {\n",
              "      --bg-color: #3B4455;\n",
              "      --fill-color: #D2E3FC;\n",
              "      --hover-bg-color: #434B5C;\n",
              "      --hover-fill-color: #FFFFFF;\n",
              "      --disabled-bg-color: #3B4455;\n",
              "      --disabled-fill-color: #666;\n",
              "  }\n",
              "\n",
              "  .colab-df-quickchart {\n",
              "    background-color: var(--bg-color);\n",
              "    border: none;\n",
              "    border-radius: 50%;\n",
              "    cursor: pointer;\n",
              "    display: none;\n",
              "    fill: var(--fill-color);\n",
              "    height: 32px;\n",
              "    padding: 0;\n",
              "    width: 32px;\n",
              "  }\n",
              "\n",
              "  .colab-df-quickchart:hover {\n",
              "    background-color: var(--hover-bg-color);\n",
              "    box-shadow: 0 1px 2px rgba(60, 64, 67, 0.3), 0 1px 3px 1px rgba(60, 64, 67, 0.15);\n",
              "    fill: var(--button-hover-fill-color);\n",
              "  }\n",
              "\n",
              "  .colab-df-quickchart-complete:disabled,\n",
              "  .colab-df-quickchart-complete:disabled:hover {\n",
              "    background-color: var(--disabled-bg-color);\n",
              "    fill: var(--disabled-fill-color);\n",
              "    box-shadow: none;\n",
              "  }\n",
              "\n",
              "  .colab-df-spinner {\n",
              "    border: 2px solid var(--fill-color);\n",
              "    border-color: transparent;\n",
              "    border-bottom-color: var(--fill-color);\n",
              "    animation:\n",
              "      spin 1s steps(1) infinite;\n",
              "  }\n",
              "\n",
              "  @keyframes spin {\n",
              "    0% {\n",
              "      border-color: transparent;\n",
              "      border-bottom-color: var(--fill-color);\n",
              "      border-left-color: var(--fill-color);\n",
              "    }\n",
              "    20% {\n",
              "      border-color: transparent;\n",
              "      border-left-color: var(--fill-color);\n",
              "      border-top-color: var(--fill-color);\n",
              "    }\n",
              "    30% {\n",
              "      border-color: transparent;\n",
              "      border-left-color: var(--fill-color);\n",
              "      border-top-color: var(--fill-color);\n",
              "      border-right-color: var(--fill-color);\n",
              "    }\n",
              "    40% {\n",
              "      border-color: transparent;\n",
              "      border-right-color: var(--fill-color);\n",
              "      border-top-color: var(--fill-color);\n",
              "    }\n",
              "    60% {\n",
              "      border-color: transparent;\n",
              "      border-right-color: var(--fill-color);\n",
              "    }\n",
              "    80% {\n",
              "      border-color: transparent;\n",
              "      border-right-color: var(--fill-color);\n",
              "      border-bottom-color: var(--fill-color);\n",
              "    }\n",
              "    90% {\n",
              "      border-color: transparent;\n",
              "      border-bottom-color: var(--fill-color);\n",
              "    }\n",
              "  }\n",
              "</style>\n",
              "\n",
              "  <script>\n",
              "    async function quickchart(key) {\n",
              "      const quickchartButtonEl =\n",
              "        document.querySelector('#' + key + ' button');\n",
              "      quickchartButtonEl.disabled = true;  // To prevent multiple clicks.\n",
              "      quickchartButtonEl.classList.add('colab-df-spinner');\n",
              "      try {\n",
              "        const charts = await google.colab.kernel.invokeFunction(\n",
              "            'suggestCharts', [key], {});\n",
              "      } catch (error) {\n",
              "        console.error('Error during call to suggestCharts:', error);\n",
              "      }\n",
              "      quickchartButtonEl.classList.remove('colab-df-spinner');\n",
              "      quickchartButtonEl.classList.add('colab-df-quickchart-complete');\n",
              "    }\n",
              "    (() => {\n",
              "      let quickchartButtonEl =\n",
              "        document.querySelector('#df-ed663789-6bcf-46c5-bd6d-6f04be420104 button');\n",
              "      quickchartButtonEl.style.display =\n",
              "        google.colab.kernel.accessAllowed ? 'block' : 'none';\n",
              "    })();\n",
              "  </script>\n",
              "</div>\n",
              "\n",
              "    </div>\n",
              "  </div>\n"
            ]
          },
          "metadata": {},
          "execution_count": 13
        }
      ]
    },
    {
      "cell_type": "code",
      "source": [
        "df.shape"
      ],
      "metadata": {
        "colab": {
          "base_uri": "https://localhost:8080/"
        },
        "id": "KrkMQKuxsYsp",
        "outputId": "92f8de9e-fa76-452c-df6d-ef61ca408840"
      },
      "execution_count": 7,
      "outputs": [
        {
          "output_type": "execute_result",
          "data": {
            "text/plain": [
              "(12659, 3)"
            ]
          },
          "metadata": {},
          "execution_count": 7
        }
      ]
    },
    {
      "cell_type": "code",
      "execution_count": 12,
      "metadata": {
        "id": "3AGMosSK75Xc"
      },
      "outputs": [],
      "source": [
        "# 計算每個類別的比例\n",
        "import matplotlib.pyplot as plt\n",
        "import pandas as pd\n",
        "\n",
        "def plot_category_distribution(df):\n",
        "    category_counts = df['output'].apply(lambda x: pd.Series(x)).sum()\n",
        "    print(f\"Total Data: {len(df)}\")\n",
        "\n",
        "    category_labels = {0: 'Information', 1: 'Justification', 2: 'Change', 3: 'Sanction'}\n",
        "    category_counts.index = [category_labels.get(x, x) for x in category_counts.index]\n",
        "    category_ratios = category_counts / category_counts.sum()\n",
        "\n",
        "    # Color\n",
        "    morandi_colors = ['#b2a29d', '#857e7b', '#a6998a', '#7a6f66']\n",
        "    colors = ['skyblue', 'salmon', 'limegreen', 'gold']\n",
        "\n",
        "\n",
        "    plt.style.use('ggplot')\n",
        "    category_ratios.plot(kind='bar', color=morandi_colors, fontsize=12)\n",
        "    plt.title('Category Distribution', fontsize=14)\n",
        "    plt.xlabel('Category', fontsize=10)\n",
        "    plt.ylabel('Ratio', fontsize=10)\n",
        "\n",
        "    y_max = category_ratios.max()\n",
        "    plt.yticks(np.linspace(0, y_max, num=5))\n",
        "    plt.xticks(rotation=15)\n",
        "    plt.tight_layout()\n",
        "\n",
        "    plt.show()\n",
        "\n",
        "    return category_ratios\n"
      ]
    },
    {
      "cell_type": "code",
      "execution_count": 13,
      "metadata": {
        "colab": {
          "base_uri": "https://localhost:8080/",
          "height": 505
        },
        "id": "1mUL3e2h8Lwz",
        "outputId": "dfe20556-1d4d-479b-d1dc-0ac0624f9b1c"
      },
      "outputs": [
        {
          "output_type": "stream",
          "name": "stdout",
          "text": [
            "Total Data: 12659\n"
          ]
        },
        {
          "output_type": "display_data",
          "data": {
            "text/plain": [
              "<Figure size 640x480 with 1 Axes>"
            ],
            "image/png": "[encoded data removed]"
          },
          "metadata": {}
        }
      ],
      "source": [
        "category_ratios = plot_category_distribution(df)"
      ]
    },
    {
      "cell_type": "markdown",
      "metadata": {
        "id": "GW9PjkphmrYV"
      },
      "source": [
        "## Train Test Split"
      ]
    },
    {
      "cell_type": "code",
      "execution_count": null,
      "metadata": {
        "id": "VOJWtGEq6NGK"
      },
      "outputs": [],
      "source": [
        "# labels = ['要求資訊', '要求說明', '要求改變', '威脅制裁']"
      ]
    },
    {
      "cell_type": "code",
      "execution_count": null,
      "metadata": {
        "id": "ec0MZpIFIhG_"
      },
      "outputs": [],
      "source": [
        "from sklearn.model_selection import train_test_split\n",
        "import numpy as np\n",
        "SEED = 42\n",
        "\n",
        "train_val, test_answer = train_test_split(df, test_size=0.1, random_state=SEED)\n",
        "train, val = train_test_split(train_val, test_size=0.11, random_state=SEED)  # 0.11 x 0.9 = 0.1\n",
        "test = test_answer.drop(columns=['output'])"
      ]
    },
    {
      "cell_type": "code",
      "execution_count": null,
      "metadata": {
        "id": "FNz-pWAaA3eu"
      },
      "outputs": [],
      "source": [
        "train.to_json('train.json', orient='records', lines=True)\n",
        "val.to_json('validation.json', orient='records', lines=True)\n",
        "test.to_json('test.json', orient='records', lines=True)\n",
        "test_answer.to_json('test_answer.json', orient='records', lines=True)"
      ]
    },
    {
      "cell_type": "markdown",
      "metadata": {
        "id": "KbtxLml5JPiI"
      },
      "source": [
        "## Split by Ratio\n",
        "This method is not workable"
      ]
    },
    {
      "cell_type": "code",
      "execution_count": null,
      "metadata": {
        "id": "S57ucGTP8fYX"
      },
      "outputs": [],
      "source": [
        "from sklearn.model_selection import train_test_split\n",
        "import numpy as np\n",
        "SEED = 42\n",
        "\n",
        "# 轉換多標籤為單一標籤\n",
        "def multilabel_to_singlelabel(row):\n",
        "    # 將標籤列表轉換為字符串（例如：[1, 0, 0, 1] -> '1001'）\n",
        "    return ''.join(map(str, row))\n",
        "\n",
        "# 新列用於分層\n",
        "df['stratify_col'] = df['output'].apply(multilabel_to_singlelabel)\n",
        "\n",
        "train_val, test = train_test_split(df, test_size=0.1, stratify=df['stratify_col'], random_state=SEED)\n",
        "train, val = train_test_split(train_val, test_size=0.11, stratify=train_val['stratify_col'], random_state=SEED)  # 0.11 x 0.9 = 0.99\n",
        "\n",
        "def convert_to_int(lst):\n",
        "    return [int(i) for i in lst]\n",
        "\n",
        "train = train.drop(columns=['stratify_col'])\n",
        "val = val.drop(columns=['stratify_col'])\n",
        "test_answer = test.drop(columns=['stratify_col'])\n",
        "test = test_answer.drop(columns=['output'])\n",
        "\n",
        "train['output'] = train['output'].apply(convert_to_int)\n",
        "val['output'] = val['output'].apply(convert_to_int)\n",
        "test_answer['output'] = test_answer['output'].apply(convert_to_int)\n"
      ]
    },
    {
      "cell_type": "code",
      "execution_count": null,
      "metadata": {
        "colab": {
          "base_uri": "https://localhost:8080/",
          "height": 576
        },
        "id": "qOlJnJszAO_E",
        "outputId": "bd64a197-40dc-470e-e763-0c3514fa4f12"
      },
      "outputs": [
        {
          "name": "stdout",
          "output_type": "stream",
          "text": [
            "Total Data: 3373\n"
          ]
        },
        {
          "data": {
            "image/png": "[encoded data removed]",
            "text/plain": [
              "<Figure size 640x480 with 1 Axes>"
            ]
          },
          "metadata": {},
          "output_type": "display_data"
        },
        {
          "data": {
            "text/plain": [
              "0    0.219070\n",
              "1    0.359653\n",
              "2    0.352876\n",
              "3    0.068400\n",
              "dtype: float64"
            ]
          },
          "execution_count": 13,
          "metadata": {},
          "output_type": "execute_result"
        }
      ],
      "source": [
        "plot_category_distribution(train)"
      ]
    },
    {
      "cell_type": "code",
      "source": [],
      "metadata": {
        "id": "QB0VXqGfpuq_"
      },
      "execution_count": null,
      "outputs": []
    },
    {
      "cell_type": "markdown",
      "metadata": {
        "id": "1eWJNRwyE1Kr"
      },
      "source": [
        "## Dataloader"
      ]
    },
    {
      "cell_type": "code",
      "execution_count": null,
      "metadata": {
        "id": "C1UZkE9xkgpc"
      },
      "outputs": [],
      "source": [
        "train_set = pd.read_json('train.json', orient='records', lines=True)\n",
        "validation_set = pd.read_json('validation.json', orient='records', lines=True)\n",
        "test_set = pd.read_json('test.json', orient='records', lines=True)"
      ]
    },
    {
      "cell_type": "code",
      "source": [
        "import pandas as pd\n",
        "import re\n",
        "\n",
        "# Function\n",
        "def remove_punctuation(text):\n",
        "    punctuation = r'[\\s+\\.\\!\\/_,$%^*(+\\\"\\']+|[+——！，。？、~@#￥%……&*（）]+'\n",
        "    return re.sub(punctuation, ' ', text)\n",
        "\n",
        "train_set['instruction'] = train_set['instruction'].apply(remove_punctuation)\n",
        "validation_set['instruction'] = validation_set['instruction'].apply(remove_punctuation)\n",
        "test_set['instruction'] = test_set['instruction'].apply(remove_punctuation)\n"
      ],
      "metadata": {
        "id": "i49TuyDkqf7J"
      },
      "execution_count": null,
      "outputs": []
    },
    {
      "cell_type": "code",
      "source": [
        "# Test only use the last 512 tokens\n",
        "def truncate_texts(df, column_name):\n",
        "    df[column_name] = df[column_name].apply(lambda x: x[-512:] if isinstance(x, str) else x)\n",
        "    return df\n",
        "\n",
        "train_set = truncate_texts(train_set, 'instruction')\n",
        "validation_set = truncate_texts(validation_set, 'instruction')\n",
        "test_set = truncate_texts(test_set, 'instruction')"
      ],
      "metadata": {
        "id": "kTHwT9wuBn3W"
      },
      "execution_count": null,
      "outputs": []
    },
    {
      "cell_type": "code",
      "execution_count": 15,
      "metadata": {
        "colab": {
          "base_uri": "https://localhost:8080/",
          "height": 607
        },
        "id": "hYy4WHNhKCir",
        "outputId": "c350d929-ead1-40d3-8a1c-85c920fbf02c"
      },
      "outputs": [
        {
          "output_type": "display_data",
          "data": {
            "text/plain": [
              "<Figure size 1000x600 with 1 Axes>"
            ],
            "image/png": "[encoded data removed]"
          },
          "metadata": {}
        }
      ],
      "source": [
        "import matplotlib.pyplot as plt\n",
        "\n",
        "text_lengths = df['instruction'].str.len()\n",
        "\n",
        "plt.figure(figsize=(10, 6))\n",
        "max_length = text_lengths.quantile(1)\n",
        "plt.hist(text_lengths[text_lengths <= max_length], bins=100, color='#a6998a', alpha=0.7, edgecolor='black')\n",
        "\n",
        "plt.grid(color='grey', linestyle='-', linewidth=0.25, alpha=0.5)\n",
        "\n",
        "plt.title('Text Length Distribution', fontsize=14, fontweight='bold')\n",
        "plt.xlabel('Text Length', fontsize=12)\n",
        "plt.ylabel('Frequency', fontsize=12)\n",
        "\n",
        "plt.xticks(fontsize=10, rotation=30)\n",
        "plt.yticks(fontsize=10)\n",
        "\n",
        "plt.tight_layout()\n",
        "plt.show()\n"
      ]
    },
    {
      "cell_type": "markdown",
      "metadata": {
        "id": "RyiRHExaeTwI"
      },
      "source": [
        "## Hyperparameters"
      ]
    },
    {
      "cell_type": "code",
      "execution_count": null,
      "metadata": {
        "id": "sIOEWnpG_7Fz"
      },
      "outputs": [],
      "source": [
        "# Set up hyperparameters\n",
        "\n",
        "MAX_LEN = 512 # 512的倍數\n",
        "NUM_LABELS = 4\n",
        "TRAIN_BATCH_SIZE = 8\n",
        "VALID_BATCH_SIZE = 8\n",
        "TEST_BATCH_SIZE = 16\n",
        "EPOCHS = 10\n",
        "LEARNING_RATE = 2e-05\n",
        "gradient_accumulation_steps = 4\n",
        "OVERLAP = 64\n",
        "MODEL_NAME_OR_PATH = \"ValkyriaLenneth/longformer_zh\"\n",
        "MODEL_NAME_OR_PATH_XL = \"transfo-xl-wt103\"\n",
        "MODEL_NAME_OR_PATH_RO = \"hfl/chinese-roberta-wwm-ext\"\n",
        "TOKENIZER_PATH_BASE = \"bert-base-chinese\""
      ]
    },
    {
      "cell_type": "code",
      "source": [
        "class MultiLabelDataset(Dataset):\n",
        "\n",
        "    def __init__(self, dataframe, tokenizer, max_len):\n",
        "        self.tokenizer = tokenizer\n",
        "        self.data = dataframe\n",
        "        self.text = dataframe.instruction\n",
        "        self.targets = self.data.output\n",
        "        self.max_len = max_len\n",
        "\n",
        "    def __len__(self):\n",
        "        return len(self.text)\n",
        "\n",
        "    def __getitem__(self, index):\n",
        "        text = str(self.text[index])\n",
        "\n",
        "        inputs = self.tokenizer.encode_plus(\n",
        "            text,\n",
        "            None,\n",
        "            add_special_tokens=True,\n",
        "            max_length=self.max_len,\n",
        "            padding='max_length',\n",
        "            truncation=True,\n",
        "        )\n",
        "        ids = inputs['input_ids']\n",
        "        mask = inputs['attention_mask']\n",
        "\n",
        "\n",
        "        return {\n",
        "            'ids': torch.tensor(ids, dtype=torch.long),\n",
        "            'mask': torch.tensor(mask, dtype=torch.long),\n",
        "            'targets': torch.tensor(self.targets[index], dtype=torch.float)\n",
        "        }"
      ],
      "metadata": {
        "id": "xy7HTXlOU9gE"
      },
      "execution_count": null,
      "outputs": []
    },
    {
      "cell_type": "markdown",
      "source": [
        "## Longformer"
      ],
      "metadata": {
        "id": "lpidcqO4nx_s"
      }
    },
    {
      "cell_type": "code",
      "execution_count": null,
      "metadata": {
        "id": "j6EAyytdGI1b",
        "colab": {
          "base_uri": "https://localhost:8080/",
          "height": 265,
          "referenced_widgets": [
            "b25548cf3d1046fc9560094564babcdc",
            "0f08fd3e34ce4f0aae82f8b4b10a5c82",
            "3f179e6adc35492391b76059bd680268",
            "f5a019ecca714113a52d51e7ef4ff2a0",
            "86f935c226bb49f58d0d17b444b1fe11",
            "ceab519b255749b689509b64d7abf8d4",
            "e6d2e5c20a91475c8b8f2aa3ebd98d57",
            "e2a8e87a18644fedbad5b48959d8cf17",
            "8aee4d36689846cca755edb8c2cc0ddc",
            "e262ef5340cf491db7188046a514c4f0",
            "160fb4d1e1a14e73ad12b9476d248acf",
            "48bc904bb31c4a10a3aba6287d90a009",
            "fe361163cc284a43871faed9112b63c7",
            "b9848e413e4d4a1a9227d14c90437530",
            "ca58c5f5d7f144cca19a16fc9d139ce7",
            "76eca7f3bc444bdbbb8e5ac12b3a40b2",
            "c4592c78fd1e401b87ac4161f7849fff",
            "fa410b8891994100954483a7ab3304d6",
            "5d94ddf058794deda0370aaa2d738b8c",
            "0c52164a494f4a9da9c0bfe06b836ea0",
            "ac05fecbdc04480b9652ee298006ed3c",
            "3a3a48075288476487b7874a49147809",
            "def7a06fda39486e8fdfc5b76fc3e610",
            "0642f0d0711040d899a28820d136eb3a",
            "da45b66ab89043c8ba696e0732b9af76",
            "9fa2ae5c49ed4a26af68b2934c2f7c3b",
            "fa4f8425f95944648809ed6160279a23",
            "ae98c164d7db4603a0bc13ba31c42ede",
            "a10edd7652974b81bd8c28a7092b3d4e",
            "0a9061e1c05c4acbbf3953482567d37b",
            "2b00b95c4b834c5d9096ac4fcf28cfc1",
            "251d9a87fd3b44d3a11df7044f578f93",
            "a85de1e391a54bff848669d68299cb88",
            "695f5ffcb99a45e3a08b773ffd659f6d",
            "a6baa0ef15ac4ed39626dafbdde8bfde",
            "89dccc0ff6a54ca8b083340889b36817",
            "402541475e5740c2b958570ef7843c1a",
            "08effaee68d94672b8be0a0e28096613",
            "2d1b224f038d4ad1ab23d44c33547b47",
            "73780c468c4c4ba7b0776e296362ceca",
            "7dfa0bb0de1544ba81a062a6631b8336",
            "3bdabc1e8f6b4344af8b4a76b1481c10",
            "0a11fb3c10e64e35bc20285f922cf93c",
            "a53c2ec30d4d4313a6ba63dea07c235a",
            "83fa7332ae8a47998830d8c9c8e12a87",
            "cdfdccce201c4aa09e9d047aa325da5d",
            "c5d442395db947e29d5af896dab2edea",
            "773f07dc2ea244be962f303d583daa5a",
            "fe6622e0471d43a9b017c73e19f6d67f",
            "43e500228aaa4e1489ab18d90aff4018",
            "2c2e1bdfb7084a85bf0bef290ad7ce27",
            "23d94640b4e54e7291a0f2228faed500",
            "b150440aa493438a88792732aa14d428",
            "f4d3cd0d6f504019a40ac86162da7937",
            "8bc59f0e012f4cb1a57c49acfa34dd9f",
            "5bf4e39f9afd48b88ab19c5b1ac132b9",
            "1565fc4a35754b63a808156f86286632",
            "761b706b9af34ccf9be97b15f982ed88",
            "8e1e52b4ebee4bdc8350ec2d7573f497",
            "0fd46d159869467995d25a0fd2fbba34",
            "43334756e6ab4cfd80a8933b91a72516",
            "1039201541af48709d6eee83ee94bef5",
            "7cfb2fbe090e41e29cf6778d6a760f64",
            "0842b7a1148846ea9fa44ffea46b3a3a",
            "6e559e8dbbcc49f98b9bf6703b44e610",
            "c6d55f1907bb439580d6300e8771b167"
          ]
        },
        "outputId": "b0ac0ecd-85d2-463b-c81d-335ebdeb5e34"
      },
      "outputs": [
        {
          "output_type": "display_data",
          "data": {
            "text/plain": [
              "tokenizer_config.json:   0%|          | 0.00/29.0 [00:00<?, ?B/s]"
            ],
            "application/vnd.jupyter.widget-view+json": {
              "version_major": 2,
              "version_minor": 0,
              "model_id": "b25548cf3d1046fc9560094564babcdc"
            }
          },
          "metadata": {}
        },
        {
          "output_type": "display_data",
          "data": {
            "text/plain": [
              "vocab.txt:   0%|          | 0.00/110k [00:00<?, ?B/s]"
            ],
            "application/vnd.jupyter.widget-view+json": {
              "version_major": 2,
              "version_minor": 0,
              "model_id": "48bc904bb31c4a10a3aba6287d90a009"
            }
          },
          "metadata": {}
        },
        {
          "output_type": "display_data",
          "data": {
            "text/plain": [
              "tokenizer.json:   0%|          | 0.00/269k [00:00<?, ?B/s]"
            ],
            "application/vnd.jupyter.widget-view+json": {
              "version_major": 2,
              "version_minor": 0,
              "model_id": "def7a06fda39486e8fdfc5b76fc3e610"
            }
          },
          "metadata": {}
        },
        {
          "output_type": "display_data",
          "data": {
            "text/plain": [
              "config.json:   0%|          | 0.00/624 [00:00<?, ?B/s]"
            ],
            "application/vnd.jupyter.widget-view+json": {
              "version_major": 2,
              "version_minor": 0,
              "model_id": "695f5ffcb99a45e3a08b773ffd659f6d"
            }
          },
          "metadata": {}
        },
        {
          "output_type": "display_data",
          "data": {
            "text/plain": [
              "config.json:   0%|          | 0.00/997 [00:00<?, ?B/s]"
            ],
            "application/vnd.jupyter.widget-view+json": {
              "version_major": 2,
              "version_minor": 0,
              "model_id": "83fa7332ae8a47998830d8c9c8e12a87"
            }
          },
          "metadata": {}
        },
        {
          "output_type": "display_data",
          "data": {
            "text/plain": [
              "pytorch_model.bin:   0%|          | 0.00/505M [00:00<?, ?B/s]"
            ],
            "application/vnd.jupyter.widget-view+json": {
              "version_major": 2,
              "version_minor": 0,
              "model_id": "5bf4e39f9afd48b88ab19c5b1ac132b9"
            }
          },
          "metadata": {}
        },
        {
          "output_type": "stream",
          "name": "stderr",
          "text": [
            "Some weights of LongformerForSequenceClassification were not initialized from the model checkpoint at ValkyriaLenneth/longformer_zh and are newly initialized: ['classifier.dense.bias', 'classifier.dense.weight', 'classifier.out_proj.bias', 'classifier.out_proj.weight']\n",
            "You should probably TRAIN this model on a down-stream task to be able to use it for predictions and inference.\n"
          ]
        }
      ],
      "source": [
        "# config = AutoConfig.from_pretrained(MODEL_NAME_OR_PATH, num_labels=NUM_LABELS)\n",
        "tokenizer = BertTokenizer.from_pretrained(TOKENIZER_PATH_BASE)\n",
        "model = LongformerForSequenceClassification.from_pretrained(\n",
        "    MODEL_NAME_OR_PATH,\n",
        "    num_labels=NUM_LABELS,\n",
        "    ignore_mismatched_sizes=True,\n",
        "    problem_type='multi_label_classification',\n",
        ")"
      ]
    },
    {
      "cell_type": "code",
      "execution_count": null,
      "metadata": {
        "colab": {
          "base_uri": "https://localhost:8080/"
        },
        "id": "r3U9Dz_bFhIE",
        "outputId": "a192d962-2831-49c0-d930-f7eba11cd997"
      },
      "outputs": [
        {
          "output_type": "stream",
          "name": "stdout",
          "text": [
            "TRAIN Dataset: (10139, 3)\n",
            "VALID Dataset: (1254, 3)\n"
          ]
        }
      ],
      "source": [
        "# print(\"FULL Dataset: {}\".format(df_combine.shape))\n",
        "print(\"TRAIN Dataset: {}\".format(train_set.shape))\n",
        "print(\"VALID Dataset: {}\".format(validation_set.shape))\n",
        "\n",
        "training_set = MultiLabelDataset(train_set, tokenizer, MAX_LEN)\n",
        "training_unit_set = MultiLabelDataset(train_set[:100], tokenizer, MAX_LEN)\n",
        "validation_set = MultiLabelDataset(validation_set, tokenizer, MAX_LEN)"
      ]
    },
    {
      "cell_type": "code",
      "execution_count": null,
      "metadata": {
        "colab": {
          "base_uri": "https://localhost:8080/"
        },
        "id": "5Erytc9F4A-h",
        "outputId": "926f98fa-bd46-4511-915d-917dd10888af"
      },
      "outputs": [
        {
          "output_type": "stream",
          "name": "stdout",
          "text": [
            "0        今天要進行總質詢 首先還是要感謝陳其邁市長 以及過去他率領的市府團隊 所有醫護同仁 甚至高雄...\n",
            "1        青年局規劃每個月會有跟青年對談的活動 兩個月一次的青創之夜 這些青年要有更好的創意 我們也是...\n",
            "2        上去；相對瑞北兒童公園整個樹 還有路都非常荒廢 大家偶爾才會維修 然後路也非常不完整 整個公...\n",
            "3                           市長你可以直接下令2位副市長多久能完成這件事嗎?半年可以嗎?\n",
            "4                        我們排除任何因素 你都不願意自行去接洽有可能可以取得疫苗的機會嗎?\n",
            "                               ...                        \n",
            "10134    等一下我再請教教育局 提到桃園青年局的跨局處業務 本席想分享一下桃園青年諮詢委員會的運作 為...\n",
            "10135    他們吐槽我們的第二個重點 他用3年的統計 這個綠色部分是環保局交付的量 藍色部分是廠商自收的...\n",
            "10136    蘇冺颱風造成南橫道路白布帆段道路沖毀 這個工程已經做2年了 為什麼延宕這麼久 不是私人土地 ...\n",
            "10137    接下來還是一些交通問題 跟觀光也是有關聯 所以這部分也是期待交通局跟民政局可以來解決 就是有...\n",
            "10138    民政局的資料也是落後你們好幾天 副局長 我把這個問題點出來 希望我們市府和市長這邊能夠多用一...\n",
            "Name: instruction, Length: 10139, dtype: object\n"
          ]
        }
      ],
      "source": [
        "print(training_set.text)"
      ]
    },
    {
      "cell_type": "code",
      "execution_count": null,
      "metadata": {
        "id": "ERtNKytxHiMy"
      },
      "outputs": [],
      "source": [
        "train_params = {'batch_size': TRAIN_BATCH_SIZE,\n",
        "                'shuffle': True,\n",
        "                'num_workers': 0\n",
        "                }\n",
        "\n",
        "valid_params = {'batch_size': VALID_BATCH_SIZE,\n",
        "                'shuffle': False,\n",
        "                'num_workers': 0\n",
        "                }\n",
        "test_params = {'batch_size': TEST_BATCH_SIZE,\n",
        "               'shuffle': False,\n",
        "               'num_workers': 0,}\n",
        "\n",
        "training_loader = DataLoader(training_set, **train_params)\n",
        "training_unit_loader = DataLoader(training_unit_set, **train_params)\n",
        "validation_loader = DataLoader(validation_set, **valid_params)\n",
        "test_loader = DataLoader(test_set, **test_params)"
      ]
    },
    {
      "cell_type": "markdown",
      "metadata": {
        "id": "ImbfJWvtJLxn"
      },
      "source": [
        "# Model"
      ]
    },
    {
      "cell_type": "code",
      "execution_count": null,
      "metadata": {
        "id": "9BMbNGpIK63F"
      },
      "outputs": [],
      "source": [
        "# Longformer\n",
        "class LongformerClass(torch.nn.Module):\n",
        "    def __init__(self, model_name_or_path):\n",
        "        super(LongformerClass, self).__init__()\n",
        "        self.l1 = LongformerModel.from_pretrained(model_name_or_path)\n",
        "        self.pre_classifier = torch.nn.Linear(768, 768) # 更改到模型對應的hidden layer\n",
        "        self.dropout = torch.nn.Dropout(0.1)\n",
        "        self.classifier = torch.nn.Linear(768, NUM_LABELS)\n",
        "\n",
        "    def forward(self, input_ids, attention_mask):\n",
        "        output_1 = self.l1(input_ids=input_ids, attention_mask=attention_mask)\n",
        "        hidden_state = output_1[0]\n",
        "        pooler = hidden_state[:, 0]\n",
        "        pooler = self.pre_classifier(pooler)\n",
        "        pooler = torch.nn.Tanh()(pooler)\n",
        "        pooler = self.dropout(pooler)\n",
        "        output = self.classifier(pooler)\n",
        "        return output"
      ]
    },
    {
      "cell_type": "code",
      "execution_count": null,
      "metadata": {
        "colab": {
          "base_uri": "https://localhost:8080/"
        },
        "id": "v2FQ0dKmKlpp",
        "outputId": "90daddb1-f697-4b95-88c5-c18aec3051f5"
      },
      "outputs": [
        {
          "output_type": "execute_result",
          "data": {
            "text/plain": [
              "LongformerForSequenceClassification(\n",
              "  (longformer): LongformerModel(\n",
              "    (embeddings): LongformerEmbeddings(\n",
              "      (word_embeddings): Embedding(21128, 768, padding_idx=0)\n",
              "      (token_type_embeddings): Embedding(2, 768)\n",
              "      (LayerNorm): LayerNorm((768,), eps=1e-12, elementwise_affine=True)\n",
              "      (dropout): Dropout(p=0.1, inplace=False)\n",
              "      (position_embeddings): Embedding(4096, 768, padding_idx=0)\n",
              "    )\n",
              "    (encoder): LongformerEncoder(\n",
              "      (layer): ModuleList(\n",
              "        (0-11): 12 x LongformerLayer(\n",
              "          (attention): LongformerAttention(\n",
              "            (self): LongformerSelfAttention(\n",
              "              (query): Linear(in_features=768, out_features=768, bias=True)\n",
              "              (key): Linear(in_features=768, out_features=768, bias=True)\n",
              "              (value): Linear(in_features=768, out_features=768, bias=True)\n",
              "              (query_global): Linear(in_features=768, out_features=768, bias=True)\n",
              "              (key_global): Linear(in_features=768, out_features=768, bias=True)\n",
              "              (value_global): Linear(in_features=768, out_features=768, bias=True)\n",
              "            )\n",
              "            (output): LongformerSelfOutput(\n",
              "              (dense): Linear(in_features=768, out_features=768, bias=True)\n",
              "              (LayerNorm): LayerNorm((768,), eps=1e-12, elementwise_affine=True)\n",
              "              (dropout): Dropout(p=0.1, inplace=False)\n",
              "            )\n",
              "          )\n",
              "          (intermediate): LongformerIntermediate(\n",
              "            (dense): Linear(in_features=768, out_features=3072, bias=True)\n",
              "            (intermediate_act_fn): GELUActivation()\n",
              "          )\n",
              "          (output): LongformerOutput(\n",
              "            (dense): Linear(in_features=3072, out_features=768, bias=True)\n",
              "            (LayerNorm): LayerNorm((768,), eps=1e-12, elementwise_affine=True)\n",
              "            (dropout): Dropout(p=0.1, inplace=False)\n",
              "          )\n",
              "        )\n",
              "      )\n",
              "    )\n",
              "  )\n",
              "  (classifier): LongformerClassificationHead(\n",
              "    (dense): Linear(in_features=768, out_features=768, bias=True)\n",
              "    (dropout): Dropout(p=0.1, inplace=False)\n",
              "    (out_proj): Linear(in_features=768, out_features=4, bias=True)\n",
              "  )\n",
              ")"
            ]
          },
          "metadata": {},
          "execution_count": 16
        }
      ],
      "source": [
        "# model = LongformerClass(MODEL_NAME_OR_PATH)\n",
        "model.to(device)\n"
      ]
    },
    {
      "cell_type": "code",
      "execution_count": null,
      "metadata": {
        "id": "xie6jwRHgwyN"
      },
      "outputs": [],
      "source": [
        "def loss_fn(outputs, targets):\n",
        "    return torch.nn.BCEWithLogitsLoss()(outputs, targets)"
      ]
    },
    {
      "cell_type": "code",
      "execution_count": null,
      "metadata": {
        "id": "6KNC3l_pgyD-"
      },
      "outputs": [],
      "source": [
        "# Optimizer\n",
        "optimizer = torch.optim.Adam(params=model.parameters(), lr=LEARNING_RATE)"
      ]
    },
    {
      "cell_type": "markdown",
      "metadata": {
        "id": "Xje4hNR59qJY"
      },
      "source": [
        "# Train"
      ]
    },
    {
      "cell_type": "code",
      "execution_count": null,
      "metadata": {
        "id": "ucgHwVz9i7BL"
      },
      "outputs": [],
      "source": [
        "def validation(testing_loader):\n",
        "    model.eval()\n",
        "    fin_targets=[]\n",
        "    fin_outputs=[]\n",
        "    with torch.no_grad():\n",
        "        for _, data in tqdm(enumerate(testing_loader, 0)):\n",
        "            ids = data['ids'].to(device, dtype = torch.long)\n",
        "            mask = data['mask'].to(device, dtype = torch.long)\n",
        "            targets = data['targets'].to(device, dtype = torch.float)\n",
        "            outputs = model(ids, mask)\n",
        "            fin_targets.extend(targets.cpu().detach().numpy().tolist())\n",
        "            fin_outputs.extend(torch.sigmoid(outputs.logits).cpu().detach().numpy().tolist())\n",
        "    return fin_outputs, fin_targets"
      ]
    },
    {
      "cell_type": "code",
      "execution_count": null,
      "metadata": {
        "id": "hUKrRz83vc-m"
      },
      "outputs": [],
      "source": [
        "def train(epoch, gradient_accumulation_steps=gradient_accumulation_steps, train_batch_size=TRAIN_BATCH_SIZE):\n",
        "    print(f\"\\n\")\n",
        "    print(\"*\" * 10, \"Start training Epoch\", str(epoch + 1), \"*\" * 10)\n",
        "\n",
        "    best_model = False\n",
        "    best_model_dict = None\n",
        "    model.train()\n",
        "    optimizer.zero_grad()  # 初始化梯度\n",
        "    total_loss = 0\n",
        "\n",
        "    for step, data in tqdm(enumerate(training_loader, 0), total=round((train_set.shape[0] / train_batch_size))):\n",
        "        ids = data['ids'].to(device, dtype=torch.long)\n",
        "        mask = data['mask'].to(device, dtype=torch.long)\n",
        "        targets = data['targets'].to(device, dtype=torch.float)\n",
        "\n",
        "        outputs = model(ids, mask)\n",
        "        logits = outputs.logits\n",
        "\n",
        "        loss = loss_fn(logits, targets)\n",
        "        total_loss += loss.item()\n",
        "        loss.backward()\n",
        "\n",
        "        # 每 gradient_accumulation_steps 步更新一次梯度\n",
        "        if (step + 1) % gradient_accumulation_steps == 0:\n",
        "            optimizer.step()\n",
        "            optimizer.zero_grad()\n",
        "\n",
        "    avg_train_loss = total_loss / len(training_loader)\n",
        "    print(f'Epoch {epoch + 1}: Average Training Loss: {avg_train_loss}')\n",
        "\n",
        "    # Evaluate\n",
        "    print(f\"**********Validation**********\")\n",
        "    outputs, targets = validation(validation_loader)\n",
        "\n",
        "    final_outputs = np.array(outputs) >= 0.5 # Should also considered training\n",
        "\n",
        "    print(\" \" * 10,\"Answer\", \" \" * 15, \"Prediction\")\n",
        "    for i in range(10):\n",
        "        print(targets[i], final_outputs[i])\n",
        "\n",
        "    # Calculate evaluation metrics\n",
        "    accuracy = accuracy_score(targets, final_outputs)\n",
        "    precision = precision_score(targets, final_outputs, average='micro')\n",
        "    recall = recall_score(targets, final_outputs, average='micro')\n",
        "    val_hamming_loss = metrics.hamming_loss(targets, final_outputs)\n",
        "    val_hamming_score = hamming_score(np.array(targets), np.array(final_outputs))\n",
        "\n",
        "    training_record['hamming_loss'].append(val_hamming_loss)\n",
        "    training_record['hamming_score'].append(val_hamming_score)\n",
        "    training_record['accuracy'].append(accuracy)\n",
        "    training_record['precision'].append(precision)\n",
        "    training_record['recall'].append(recall)\n",
        "\n",
        "    # Print the evaluation metrics\n",
        "    print(f\"Hamming Score = {val_hamming_score}\")\n",
        "    print(f\"Hamming Loss = {val_hamming_loss}\")\n",
        "    print(f'Epoch {epoch + 1}: Accuracy: {accuracy:.4f}, Precision: {precision:.4f}, Recall: {recall:.4f}')\n",
        "    print(f\"\\n\")\n",
        "\n",
        "    # 保存最佳模型\n",
        "    if val_hamming_score > training_record['best_score']:\n",
        "        best_model = True\n",
        "        training_record['best_score'] = val_hamming_score\n",
        "\n",
        "    if best_model:\n",
        "        best_model = False\n",
        "        print(f\"***********Save this model!!!***********\")\n",
        "        best_model_dict = copy.deepcopy(model.state_dict())\n",
        "        torch.save(best_model_dict, 'PyTorch_model.bin')"
      ]
    },
    {
      "cell_type": "code",
      "execution_count": null,
      "metadata": {
        "colab": {
          "base_uri": "https://localhost:8080/"
        },
        "id": "mR6N6eIgg9qP",
        "outputId": "3f2f0f01-26a0-457b-b3a5-cb4bdf7a095a"
      },
      "outputs": [
        {
          "metadata": {
            "tags": null
          },
          "name": "stdout",
          "output_type": "stream",
          "text": [
            "\n",
            "\n",
            "********** Start training Epoch 1 **********\n"
          ]
        },
        {
          "metadata": {
            "tags": null
          },
          "name": "stderr",
          "output_type": "stream",
          "text": [
            "1268it [12:17,  1.72it/s]\n"
          ]
        },
        {
          "metadata": {
            "tags": null
          },
          "name": "stdout",
          "output_type": "stream",
          "text": [
            "Epoch 1: Average Training Loss: 0.43226055713364564\n",
            "**********Validation**********\n"
          ]
        },
        {
          "metadata": {
            "tags": null
          },
          "name": "stderr",
          "output_type": "stream",
          "text": [
            "157it [00:26,  5.87it/s]\n"
          ]
        },
        {
          "metadata": {
            "tags": null
          },
          "name": "stdout",
          "output_type": "stream",
          "text": [
            "           Answer                 Prediction\n",
            "[1.0, 1.0, 1.0, 1.0] [ True  True False False]\n",
            "[1.0, 1.0, 1.0, 0.0] [False  True  True False]\n",
            "[0.0, 0.0, 1.0, 0.0] [False False  True False]\n",
            "[1.0, 1.0, 0.0, 0.0] [ True  True False False]\n",
            "[0.0, 1.0, 1.0, 0.0] [ True  True False  True]\n",
            "[0.0, 1.0, 1.0, 0.0] [ True  True  True False]\n",
            "[0.0, 0.0, 1.0, 0.0] [False  True  True False]\n",
            "[0.0, 0.0, 1.0, 0.0] [False False  True False]\n",
            "[1.0, 1.0, 1.0, 0.0] [False  True  True False]\n",
            "[0.0, 1.0, 0.0, 0.0] [False  True False False]\n",
            "Hamming Score = 0.7369750132908028\n",
            "Hamming Loss = 0.14812599681020733\n",
            "Epoch 1: Accuracy: 0.5534, Precision: 0.7876, Recall: 0.8021\n",
            "\n",
            "\n",
            "***********Save this model!!!***********\n",
            "\n",
            "\n",
            "********** Start training Epoch 2 **********\n"
          ]
        },
        {
          "metadata": {
            "tags": null
          },
          "name": "stderr",
          "output_type": "stream",
          "text": [
            "1268it [12:16,  1.72it/s]\n"
          ]
        },
        {
          "metadata": {
            "tags": null
          },
          "name": "stdout",
          "output_type": "stream",
          "text": [
            "Epoch 2: Average Training Loss: 0.322501105799895\n",
            "**********Validation**********\n"
          ]
        },
        {
          "metadata": {
            "tags": null
          },
          "name": "stderr",
          "output_type": "stream",
          "text": [
            "157it [00:26,  5.86it/s]\n"
          ]
        },
        {
          "metadata": {
            "tags": null
          },
          "name": "stdout",
          "output_type": "stream",
          "text": [
            "           Answer                 Prediction\n",
            "[1.0, 1.0, 1.0, 1.0] [ True  True  True False]\n",
            "[1.0, 1.0, 1.0, 0.0] [False  True  True False]\n",
            "[0.0, 0.0, 1.0, 0.0] [False False  True False]\n",
            "[1.0, 1.0, 0.0, 0.0] [ True  True  True False]\n",
            "[0.0, 1.0, 1.0, 0.0] [False  True  True  True]\n",
            "[0.0, 1.0, 1.0, 0.0] [ True  True  True False]\n",
            "[0.0, 0.0, 1.0, 0.0] [False  True  True False]\n",
            "[0.0, 0.0, 1.0, 0.0] [False False  True False]\n",
            "[1.0, 1.0, 1.0, 0.0] [False  True  True False]\n",
            "[0.0, 1.0, 0.0, 0.0] [False  True  True False]\n",
            "Hamming Score = 0.7787745879851143\n",
            "Hamming Loss = 0.12141148325358851\n",
            "Epoch 2: Accuracy: 0.6188, Precision: 0.8323, Recall: 0.8272\n",
            "\n",
            "\n",
            "***********Save this model!!!***********\n",
            "\n",
            "\n",
            "********** Start training Epoch 3 **********\n"
          ]
        },
        {
          "metadata": {
            "tags": null
          },
          "name": "stderr",
          "output_type": "stream",
          "text": [
            "1268it [12:16,  1.72it/s]\n"
          ]
        },
        {
          "metadata": {
            "tags": null
          },
          "name": "stdout",
          "output_type": "stream",
          "text": [
            "Epoch 3: Average Training Loss: 0.2689212233398098\n",
            "**********Validation**********\n"
          ]
        },
        {
          "metadata": {
            "tags": null
          },
          "name": "stderr",
          "output_type": "stream",
          "text": [
            "157it [00:26,  5.86it/s]\n"
          ]
        },
        {
          "metadata": {
            "tags": null
          },
          "name": "stdout",
          "output_type": "stream",
          "text": [
            "           Answer                 Prediction\n",
            "[1.0, 1.0, 1.0, 1.0] [ True  True  True False]\n",
            "[1.0, 1.0, 1.0, 0.0] [False  True  True False]\n",
            "[0.0, 0.0, 1.0, 0.0] [False False  True False]\n",
            "[1.0, 1.0, 0.0, 0.0] [ True  True False False]\n",
            "[0.0, 1.0, 1.0, 0.0] [False  True  True  True]\n",
            "[0.0, 1.0, 1.0, 0.0] [False  True  True False]\n",
            "[0.0, 0.0, 1.0, 0.0] [False  True  True False]\n",
            "[0.0, 0.0, 1.0, 0.0] [False False  True False]\n",
            "[1.0, 1.0, 1.0, 0.0] [False  True  True False]\n",
            "[0.0, 1.0, 0.0, 0.0] [False  True  True False]\n",
            "Hamming Score = 0.8022993088782563\n",
            "Hamming Loss = 0.10964912280701754\n",
            "Epoch 3: Accuracy: 0.6555, Precision: 0.8395, Recall: 0.8573\n",
            "\n",
            "\n",
            "***********Save this model!!!***********\n",
            "\n",
            "\n",
            "********** Start training Epoch 4 **********\n"
          ]
        },
        {
          "metadata": {
            "tags": null
          },
          "name": "stderr",
          "output_type": "stream",
          "text": [
            "1268it [12:17,  1.72it/s]\n"
          ]
        },
        {
          "metadata": {
            "tags": null
          },
          "name": "stdout",
          "output_type": "stream",
          "text": [
            "Epoch 4: Average Training Loss: 0.22039837533114506\n",
            "**********Validation**********\n"
          ]
        },
        {
          "metadata": {
            "tags": null
          },
          "name": "stderr",
          "output_type": "stream",
          "text": [
            "157it [00:26,  5.86it/s]\n"
          ]
        },
        {
          "metadata": {
            "tags": null
          },
          "name": "stdout",
          "output_type": "stream",
          "text": [
            "           Answer                 Prediction\n",
            "[1.0, 1.0, 1.0, 1.0] [ True  True  True  True]\n",
            "[1.0, 1.0, 1.0, 0.0] [False  True  True False]\n",
            "[0.0, 0.0, 1.0, 0.0] [False False  True False]\n",
            "[1.0, 1.0, 0.0, 0.0] [ True False False False]\n",
            "[0.0, 1.0, 1.0, 0.0] [False  True  True False]\n",
            "[0.0, 1.0, 1.0, 0.0] [False  True  True False]\n",
            "[0.0, 0.0, 1.0, 0.0] [False  True  True False]\n",
            "[0.0, 0.0, 1.0, 0.0] [False False  True False]\n",
            "[1.0, 1.0, 1.0, 0.0] [False  True  True False]\n",
            "[0.0, 1.0, 0.0, 0.0] [False False False False]\n",
            "Hamming Score = 0.8050903774587984\n",
            "Hamming Loss = 0.10446570972886762\n",
            "Epoch 4: Accuracy: 0.6699, Precision: 0.8641, Recall: 0.8400\n",
            "\n",
            "\n",
            "***********Save this model!!!***********\n",
            "\n",
            "\n",
            "********** Start training Epoch 5 **********\n"
          ]
        },
        {
          "metadata": {
            "tags": null
          },
          "name": "stderr",
          "output_type": "stream",
          "text": [
            "1268it [12:17,  1.72it/s]\n"
          ]
        },
        {
          "metadata": {
            "tags": null
          },
          "name": "stdout",
          "output_type": "stream",
          "text": [
            "Epoch 5: Average Training Loss: 0.18107044151822568\n",
            "**********Validation**********\n"
          ]
        },
        {
          "metadata": {
            "tags": null
          },
          "name": "stderr",
          "output_type": "stream",
          "text": [
            "157it [00:26,  5.85it/s]\n"
          ]
        },
        {
          "metadata": {
            "tags": null
          },
          "name": "stdout",
          "output_type": "stream",
          "text": [
            "           Answer                 Prediction\n",
            "[1.0, 1.0, 1.0, 1.0] [ True  True  True  True]\n",
            "[1.0, 1.0, 1.0, 0.0] [False  True  True False]\n",
            "[0.0, 0.0, 1.0, 0.0] [False False  True False]\n",
            "[1.0, 1.0, 0.0, 0.0] [ True  True  True False]\n",
            "[0.0, 1.0, 1.0, 0.0] [False  True  True False]\n",
            "[0.0, 1.0, 1.0, 0.0] [False  True  True False]\n",
            "[0.0, 0.0, 1.0, 0.0] [False  True  True False]\n",
            "[0.0, 0.0, 1.0, 0.0] [False False  True False]\n",
            "[1.0, 1.0, 1.0, 0.0] [False  True  True False]\n",
            "[0.0, 1.0, 0.0, 0.0] [False  True  True False]\n",
            "Hamming Score = 0.8237639553429027\n",
            "Hamming Loss = 0.09728867623604466\n",
            "Epoch 5: Accuracy: 0.6986, Precision: 0.8481, Recall: 0.8868\n",
            "\n",
            "\n",
            "***********Save this model!!!***********\n",
            "\n",
            "\n",
            "********** Start training Epoch 6 **********\n"
          ]
        },
        {
          "metadata": {
            "tags": null
          },
          "name": "stderr",
          "output_type": "stream",
          "text": [
            "1268it [12:17,  1.72it/s]\n"
          ]
        },
        {
          "metadata": {
            "tags": null
          },
          "name": "stdout",
          "output_type": "stream",
          "text": [
            "Epoch 6: Average Training Loss: 0.1550350191970635\n",
            "**********Validation**********\n"
          ]
        },
        {
          "metadata": {
            "tags": null
          },
          "name": "stderr",
          "output_type": "stream",
          "text": [
            "157it [00:26,  5.84it/s]\n"
          ]
        },
        {
          "metadata": {
            "tags": null
          },
          "name": "stdout",
          "output_type": "stream",
          "text": [
            "           Answer                 Prediction\n",
            "[1.0, 1.0, 1.0, 1.0] [ True  True  True  True]\n",
            "[1.0, 1.0, 1.0, 0.0] [False  True  True False]\n",
            "[0.0, 0.0, 1.0, 0.0] [False  True  True False]\n",
            "[1.0, 1.0, 0.0, 0.0] [ True False False False]\n",
            "[0.0, 1.0, 1.0, 0.0] [False  True  True False]\n",
            "[0.0, 1.0, 1.0, 0.0] [False  True  True False]\n",
            "[0.0, 0.0, 1.0, 0.0] [False False  True False]\n",
            "[0.0, 0.0, 1.0, 0.0] [False False  True False]\n",
            "[1.0, 1.0, 1.0, 0.0] [False  True  True False]\n",
            "[0.0, 1.0, 0.0, 0.0] [False  True  True False]\n",
            "Hamming Score = 0.8230994152046782\n",
            "Hamming Loss = 0.0990829346092504\n",
            "Epoch 6: Accuracy: 0.7065, Precision: 0.8538, Recall: 0.8724\n",
            "\n",
            "\n",
            "\n",
            "\n",
            "********** Start training Epoch 7 **********\n"
          ]
        },
        {
          "metadata": {
            "tags": null
          },
          "name": "stderr",
          "output_type": "stream",
          "text": [
            "1268it [12:16,  1.72it/s]\n"
          ]
        },
        {
          "metadata": {
            "tags": null
          },
          "name": "stdout",
          "output_type": "stream",
          "text": [
            "Epoch 7: Average Training Loss: 0.12399584633571445\n",
            "**********Validation**********\n"
          ]
        },
        {
          "metadata": {
            "tags": null
          },
          "name": "stderr",
          "output_type": "stream",
          "text": [
            "157it [00:26,  5.86it/s]\n"
          ]
        },
        {
          "metadata": {
            "tags": null
          },
          "name": "stdout",
          "output_type": "stream",
          "text": [
            "           Answer                 Prediction\n",
            "[1.0, 1.0, 1.0, 1.0] [ True  True  True  True]\n",
            "[1.0, 1.0, 1.0, 0.0] [ True  True  True False]\n",
            "[0.0, 0.0, 1.0, 0.0] [False False  True False]\n",
            "[1.0, 1.0, 0.0, 0.0] [ True  True False False]\n",
            "[0.0, 1.0, 1.0, 0.0] [False  True  True False]\n",
            "[0.0, 1.0, 1.0, 0.0] [False  True  True False]\n",
            "[0.0, 0.0, 1.0, 0.0] [False False  True False]\n",
            "[0.0, 0.0, 1.0, 0.0] [False False  True False]\n",
            "[1.0, 1.0, 1.0, 0.0] [False  True  True False]\n",
            "[0.0, 1.0, 0.0, 0.0] [False  True  True False]\n",
            "Hamming Score = 0.8408426368952684\n",
            "Hamming Loss = 0.0867224880382775\n",
            "Epoch 7: Accuracy: 0.7400, Precision: 0.8683, Recall: 0.8930\n",
            "\n",
            "\n",
            "***********Save this model!!!***********\n",
            "\n",
            "\n",
            "********** Start training Epoch 8 **********\n"
          ]
        },
        {
          "output_type": "stream",
          "name": "stderr",
          "text": [
            "1268it [12:17,  1.72it/s]\n"
          ]
        },
        {
          "output_type": "stream",
          "name": "stdout",
          "text": [
            "Epoch 8: Average Training Loss: 0.10123821930983325\n",
            "**********Validation**********\n"
          ]
        },
        {
          "output_type": "stream",
          "name": "stderr",
          "text": [
            "157it [00:26,  5.85it/s]\n"
          ]
        },
        {
          "output_type": "stream",
          "name": "stdout",
          "text": [
            "           Answer                 Prediction\n",
            "[1.0, 1.0, 1.0, 1.0] [ True  True  True  True]\n",
            "[1.0, 1.0, 1.0, 0.0] [ True  True  True False]\n",
            "[0.0, 0.0, 1.0, 0.0] [False  True  True False]\n",
            "[1.0, 1.0, 0.0, 0.0] [ True  True False False]\n",
            "[0.0, 1.0, 1.0, 0.0] [False  True  True False]\n",
            "[0.0, 1.0, 1.0, 0.0] [False  True  True False]\n",
            "[0.0, 0.0, 1.0, 0.0] [False False  True False]\n",
            "[0.0, 0.0, 1.0, 0.0] [False False  True False]\n",
            "[1.0, 1.0, 1.0, 0.0] [False  True  True False]\n",
            "[0.0, 1.0, 0.0, 0.0] [False  True  True False]\n",
            "Hamming Score = 0.8392477405635301\n",
            "Hamming Loss = 0.08692185007974482\n",
            "Epoch 8: Accuracy: 0.7392, Precision: 0.8647, Recall: 0.8974\n",
            "\n",
            "\n",
            "\n",
            "\n",
            "********** Start training Epoch 9 **********\n"
          ]
        },
        {
          "output_type": "stream",
          "name": "stderr",
          "text": [
            "1268it [12:16,  1.72it/s]\n"
          ]
        },
        {
          "output_type": "stream",
          "name": "stdout",
          "text": [
            "Epoch 9: Average Training Loss: 0.08362137842321128\n",
            "**********Validation**********\n"
          ]
        },
        {
          "output_type": "stream",
          "name": "stderr",
          "text": [
            "157it [00:26,  5.83it/s]\n"
          ]
        },
        {
          "output_type": "stream",
          "name": "stdout",
          "text": [
            "           Answer                 Prediction\n",
            "[1.0, 1.0, 1.0, 1.0] [ True False  True  True]\n",
            "[1.0, 1.0, 1.0, 0.0] [ True  True  True False]\n",
            "[0.0, 0.0, 1.0, 0.0] [False False  True False]\n",
            "[1.0, 1.0, 0.0, 0.0] [ True False False False]\n",
            "[0.0, 1.0, 1.0, 0.0] [False  True  True False]\n",
            "[0.0, 1.0, 1.0, 0.0] [False  True  True False]\n",
            "[0.0, 0.0, 1.0, 0.0] [False False  True False]\n",
            "[0.0, 0.0, 1.0, 0.0] [False False  True False]\n",
            "[1.0, 1.0, 1.0, 0.0] [False  True  True False]\n",
            "[0.0, 1.0, 0.0, 0.0] [False  True  True False]\n",
            "Hamming Score = 0.8376528442317914\n",
            "Hamming Loss = 0.08891547049441786\n",
            "Epoch 9: Accuracy: 0.7376, Precision: 0.8544, Recall: 0.9058\n",
            "\n",
            "\n",
            "\n",
            "\n",
            "********** Start training Epoch 10 **********\n"
          ]
        },
        {
          "output_type": "stream",
          "name": "stderr",
          "text": [
            "1268it [12:16,  1.72it/s]\n"
          ]
        },
        {
          "output_type": "stream",
          "name": "stdout",
          "text": [
            "Epoch 10: Average Training Loss: 0.07737151631234913\n",
            "**********Validation**********\n"
          ]
        },
        {
          "output_type": "stream",
          "name": "stderr",
          "text": [
            "157it [00:26,  5.86it/s]"
          ]
        },
        {
          "output_type": "stream",
          "name": "stdout",
          "text": [
            "           Answer                 Prediction\n",
            "[1.0, 1.0, 1.0, 1.0] [ True  True  True  True]\n",
            "[1.0, 1.0, 1.0, 0.0] [ True  True  True False]\n",
            "[0.0, 0.0, 1.0, 0.0] [False False  True False]\n",
            "[1.0, 1.0, 0.0, 0.0] [ True  True False False]\n",
            "[0.0, 1.0, 1.0, 0.0] [False  True  True False]\n",
            "[0.0, 1.0, 1.0, 0.0] [False  True  True False]\n",
            "[0.0, 0.0, 1.0, 0.0] [False False  True False]\n",
            "[0.0, 0.0, 1.0, 0.0] [False False  True False]\n",
            "[1.0, 1.0, 1.0, 0.0] [False  True  True False]\n",
            "[0.0, 1.0, 0.0, 0.0] [False  True  True False]\n",
            "Hamming Score = 0.8405103668261563\n",
            "Hamming Loss = 0.0863237639553429\n",
            "Epoch 10: Accuracy: 0.7440, Precision: 0.8700, Recall: 0.8919\n",
            "\n",
            "\n"
          ]
        },
        {
          "output_type": "stream",
          "name": "stderr",
          "text": [
            "\n"
          ]
        }
      ],
      "source": [
        "import json\n",
        "training_record = {'best_score': -float('inf'),\n",
        "                   'hamming_loss': [],\n",
        "                   'hamming_score': [],\n",
        "                   'accuracy': [],\n",
        "                   'precision': [],\n",
        "                   'recall': []}\n",
        "\n",
        "for epoch in range(EPOCHS):\n",
        "    train(epoch)"
      ]
    },
    {
      "cell_type": "code",
      "source": [
        "filename = 'training_record_final_model_3.json'\n",
        "\n",
        "with open(filename, 'w') as f:\n",
        "    json.dump(training_record, f, indent=4)"
      ],
      "metadata": {
        "id": "p4TEOMivh1vM"
      },
      "execution_count": null,
      "outputs": []
    },
    {
      "cell_type": "markdown",
      "metadata": {
        "id": "5aT41sxti8Gl"
      },
      "source": [
        "# Validation"
      ]
    },
    {
      "cell_type": "code",
      "execution_count": null,
      "metadata": {
        "colab": {
          "base_uri": "https://localhost:8080/"
        },
        "id": "jFsL3VYejAhY",
        "outputId": "1bc3e7fa-1f0f-44af-cff6-8f0bfd088da4"
      },
      "outputs": [
        {
          "output_type": "stream",
          "name": "stderr",
          "text": [
            "157it [00:27,  5.81it/s]\n"
          ]
        }
      ],
      "source": [
        "outputs, targets = validation(validation_loader)\n",
        "\n",
        "final_outputs = np.array(outputs) >= 0.5"
      ]
    },
    {
      "cell_type": "code",
      "execution_count": null,
      "metadata": {
        "colab": {
          "base_uri": "https://localhost:8080/"
        },
        "id": "1NqA1kknjCl0",
        "outputId": "5502eee2-d2c1-4cbc-d10e-b667a3703529"
      },
      "outputs": [
        {
          "output_type": "stream",
          "name": "stdout",
          "text": [
            "Hamming Score = 0.8405103668261563\n",
            "Hamming Loss = 0.0863237639553429\n"
          ]
        }
      ],
      "source": [
        "val_hamming_loss = metrics.hamming_loss(targets, final_outputs)\n",
        "val_hamming_score = hamming_score(np.array(targets), np.array(final_outputs))\n",
        "\n",
        "print(f\"Hamming Score = {val_hamming_score}\")\n",
        "print(f\"Hamming Loss = {val_hamming_loss}\")"
      ]
    },
    {
      "cell_type": "code",
      "execution_count": null,
      "metadata": {
        "colab": {
          "base_uri": "https://localhost:8080/"
        },
        "id": "hAgckmTacm3l",
        "outputId": "bbc5234c-52dc-414f-c6af-b532e322fe50"
      },
      "outputs": [
        {
          "output_type": "stream",
          "name": "stdout",
          "text": [
            "Accuracy: 0.7440\n",
            "Precision: 0.8700\n",
            "Recall: 0.8919\n"
          ]
        }
      ],
      "source": [
        "# Calculate evaluation metrics\n",
        "accuracy = accuracy_score(targets, final_outputs)\n",
        "precision = precision_score(targets, final_outputs, average='micro')\n",
        "recall = recall_score(targets, final_outputs, average='micro')\n",
        "\n",
        "# Print the evaluation metrics\n",
        "print(f'Accuracy: {accuracy:.4f}')\n",
        "print(f'Precision: {precision:.4f}')\n",
        "print(f'Recall: {recall:.4f}')"
      ]
    },
    {
      "cell_type": "markdown",
      "source": [
        "# Predict"
      ],
      "metadata": {
        "id": "RZjQ4gfm7Fyh"
      }
    },
    {
      "cell_type": "code",
      "source": [
        "MY_MODEL = \"dean22029/Taiwan_Legislator_multilabel_classification\"\n",
        "tokenizer = BertTokenizer.from_pretrained(MY_MODEL)\n",
        "model = LongformerForSequenceClassification.from_pretrained(\n",
        "    MY_MODEL,\n",
        "    num_labels=4,\n",
        "    ignore_mismatched_sizes=True,\n",
        "    problem_type='multi_label_classification',\n",
        ")"
      ],
      "metadata": {
        "id": "pOvZrc2vPSky",
        "colab": {
          "base_uri": "https://localhost:8080/",
          "height": 81,
          "referenced_widgets": [
            "5f49d83a35304ce0850b5eec4b6b34e8",
            "696c82eeee9f495099150b2d2ba7c5e7",
            "2842cfcd24ee48b2baa44a625c66e2c7",
            "8bbee6db56c848e99d1ad419381ed9c7",
            "1e09d691c5d44a1aac06b1fbaa986a75",
            "75de6e54220b414295d10c4de5e5c0ad",
            "b99a1d48e5fc45ff889695aaa8bea2d6",
            "5f0d610a2b2e4e1883e8e64eb860618d",
            "17425a9d673e4cc4b616429568545d4a",
            "71d781b7fcc141ec8d752a533d3ffe90",
            "ee3fe21b4b4d4f6baa39f89efe382481",
            "defd68987c524050a67d517cabdbcdfa",
            "4fbb934f26ac45879cb587d0adefb50b",
            "d4f0aabcc81d453ba3719752abeb400b",
            "1d9cd34759e84d61a484bff05a3a6705",
            "819a65f5bab547a28aad892dfc137158",
            "456c60adad62462a8152a030eab1b0c7",
            "28628fc2b1c6471b90f7ab61bfc330ea",
            "0d1e60e7f57944c19cf52624d8664cf8",
            "9ef77b5468974d76a193e148cb6ea659",
            "df7677157c4f471eb85b2a0ef6c596a1",
            "6bd6a9eb1227458889e6cdf12a999620"
          ]
        },
        "outputId": "6ca8313d-f963-4aa3-eb5f-4406dd32eadf"
      },
      "execution_count": null,
      "outputs": [
        {
          "output_type": "display_data",
          "data": {
            "text/plain": [
              "config.json:   0%|          | 0.00/1.31k [00:00<?, ?B/s]"
            ],
            "application/vnd.jupyter.widget-view+json": {
              "version_major": 2,
              "version_minor": 0,
              "model_id": "5f49d83a35304ce0850b5eec4b6b34e8"
            }
          },
          "metadata": {}
        },
        {
          "output_type": "display_data",
          "data": {
            "text/plain": [
              "model.safetensors:   0%|          | 0.00/505M [00:00<?, ?B/s]"
            ],
            "application/vnd.jupyter.widget-view+json": {
              "version_major": 2,
              "version_minor": 0,
              "model_id": "defd68987c524050a67d517cabdbcdfa"
            }
          },
          "metadata": {}
        }
      ]
    },
    {
      "cell_type": "code",
      "source": [
        "test_file = 'test.json'\n",
        "reference_file = 'test_answer.json'"
      ],
      "metadata": {
        "id": "2e2ZZo7YOPfy"
      },
      "execution_count": null,
      "outputs": []
    },
    {
      "cell_type": "code",
      "source": [
        "def predict(test_file, tokenizer, model, device):\n",
        "    test_df = pd.read_json(test_file, lines=True)\n",
        "    test_df = truncate_texts(test_df, 'instruction')\n",
        "    test_df['instruction'] = test_df['instruction'].apply(remove_punctuation)\n",
        "    test_df['input_ids'] = test_df['instruction'].apply(lambda x: tokenizer.encode(x, truncation=True, max_length=512, add_special_tokens=True))\n",
        "\n",
        "    predictions = []\n",
        "    predictions_ = []\n",
        "    model.to(device)\n",
        "    model.eval()\n",
        "\n",
        "    with torch.no_grad():\n",
        "        for _, row in tqdm(test_df.iterrows(), total=test_df.shape[0]):\n",
        "            input_ids = torch.tensor(row['input_ids']).unsqueeze(0).to(device)\n",
        "            outputs = model(input_ids)\n",
        "            logits = outputs.logits\n",
        "            preds = torch.sigmoid(logits).cpu().numpy() >= 0.5\n",
        "            preds_ = torch.sigmoid(logits).cpu().numpy() >= 0.6\n",
        "            predictions.append(preds.astype(int).flatten().tolist())\n",
        "            predictions_.append(preds_.astype(int).flatten().tolist())\n",
        "\n",
        "    test_df['prediction'] = predictions\n",
        "    test_df['prediction_0.6'] = predictions_\n",
        "    test_df.drop(columns=['input_ids'], inplace=True)\n",
        "    return test_df"
      ],
      "metadata": {
        "id": "v_wL_hPc7HRx"
      },
      "execution_count": null,
      "outputs": []
    },
    {
      "cell_type": "code",
      "source": [
        "predictions = predict(test_file, tokenizer, model, device)"
      ],
      "metadata": {
        "colab": {
          "base_uri": "https://localhost:8080/"
        },
        "id": "QcZ85gvUODSn",
        "outputId": "eb9032e8-e012-45bf-caa7-ec8fc5f1f7d9"
      },
      "execution_count": null,
      "outputs": [
        {
          "output_type": "stream",
          "name": "stderr",
          "text": [
            "100%|██████████| 1266/1266 [01:10<00:00, 17.92it/s]\n"
          ]
        }
      ]
    },
    {
      "cell_type": "markdown",
      "source": [
        "## Evaluation"
      ],
      "metadata": {
        "id": "RvmZ0uwCPCzx"
      }
    },
    {
      "cell_type": "code",
      "source": [
        "from sklearn.metrics import accuracy_score, recall_score, f1_score, precision_score\n",
        "\n",
        "def evaluate_predictions(answer_file, predict_file):\n",
        "    answer_df = pd.read_json(answer_file, lines=True)\n",
        "\n",
        "    answer_df = answer_df.sort_values(by='id').reset_index(drop=True)\n",
        "    pred_df = predict_file.sort_values(by='id').reset_index(drop=True)\n",
        "\n",
        "    y_true = np.array(answer_df['output'].tolist())\n",
        "    y_pred = np.array(pred_df['prediction'].tolist())\n",
        "\n",
        "    # Metrics\n",
        "    val_hamming_score = hamming_score(y_true, y_pred)\n",
        "    accuracy = accuracy_score(y_true, y_pred)\n",
        "    precision = precision_score(y_true, y_pred, average='micro')\n",
        "    recall = recall_score(y_true, y_pred, average='micro')\n",
        "    f1 = f1_score(y_true, y_pred, average='micro')\n",
        "\n",
        "    print(f'Hamming Score: {val_hamming_score:.4f}')\n",
        "    print(f'Accuracy: {accuracy:.4f}')\n",
        "    print(f'Precision: {precision:.4f}')\n",
        "    print(f'Recall: {recall:.4f}')\n",
        "    print(f'F1 Score: {f1:.4f}')\n"
      ],
      "metadata": {
        "id": "nGO3fEx0OJJ4"
      },
      "execution_count": null,
      "outputs": []
    },
    {
      "cell_type": "code",
      "source": [
        "evaluate_predictions(reference_file, predictions)"
      ],
      "metadata": {
        "colab": {
          "base_uri": "https://localhost:8080/"
        },
        "id": "-5WTCizGPF6m",
        "outputId": "7ed0cf1a-4c85-4fcc-ae12-4dfb6dddc2f4"
      },
      "execution_count": null,
      "outputs": [
        {
          "output_type": "stream",
          "name": "stdout",
          "text": [
            "Hamming Score: 0.8238\n",
            "Accuracy: 0.7125\n",
            "Precision: 0.8635\n",
            "Recall: 0.8757\n",
            "F1 Score: 0.8695\n"
          ]
        }
      ]
    },
    {
      "cell_type": "code",
      "source": [
        "def calculate_class_wise_metrics(answer_file, pred_file):\n",
        "\n",
        "    answer_df = pd.read_json(answer_file, lines=True)\n",
        "    answer_df = answer_df.sort_values(by='id').reset_index(drop=True)\n",
        "    pred_df = pred_file.sort_values(by='id').reset_index(drop=True)\n",
        "\n",
        "    y_true = np.array(answer_df['output'].tolist())\n",
        "    y_pred = np.array(pred_df['prediction'].tolist())\n",
        "\n",
        "    metrics = {\n",
        "        'accuracy': [],\n",
        "        'precision': [],\n",
        "        'recall': [],\n",
        "        'f1_score': []\n",
        "    }\n",
        "\n",
        "    for i in range(y_true.shape[1]):\n",
        "        accuracy = accuracy_score(y_true[:, i], y_pred[:, i])\n",
        "        precision = precision_score(y_true[:, i], y_pred[:, i], zero_division=0)\n",
        "        recall = recall_score(y_true[:, i], y_pred[:, i], zero_division=0)\n",
        "        f1 = f1_score(y_true[:, i], y_pred[:, i], zero_division=0)\n",
        "\n",
        "        metrics['accuracy'].append(accuracy)\n",
        "        metrics['precision'].append(precision)\n",
        "        metrics['recall'].append(recall)\n",
        "        metrics['f1_score'].append(f1)\n",
        "\n",
        "    return metrics\n"
      ],
      "metadata": {
        "id": "mdlXHNG1QZU5"
      },
      "execution_count": null,
      "outputs": []
    },
    {
      "cell_type": "code",
      "source": [
        "class_wise_metrics = calculate_class_wise_metrics(reference_file, predictions)\n",
        "\n",
        "print(\"Label Metrics:\")\n",
        "for metric, values in class_wise_metrics.items():\n",
        "    print(f\"{metric}: {values}\")\n"
      ],
      "metadata": {
        "colab": {
          "base_uri": "https://localhost:8080/"
        },
        "id": "Sjcd0K1MQeKN",
        "outputId": "e1989fd4-bcbb-45ea-b1f6-05c7a0032b3b"
      },
      "execution_count": null,
      "outputs": [
        {
          "output_type": "stream",
          "name": "stdout",
          "text": [
            "Label Metrics:\n",
            "accuracy: [0.8894154818325435, 0.8886255924170616, 0.891785150078989, 0.9478672985781991]\n",
            "precision: [0.8523489932885906, 0.8764044943820225, 0.8646003262642741, 0.8125]\n",
            "recall: [0.8373626373626374, 0.9217134416543574, 0.9075342465753424, 0.6190476190476191]\n",
            "f1_score: [0.8447893569844789, 0.8984881209503239, 0.885547201336675, 0.7027027027027026]\n"
          ]
        }
      ]
    },
    {
      "cell_type": "markdown",
      "source": [
        "## visualization"
      ],
      "metadata": {
        "id": "2k4p0IPD6Yix"
      }
    },
    {
      "cell_type": "code",
      "source": [
        "import json\n",
        "import matplotlib.pyplot as plt\n",
        "\n",
        "def plot_training_record(json_files, key):\n",
        "    plt.figure(figsize=(12, 7))\n",
        "\n",
        "    colors = ['#708090', '#556b2f', '#2f4f4f', '#bc8f8f', '#b2a29d', '#857e7b', '#a6998a', '#7a6f66']\n",
        "    labels = ['Max Length 1024',\n",
        "              'Max 1024, bert-base-chinese',\n",
        "              'Max Length 512',\n",
        "              'Max Length 512, BT',\n",
        "              'Max Length 512, BT + No Punc',\n",
        "              'Max Length 512, batch size 8 + BT + No Punc']\n",
        "\n",
        "    for i, file_path in enumerate(json_files):\n",
        "        with open(file_path, 'r') as file:\n",
        "            data = json.load(file)\n",
        "\n",
        "            if key in data:\n",
        "                values = data[key]\n",
        "                if isinstance(values, list):\n",
        "                    plt.plot(values, label=labels[i], color=colors[i % len(colors)])\n",
        "                else:\n",
        "                    print(f\"Key '{key}' in file {file_path} is not a list.\")\n",
        "            else:\n",
        "                print(f\"Key '{key}' not found in file {file_path}.\")\n",
        "\n",
        "    title = ' '.join(key.split('_')).title()\n",
        "    plt.title(f'{title}', fontsize=16)\n",
        "    plt.xlabel('Epoch', fontsize=14)\n",
        "    plt.ylabel(f'{title}', fontsize=14)\n",
        "\n",
        "    plt.legend(loc='upper left', bbox_to_anchor=(1, 1))\n",
        "\n",
        "    plt.tight_layout()\n",
        "    plt.show()"
      ],
      "metadata": {
        "id": "ZYK29ntt6XkH"
      },
      "execution_count": null,
      "outputs": []
    },
    {
      "cell_type": "code",
      "source": [
        "training_record = ['Data/training_record.json',\n",
        "                   'Data/training_record_base.json',\n",
        "                   'Data/training_record_final_model.json',\n",
        "                   'Data/training_record_final_backward_model.json',\n",
        "                   'Data/training_record_final_model_2.json',\n",
        "                   'Data/training_record_final_model_3.json']\n",
        "plot_training_record(training_record, 'hamming_score')"
      ],
      "metadata": {
        "colab": {
          "base_uri": "https://localhost:8080/",
          "height": 662
        },
        "id": "U7gJQMnr7Csk",
        "outputId": "46ab06be-ea36-4b7f-bca3-f59b11616e1a"
      },
      "execution_count": null,
      "outputs": [
        {
          "output_type": "display_data",
          "data": {
            "text/plain": [
              "<Figure size 1200x700 with 1 Axes>"
            ],
            "image/png": "[encoded data removed]"
          },
          "metadata": {}
        }
      ]
    },
    {
      "cell_type": "code",
      "source": [
        "plot_training_record(training_record, 'hamming_loss')"
      ],
      "metadata": {
        "colab": {
          "base_uri": "https://localhost:8080/",
          "height": 662
        },
        "id": "4zxYJjZM_ckI",
        "outputId": "94de32aa-8e82-4c46-d72a-7d8f7417b069"
      },
      "execution_count": null,
      "outputs": [
        {
          "output_type": "display_data",
          "data": {
            "text/plain": [
              "<Figure size 1200x700 with 1 Axes>"
            ],
            "image/png": "[encoded data removed]"
          },
          "metadata": {}
        }
      ]
    },
    {
      "cell_type": "code",
      "source": [
        "plot_training_record(training_record, 'accuracy')"
      ],
      "metadata": {
        "colab": {
          "base_uri": "https://localhost:8080/",
          "height": 662
        },
        "id": "OzPUaKWCVk2s",
        "outputId": "e6ce6f25-8984-425e-e303-e77618c4ba0f"
      },
      "execution_count": null,
      "outputs": [
        {
          "output_type": "display_data",
          "data": {
            "text/plain": [
              "<Figure size 1200x700 with 1 Axes>"
            ],
            "image/png": "[encoded data removed]"
          },
          "metadata": {}
        }
      ]
    },
    {
      "cell_type": "code",
      "source": [
        "import matplotlib.pyplot as plt\n",
        "import numpy as np\n",
        "\n",
        "accuracy = [0.8957, 0.8934, 0.8942, 0.9550]\n",
        "precision = [0.8534, 0.8939, 0.8583, 0.8165]\n",
        "recall = [0.8571, 0.9084, 0.9229, 0.7063]\n",
        "f1_score = [0.8553, 0.9011, 0.8894, 0.7574]\n",
        "\n",
        "labels = ['Information', 'Justification', 'Change', 'Sanction']\n",
        "x = np.arange(len(labels))\n",
        "width = 0.1\n",
        "\n",
        "fig, ax = plt.subplots(figsize=(12, 6))\n",
        "\n",
        "rects1 = ax.bar(x - width*1.5, accuracy, width, label='Accuracy', color='#1f77b4')\n",
        "rects2 = ax.bar(x - width/2, precision, width, label='Precision', color='#ff7f0e')\n",
        "rects3 = ax.bar(x + width/2, recall, width, label='Recall', color='#2ca02c')\n",
        "rects4 = ax.bar(x + width*1.5, f1_score, width, label='F1 Score', color='#d62728')\n",
        "\n",
        "\n",
        "ax.set_ylabel('Score')\n",
        "ax.set_title('Evaluation Metrics of Labels')\n",
        "ax.set_xticks(x)\n",
        "ax.set_xticklabels(labels, rotation=15)\n",
        "ax.legend(loc='upper center', bbox_to_anchor=(0.5, -0.15), shadow=True, ncol=4)\n",
        "\n",
        "plt.show()\n"
      ],
      "metadata": {
        "colab": {
          "base_uri": "https://localhost:8080/",
          "height": 622
        },
        "id": "JcoWpfO1O6Pb",
        "outputId": "4f016894-604f-41bd-b8d6-7f68fb7b4869"
      },
      "execution_count": null,
      "outputs": [
        {
          "output_type": "display_data",
          "data": {
            "text/plain": [
              "<Figure size 1200x600 with 1 Axes>"
            ],
            "image/png": "[encoded data removed]"
          },
          "metadata": {}
        }
      ]
    },
    {
      "cell_type": "markdown",
      "metadata": {
        "id": "pWjBa4GXWify"
      },
      "source": [
        "# Save Model"
      ]
    },
    {
      "cell_type": "code",
      "source": [
        "output_dir = \"./Model_3\"\n",
        "model.save_pretrained(output_dir)\n",
        "tokenizer.save_pretrained(output_dir)"
      ],
      "metadata": {
        "colab": {
          "base_uri": "https://localhost:8080/"
        },
        "id": "rbyyFXbmGQGA",
        "outputId": "9f25c6b8-9abe-4848-af74-f2a8f58f4981"
      },
      "execution_count": null,
      "outputs": [
        {
          "output_type": "execute_result",
          "data": {
            "text/plain": [
              "('./Model_3/tokenizer_config.json',\n",
              " './Model_3/special_tokens_map.json',\n",
              " './Model_3/vocab.txt',\n",
              " './Model_3/added_tokens.json')"
            ]
          },
          "metadata": {},
          "execution_count": 39
        }
      ]
    },
    {
      "cell_type": "markdown",
      "source": [
        "# Demo"
      ],
      "metadata": {
        "id": "DBevDvNwbEy_"
      }
    },
    {
      "cell_type": "code",
      "source": [
        "!pip install gradio"
      ],
      "metadata": {
        "id": "dueIIZeVbR1S"
      },
      "execution_count": null,
      "outputs": []
    },
    {
      "cell_type": "code",
      "source": [
        "import gradio as gr\n",
        "from transformers import pipeline\n",
        "import pandas as pd\n",
        "import time\n",
        "\n",
        "markdown_content = \"\"\"\n",
        "## Legislator Interpellation Classifier\n",
        "This is a classifier for legislator dialogues. Please enter the dialogue text in the input box below, and the model will predict its label.\n",
        "Features:\n",
        "- Trained using the transcript records of Taiwanese city councilors.\n",
        "- Multi-label task.\n",
        "- 4 types of Labels including: 要求資訊、要求說明、要求改變、威脅制裁.\n",
        "We used the following model [dean22029/Taiwan_Legislator_multilabel_classification](https://huggingface.co/dean22029/Taiwan_Legislator_multilabel_classification)\n",
        "\"\"\"\n",
        "\n",
        "\n",
        "\n",
        "model = pipeline(\"text-classification\", model=\"dean22029/Taiwan_Legislator_multilabel_classification\", top_k=None)\n",
        "label_mapping = {'LABEL_0': '要求資訊', 'LABEL_1': '要求說明', 'LABEL_2': '要求改變', 'LABEL_3': '威脅制裁'}\n",
        "\n",
        "def predict_label(text, progress=gr.Progress(), max_len=512):\n",
        "    # Take the last 512 tokens\n",
        "    truncated_text = text[-max_len:]\n",
        "    progress(0, desc=\"開始處理\")\n",
        "    time.sleep(1)\n",
        "    progress(0.3, desc=f\"正在分析文本\")\n",
        "    predictions = model(truncated_text)\n",
        "\n",
        "    # Prediction\n",
        "    labels = [label_mapping.get(prediction['label']) for prediction in predictions[0] if prediction['score'] > 0.5]\n",
        "    label_scores = {label_mapping.get(prediction['label']): prediction['score'] for prediction in predictions[0]}\n",
        "\n",
        "    # Output Dataframe\n",
        "    df = pd.DataFrame(label_scores.items(), columns=['Label', 'Probability'])\n",
        "\n",
        "    return \", \".join(labels) if labels else \"無相關標籤\", df\n",
        "\n",
        "interface = gr.Interface(\n",
        "    fn=predict_label,\n",
        "    inputs=gr.Textbox(lines=2, placeholder=\"輸入您想分析的文字...\"),\n",
        "    outputs=[\"label\", \"dataframe\"],\n",
        "    theme=\"Default\",\n",
        "    title=\"Legislator interpellation Classification\",\n",
        "    description=markdown_content,\n",
        "    allow_flagging=\"never\",\n",
        "    examples=[[\"接下來想針對大巨蛋問題詢問一下目前進度，是這樣子的，之前你們都在說大巨蛋會蓋好，所以到底什麼時候會蓋好呢？怎麼拖這麼久？\"],\n",
        "              [\"你不用跟本席講這個風涼話！什麼優點？營運績效？市長，臺北農產運銷公司抽取固定的營業額比例，另外還有每年1億2,000萬元的停車場業外收入，這樣的工作是「孤行獨市」（臺語），臺北農產運銷公司是「孤行獨市」，張三、李四、王二麻子來做，也都會賺錢啦！你懂嗎？結果你找個流氓來做！\"],\n",
        "              [\"韓國瑜，本席直接問你，站在你旁邊的市長，是不是就是你說的「男人世界裡面的『豎仔』（臺語）」！沒有擔當！\"],\n",
        "              [\"柯市長我..我告訴你，我告訴你，我們選民選你是當市長不是選你當皇帝，你現在 藉由這樣網路，你操控的網軍操作，對於監督你的、批評你的，極盡網路霸凌之能事，柯市長，你的網軍現在是齁，順柯者生啦，逆柯者亡，這樣的行為、做法，跟納粹時期啊那個黑衫軍一樣的!柯市長，過去台灣的民主運動你沒有參與我不怪你，可是，你用這種新型態的網路霸凌、操控網軍來挑起世代對立，來傷害我們台灣的民主體制，這一點，我沒辦法原諒你，我瞧不起你!\"],\n",
        "              [\"你不用...哩母面墊底遐台上沒幾分鐘哩咧五四三，證據擺的很清楚，旁邊這位我不 想看到你(大熊)，你下去，誰叫你上來的。 證據是甚麼?你把790萬的市府預算，你拿去做你的網路宣傳影片，所有的網紅，蘋果C打 啦黑素斯啦上班不要看啦啾啾鞋啦甚麼阿滴英文，所有，哦，最近你還要做的台客劇場、 呱吉、蔡阿嘎等等我想你一定心裡有數嘛，你怎麼會不曉得呢?這些，如果你是拿你去抵押的房產，欸，你拿來做，那你說這個是個人，你的政治宣傳，那我們沒話講，你公然堂而皇之的拿公帑來拍攝網路影片，宣揚你自己，而且裡面談的，其實跟市政風馬牛不相干，在我看哪，柯市長我不客氣的講，你就是沒本事才會搞這種東西\"],\n",
        "              [\"局長，我瞭解了。之後如果還有什麼細節要報告，可以到我的辦公室來。今天這段總質詢的時間，通常我不喜歡問個案的問題，但是今天這個個案，如果沒有被妥善處理的話，也會變成臺北市教育局系統性的問題，會讓臺北市的家長開始不信任臺北市教育局針對這種不當體罰案件的處理，而且實質上這些家長跟我抱怨，但這個抱怨目前我也還沒證實，就是他們說後來有在教育局的貼文上表達他們的不滿和抗議，但是卻被隱蔽了他們的發言內容。\"],\n",
        "              [\"接著這個議題也跟空污有關係，在林園石化工業區旁邊有中芸國小，中芸國小有架設，這應該是環保署所架設的FTIR光譜分析檢測儀，要檢測空污排放的數據，這些的檢測都超過周界的標準，都是有毒的化學物質。這一點當初在雲林縣麥寮有一間許厝國小，那一間就是由台塑全部來幫學童做一個健康風險評估，結果才發現小朋友血液中的濃度有一些都超標，所以不得不把那所學校（許厝分校）遷移，所以在林園、大發工業區國小的學童應該也要來做這一些健康風險評估的檢查，這樣比較了解啊!因為在整個林園、大寮地區目前健康風險評估、流行病學的一個研究，目前還沒有做。大林蒲六個里都有做，所以才啟動遷村，為什麼啟動遷村?就是因為經過健康風險評估、流行病學調查，發現大林蒲那個地方的危害物質真的太高，所以一定要遷村。這一份是由我們國衛院副研究員陳裕政所調查出來的，他說大林蒲地區的環境監測結果與國衛院對其他地區正進行調查的地區相比較，大林蒲地區的危害物質濃度低於林園工業區，比雲林六輕高，這一點我請問衛生局長，國衛院提出的這一份，市政府衛生局知道嗎?局長，請答復。這個意思就表示，林園工業區危害物質的濃度比大林蒲還高，那麼大林蒲要遷村，現在這個問題就變成林園怎麼辦?局長，那是一般的健康檢查，本席所說的是做流行病學研究和健康風險評估，這個要比較專業，而且也比較針對一些有害的化學物質的化學成分來做研究。所以這個不管由市政府來啟動，看是要用我們的空污基金，或者是要由當地的石化工業區、或者是工業局、或者是市政府的財源，既然國衛院已經提出大林蒲地區的危害物質濃度低於林園工業區，那麼林園就變成全高雄市危害物質濃度最高的地區，比大林蒲還高，所以這個議題不能就這樣打住，不是只有大林蒲遷村，遷村以後，那林園怎麼辦?大林蒲地區所有的不管是那些重工業、重污染有沒有改善?會不會飄散到林園?不是只有把大林蒲這六個里遷走，然後眼不見為淨，那麼那裡的污染要怎麼辦?污染要跑去哪裡?現在只剩下林園，再來就由林園接收，林園那些百姓的生命真是在旦夕之間，真的是很危險。所以我們一定嚴格要求，市政府要啟動林園地區的健康風險評估、流行病學調查。這一點請市長答復一下，市長，請答復。韓市長，剛剛提到的是針對國小學童，但本席認為我們有幾個村落跟工業區是鄰近的、一牆之隔的，那些村落大概有8個里，那8個里也要一併來做調查，不是只有國小，而要包括8個里，24個里裡面有8個里跟工業區是一牆之隔的。\"]]\n",
        ")\n",
        "\n",
        "interface.launch(debug=True, share=True, show_error=True)\n"
      ],
      "metadata": {
        "colab": {
          "base_uri": "https://localhost:8080/",
          "height": 807,
          "referenced_widgets": [
            "19cdd9f5df0641b8af52a1c0844945f2",
            "6bb621b960164ee9a6977c2a359404b6",
            "cf1ca3ab75f74eb28d3bfcc0a41bf050",
            "da1a9139e42f4069b3c8126734a71d36",
            "a64fa1c2694145889602f9590e60a8e6",
            "a46f380d17fd43de854395eb6444d615",
            "7db502b43f6b4175b5771f76040ec176",
            "e79bbecda2954de99ce8a5005ba0a240",
            "baf26523e8224e28b55056eea306151a",
            "99ea51b7e2a34072a3cee23f3f56f9d9",
            "340b98ffdf404c4185d5fd2966bb6bbe",
            "8641223161cb4617bfbf3155391b036c",
            "dbcf5b6e3e5c4d8a8bbbd3873db14728",
            "803325b9985b4f3fa4121b162f585ae1",
            "a0a37c9cce1b4d399f3abcfa03587530",
            "b59ca3b7a2744ddfbe6c1072e11df379",
            "d752970268454bc3917ca2c7e8cd5c1a",
            "b794f3a5cee04f4184adad7ec4f3e285",
            "7bee871a12804e9d9b08df1fcab0027f",
            "6afe43f88207446aac12b4541ee00684",
            "986403c87d654b75a74411b2976293c6",
            "da3f1bf74cba48c596fe56692303f2c9",
            "38038bdfd728442384057403c8fa8ad0",
            "865fe125aeb3439fa1552183b2ddd466",
            "7e09d46798d4442ea0f66a34bffd4682",
            "58174bab55054cb19607b1bcd96a6a88",
            "516eb25fa8ec4155a8fc175272223c97",
            "577701b33c564e3491e17f41c1632176",
            "bf9bedeffab54cd09c3e7962e5698615",
            "611d71c113a04474a83e39efe33a580a",
            "6e3c92f9ce064b89ad5270404435ee91",
            "11122996b2614f41bab0387c254e1090",
            "7ac97b7fea994c1186a2292ae60b91f4",
            "7bbeddd549734d38b79ae0162e7d761a",
            "ba3ad8a8c76d4e898eaeacab0339b3e8",
            "c456c84a003447f7ad7f26d66eeb22ae",
            "26dc4cabd01b4584a79ba6d1b90f3bd2",
            "f9b785c8d6b8466ca90b0dda9969c00d",
            "f4aa34f5e667479b95d591aaf35b830a",
            "5cf4814dac7a4c8dbef51fb36554dda3",
            "ea1b41c592ab410f8228ad4e66a972ea",
            "1f8146a3879940fd9f761bbc64fa11a0",
            "e08c5c7edc0a4a33ac28d3cb3479147f",
            "d340dbb6d093465ea5baabdfdfbb5f7a",
            "684f484d32c5437eaf862ccba04227c1",
            "66eabb8e625d46ad99504e467800a088",
            "51f9d2c01ee94533bb8093ec20714258",
            "1868f923d03c4b5b8b3463d2f938e8fa",
            "8aeba5fefb9147fbb98bc046aaa7d32a",
            "89d1d337ff694cac8860ba4648d055d7",
            "2d7af4f636b340ebbd716a5414ccd1c4",
            "6d4899ea64ac466ba79066e444667ea3",
            "5b55b85735014dcfa124ef8f27771539",
            "5eed4761387b466cabbd1b753021b805",
            "32e8b26893b14c148ea49d87996c2e4f"
          ]
        },
        "id": "lbKdsYNzbFfO",
        "outputId": "b81cd563-6a45-45cd-e593-b53f7cd7c784"
      },
      "execution_count": null,
      "outputs": [
        {
          "output_type": "display_data",
          "data": {
            "text/plain": [
              "config.json:   0%|          | 0.00/1.31k [00:00<?, ?B/s]"
            ],
            "application/vnd.jupyter.widget-view+json": {
              "version_major": 2,
              "version_minor": 0,
              "model_id": "19cdd9f5df0641b8af52a1c0844945f2"
            }
          },
          "metadata": {}
        },
        {
          "output_type": "display_data",
          "data": {
            "text/plain": [
              "model.safetensors:   0%|          | 0.00/505M [00:00<?, ?B/s]"
            ],
            "application/vnd.jupyter.widget-view+json": {
              "version_major": 2,
              "version_minor": 0,
              "model_id": "8641223161cb4617bfbf3155391b036c"
            }
          },
          "metadata": {}
        },
        {
          "output_type": "display_data",
          "data": {
            "text/plain": [
              "tokenizer_config.json:   0%|          | 0.00/1.24k [00:00<?, ?B/s]"
            ],
            "application/vnd.jupyter.widget-view+json": {
              "version_major": 2,
              "version_minor": 0,
              "model_id": "38038bdfd728442384057403c8fa8ad0"
            }
          },
          "metadata": {}
        },
        {
          "output_type": "display_data",
          "data": {
            "text/plain": [
              "vocab.txt:   0%|          | 0.00/110k [00:00<?, ?B/s]"
            ],
            "application/vnd.jupyter.widget-view+json": {
              "version_major": 2,
              "version_minor": 0,
              "model_id": "7bbeddd549734d38b79ae0162e7d761a"
            }
          },
          "metadata": {}
        },
        {
          "output_type": "display_data",
          "data": {
            "text/plain": [
              "special_tokens_map.json:   0%|          | 0.00/125 [00:00<?, ?B/s]"
            ],
            "application/vnd.jupyter.widget-view+json": {
              "version_major": 2,
              "version_minor": 0,
              "model_id": "684f484d32c5437eaf862ccba04227c1"
            }
          },
          "metadata": {}
        },
        {
          "output_type": "stream",
          "name": "stdout",
          "text": [
            "Colab notebook detected. This cell will run indefinitely so that you can see errors and logs. To turn off, set debug=False in launch().\n",
            "Running on public URL: https://de5e09e0d3f1b52a30.gradio.live\n",
            "\n",
            "This share link expires in 72 hours. For free permanent hosting and GPU upgrades, run `gradio deploy` from Terminal to deploy to Spaces (https://huggingface.co/spaces)\n"
          ]
        },
        {
          "output_type": "display_data",
          "data": {
            "text/plain": [
              "<IPython.core.display.HTML object>"
            ],
            "text/html": [
              "<div><iframe src=\"https://de5e09e0d3f1b52a30.gradio.live\" width=\"100%\" height=\"500\" allow=\"autoplay; camera; microphone; clipboard-read; clipboard-write;\" frameborder=\"0\" allowfullscreen></iframe></div>"
            ]
          },
          "metadata": {}
        },
        {
          "output_type": "stream",
          "name": "stdout",
          "text": [
            "Keyboard interruption in main thread... closing server.\n",
            "Killing tunnel 127.0.0.1:7860 <> https://de5e09e0d3f1b52a30.gradio.live\n"
          ]
        },
        {
          "output_type": "execute_result",
          "data": {
            "text/plain": []
          },
          "metadata": {},
          "execution_count": 5
        }
      ]
    }
  ],
  "metadata": {
    "colab": {
      "machine_shape": "hm",
      "provenance": [],
      "collapsed_sections": [
        "J06tzz8qfq6P",
        "GW9PjkphmrYV",
        "KbtxLml5JPiI",
        "lpidcqO4nx_s"
      ],
      "toc_visible": true
    },
    "kernelspec": {
      "display_name": "Python 3",
      "name": "python3"
    },
    "language_info": {
      "name": "python"
    },
    "widgets": {
      "application/vnd.jupyter.widget-state+json": {
        "19cdd9f5df0641b8af52a1c0844945f2": {
          "model_module": "@jupyter-widgets/controls",
          "model_name": "HBoxModel",
          "model_module_version": "1.5.0",
          "state": {
            "_dom_classes": [],
            "_model_module": "@jupyter-widgets/controls",
            "_model_module_version": "1.5.0",
            "_model_name": "HBoxModel",
            "_view_count": null,
            "_view_module": "@jupyter-widgets/controls",
            "_view_module_version": "1.5.0",
            "_view_name": "HBoxView",
            "box_style": "",
            "children": [
              "IPY_MODEL_6bb621b960164ee9a6977c2a359404b6",
              "IPY_MODEL_cf1ca3ab75f74eb28d3bfcc0a41bf050",
              "IPY_MODEL_da1a9139e42f4069b3c8126734a71d36"
            ],
            "layout": "IPY_MODEL_a64fa1c2694145889602f9590e60a8e6"
          }
        },
        "6bb621b960164ee9a6977c2a359404b6": {
          "model_module": "@jupyter-widgets/controls",
          "model_name": "HTMLModel",
          "model_module_version": "1.5.0",
          "state": {
            "_dom_classes": [],
            "_model_module": "@jupyter-widgets/controls",
            "_model_module_version": "1.5.0",
            "_model_name": "HTMLModel",
            "_view_count": null,
            "_view_module": "@jupyter-widgets/controls",
            "_view_module_version": "1.5.0",
            "_view_name": "HTMLView",
            "description": "",
            "description_tooltip": null,
            "layout": "IPY_MODEL_a46f380d17fd43de854395eb6444d615",
            "placeholder": "​",
            "style": "IPY_MODEL_7db502b43f6b4175b5771f76040ec176",
            "value": "config.json: 100%"
          }
        },
        "cf1ca3ab75f74eb28d3bfcc0a41bf050": {
          "model_module": "@jupyter-widgets/controls",
          "model_name": "FloatProgressModel",
          "model_module_version": "1.5.0",
          "state": {
            "_dom_classes": [],
            "_model_module": "@jupyter-widgets/controls",
            "_model_module_version": "1.5.0",
            "_model_name": "FloatProgressModel",
            "_view_count": null,
            "_view_module": "@jupyter-widgets/controls",
            "_view_module_version": "1.5.0",
            "_view_name": "ProgressView",
            "bar_style": "success",
            "description": "",
            "description_tooltip": null,
            "layout": "IPY_MODEL_e79bbecda2954de99ce8a5005ba0a240",
            "max": 1306,
            "min": 0,
            "orientation": "horizontal",
            "style": "IPY_MODEL_baf26523e8224e28b55056eea306151a",
            "value": 1306
          }
        },
        "da1a9139e42f4069b3c8126734a71d36": {
          "model_module": "@jupyter-widgets/controls",
          "model_name": "HTMLModel",
          "model_module_version": "1.5.0",
          "state": {
            "_dom_classes": [],
            "_model_module": "@jupyter-widgets/controls",
            "_model_module_version": "1.5.0",
            "_model_name": "HTMLModel",
            "_view_count": null,
            "_view_module": "@jupyter-widgets/controls",
            "_view_module_version": "1.5.0",
            "_view_name": "HTMLView",
            "description": "",
            "description_tooltip": null,
            "layout": "IPY_MODEL_99ea51b7e2a34072a3cee23f3f56f9d9",
            "placeholder": "​",
            "style": "IPY_MODEL_340b98ffdf404c4185d5fd2966bb6bbe",
            "value": " 1.31k/1.31k [00:00&lt;00:00, 48.5kB/s]"
          }
        },
        "a64fa1c2694145889602f9590e60a8e6": {
          "model_module": "@jupyter-widgets/base",
          "model_name": "LayoutModel",
          "model_module_version": "1.2.0",
          "state": {
            "_model_module": "@jupyter-widgets/base",
            "_model_module_version": "1.2.0",
            "_model_name": "LayoutModel",
            "_view_count": null,
            "_view_module": "@jupyter-widgets/base",
            "_view_module_version": "1.2.0",
            "_view_name": "LayoutView",
            "align_content": null,
            "align_items": null,
            "align_self": null,
            "border": null,
            "bottom": null,
            "display": null,
            "flex": null,
            "flex_flow": null,
            "grid_area": null,
            "grid_auto_columns": null,
            "grid_auto_flow": null,
            "grid_auto_rows": null,
            "grid_column": null,
            "grid_gap": null,
            "grid_row": null,
            "grid_template_areas": null,
            "grid_template_columns": null,
            "grid_template_rows": null,
            "height": null,
            "justify_content": null,
            "justify_items": null,
            "left": null,
            "margin": null,
            "max_height": null,
            "max_width": null,
            "min_height": null,
            "min_width": null,
            "object_fit": null,
            "object_position": null,
            "order": null,
            "overflow": null,
            "overflow_x": null,
            "overflow_y": null,
            "padding": null,
            "right": null,
            "top": null,
            "visibility": null,
            "width": null
          }
        },
        "a46f380d17fd43de854395eb6444d615": {
          "model_module": "@jupyter-widgets/base",
          "model_name": "LayoutModel",
          "model_module_version": "1.2.0",
          "state": {
            "_model_module": "@jupyter-widgets/base",
            "_model_module_version": "1.2.0",
            "_model_name": "LayoutModel",
            "_view_count": null,
            "_view_module": "@jupyter-widgets/base",
            "_view_module_version": "1.2.0",
            "_view_name": "LayoutView",
            "align_content": null,
            "align_items": null,
            "align_self": null,
            "border": null,
            "bottom": null,
            "display": null,
            "flex": null,
            "flex_flow": null,
            "grid_area": null,
            "grid_auto_columns": null,
            "grid_auto_flow": null,
            "grid_auto_rows": null,
            "grid_column": null,
            "grid_gap": null,
            "grid_row": null,
            "grid_template_areas": null,
            "grid_template_columns": null,
            "grid_template_rows": null,
            "height": null,
            "justify_content": null,
            "justify_items": null,
            "left": null,
            "margin": null,
            "max_height": null,
            "max_width": null,
            "min_height": null,
            "min_width": null,
            "object_fit": null,
            "object_position": null,
            "order": null,
            "overflow": null,
            "overflow_x": null,
            "overflow_y": null,
            "padding": null,
            "right": null,
            "top": null,
            "visibility": null,
            "width": null
          }
        },
        "7db502b43f6b4175b5771f76040ec176": {
          "model_module": "@jupyter-widgets/controls",
          "model_name": "DescriptionStyleModel",
          "model_module_version": "1.5.0",
          "state": {
            "_model_module": "@jupyter-widgets/controls",
            "_model_module_version": "1.5.0",
            "_model_name": "DescriptionStyleModel",
            "_view_count": null,
            "_view_module": "@jupyter-widgets/base",
            "_view_module_version": "1.2.0",
            "_view_name": "StyleView",
            "description_width": ""
          }
        },
        "e79bbecda2954de99ce8a5005ba0a240": {
          "model_module": "@jupyter-widgets/base",
          "model_name": "LayoutModel",
          "model_module_version": "1.2.0",
          "state": {
            "_model_module": "@jupyter-widgets/base",
            "_model_module_version": "1.2.0",
            "_model_name": "LayoutModel",
            "_view_count": null,
            "_view_module": "@jupyter-widgets/base",
            "_view_module_version": "1.2.0",
            "_view_name": "LayoutView",
            "align_content": null,
            "align_items": null,
            "align_self": null,
            "border": null,
            "bottom": null,
            "display": null,
            "flex": null,
            "flex_flow": null,
            "grid_area": null,
            "grid_auto_columns": null,
            "grid_auto_flow": null,
            "grid_auto_rows": null,
            "grid_column": null,
            "grid_gap": null,
            "grid_row": null,
            "grid_template_areas": null,
            "grid_template_columns": null,
            "grid_template_rows": null,
            "height": null,
            "justify_content": null,
            "justify_items": null,
            "left": null,
            "margin": null,
            "max_height": null,
            "max_width": null,
            "min_height": null,
            "min_width": null,
            "object_fit": null,
            "object_position": null,
            "order": null,
            "overflow": null,
            "overflow_x": null,
            "overflow_y": null,
            "padding": null,
            "right": null,
            "top": null,
            "visibility": null,
            "width": null
          }
        },
        "baf26523e8224e28b55056eea306151a": {
          "model_module": "@jupyter-widgets/controls",
          "model_name": "ProgressStyleModel",
          "model_module_version": "1.5.0",
          "state": {
            "_model_module": "@jupyter-widgets/controls",
            "_model_module_version": "1.5.0",
            "_model_name": "ProgressStyleModel",
            "_view_count": null,
            "_view_module": "@jupyter-widgets/base",
            "_view_module_version": "1.2.0",
            "_view_name": "StyleView",
            "bar_color": null,
            "description_width": ""
          }
        },
        "99ea51b7e2a34072a3cee23f3f56f9d9": {
          "model_module": "@jupyter-widgets/base",
          "model_name": "LayoutModel",
          "model_module_version": "1.2.0",
          "state": {
            "_model_module": "@jupyter-widgets/base",
            "_model_module_version": "1.2.0",
            "_model_name": "LayoutModel",
            "_view_count": null,
            "_view_module": "@jupyter-widgets/base",
            "_view_module_version": "1.2.0",
            "_view_name": "LayoutView",
            "align_content": null,
            "align_items": null,
            "align_self": null,
            "border": null,
            "bottom": null,
            "display": null,
            "flex": null,
            "flex_flow": null,
            "grid_area": null,
            "grid_auto_columns": null,
            "grid_auto_flow": null,
            "grid_auto_rows": null,
            "grid_column": null,
            "grid_gap": null,
            "grid_row": null,
            "grid_template_areas": null,
            "grid_template_columns": null,
            "grid_template_rows": null,
            "height": null,
            "justify_content": null,
            "justify_items": null,
            "left": null,
            "margin": null,
            "max_height": null,
            "max_width": null,
            "min_height": null,
            "min_width": null,
            "object_fit": null,
            "object_position": null,
            "order": null,
            "overflow": null,
            "overflow_x": null,
            "overflow_y": null,
            "padding": null,
            "right": null,
            "top": null,
            "visibility": null,
            "width": null
          }
        },
        "340b98ffdf404c4185d5fd2966bb6bbe": {
          "model_module": "@jupyter-widgets/controls",
          "model_name": "DescriptionStyleModel",
          "model_module_version": "1.5.0",
          "state": {
            "_model_module": "@jupyter-widgets/controls",
            "_model_module_version": "1.5.0",
            "_model_name": "DescriptionStyleModel",
            "_view_count": null,
            "_view_module": "@jupyter-widgets/base",
            "_view_module_version": "1.2.0",
            "_view_name": "StyleView",
            "description_width": ""
          }
        },
        "8641223161cb4617bfbf3155391b036c": {
          "model_module": "@jupyter-widgets/controls",
          "model_name": "HBoxModel",
          "model_module_version": "1.5.0",
          "state": {
            "_dom_classes": [],
            "_model_module": "@jupyter-widgets/controls",
            "_model_module_version": "1.5.0",
            "_model_name": "HBoxModel",
            "_view_count": null,
            "_view_module": "@jupyter-widgets/controls",
            "_view_module_version": "1.5.0",
            "_view_name": "HBoxView",
            "box_style": "",
            "children": [
              "IPY_MODEL_dbcf5b6e3e5c4d8a8bbbd3873db14728",
              "IPY_MODEL_803325b9985b4f3fa4121b162f585ae1",
              "IPY_MODEL_a0a37c9cce1b4d399f3abcfa03587530"
            ],
            "layout": "IPY_MODEL_b59ca3b7a2744ddfbe6c1072e11df379"
          }
        },
        "dbcf5b6e3e5c4d8a8bbbd3873db14728": {
          "model_module": "@jupyter-widgets/controls",
          "model_name": "HTMLModel",
          "model_module_version": "1.5.0",
          "state": {
            "_dom_classes": [],
            "_model_module": "@jupyter-widgets/controls",
            "_model_module_version": "1.5.0",
            "_model_name": "HTMLModel",
            "_view_count": null,
            "_view_module": "@jupyter-widgets/controls",
            "_view_module_version": "1.5.0",
            "_view_name": "HTMLView",
            "description": "",
            "description_tooltip": null,
            "layout": "IPY_MODEL_d752970268454bc3917ca2c7e8cd5c1a",
            "placeholder": "​",
            "style": "IPY_MODEL_b794f3a5cee04f4184adad7ec4f3e285",
            "value": "model.safetensors: 100%"
          }
        },
        "803325b9985b4f3fa4121b162f585ae1": {
          "model_module": "@jupyter-widgets/controls",
          "model_name": "FloatProgressModel",
          "model_module_version": "1.5.0",
          "state": {
            "_dom_classes": [],
            "_model_module": "@jupyter-widgets/controls",
            "_model_module_version": "1.5.0",
            "_model_name": "FloatProgressModel",
            "_view_count": null,
            "_view_module": "@jupyter-widgets/controls",
            "_view_module_version": "1.5.0",
            "_view_name": "ProgressView",
            "bar_style": "success",
            "description": "",
            "description_tooltip": null,
            "layout": "IPY_MODEL_7bee871a12804e9d9b08df1fcab0027f",
            "max": 505172360,
            "min": 0,
            "orientation": "horizontal",
            "style": "IPY_MODEL_6afe43f88207446aac12b4541ee00684",
            "value": 505172360
          }
        },
        "a0a37c9cce1b4d399f3abcfa03587530": {
          "model_module": "@jupyter-widgets/controls",
          "model_name": "HTMLModel",
          "model_module_version": "1.5.0",
          "state": {
            "_dom_classes": [],
            "_model_module": "@jupyter-widgets/controls",
            "_model_module_version": "1.5.0",
            "_model_name": "HTMLModel",
            "_view_count": null,
            "_view_module": "@jupyter-widgets/controls",
            "_view_module_version": "1.5.0",
            "_view_name": "HTMLView",
            "description": "",
            "description_tooltip": null,
            "layout": "IPY_MODEL_986403c87d654b75a74411b2976293c6",
            "placeholder": "​",
            "style": "IPY_MODEL_da3f1bf74cba48c596fe56692303f2c9",
            "value": " 505M/505M [00:02&lt;00:00, 200MB/s]"
          }
        },
        "b59ca3b7a2744ddfbe6c1072e11df379": {
          "model_module": "@jupyter-widgets/base",
          "model_name": "LayoutModel",
          "model_module_version": "1.2.0",
          "state": {
            "_model_module": "@jupyter-widgets/base",
            "_model_module_version": "1.2.0",
            "_model_name": "LayoutModel",
            "_view_count": null,
            "_view_module": "@jupyter-widgets/base",
            "_view_module_version": "1.2.0",
            "_view_name": "LayoutView",
            "align_content": null,
            "align_items": null,
            "align_self": null,
            "border": null,
            "bottom": null,
            "display": null,
            "flex": null,
            "flex_flow": null,
            "grid_area": null,
            "grid_auto_columns": null,
            "grid_auto_flow": null,
            "grid_auto_rows": null,
            "grid_column": null,
            "grid_gap": null,
            "grid_row": null,
            "grid_template_areas": null,
            "grid_template_columns": null,
            "grid_template_rows": null,
            "height": null,
            "justify_content": null,
            "justify_items": null,
            "left": null,
            "margin": null,
            "max_height": null,
            "max_width": null,
            "min_height": null,
            "min_width": null,
            "object_fit": null,
            "object_position": null,
            "order": null,
            "overflow": null,
            "overflow_x": null,
            "overflow_y": null,
            "padding": null,
            "right": null,
            "top": null,
            "visibility": null,
            "width": null
          }
        },
        "d752970268454bc3917ca2c7e8cd5c1a": {
          "model_module": "@jupyter-widgets/base",
          "model_name": "LayoutModel",
          "model_module_version": "1.2.0",
          "state": {
            "_model_module": "@jupyter-widgets/base",
            "_model_module_version": "1.2.0",
            "_model_name": "LayoutModel",
            "_view_count": null,
            "_view_module": "@jupyter-widgets/base",
            "_view_module_version": "1.2.0",
            "_view_name": "LayoutView",
            "align_content": null,
            "align_items": null,
            "align_self": null,
            "border": null,
            "bottom": null,
            "display": null,
            "flex": null,
            "flex_flow": null,
            "grid_area": null,
            "grid_auto_columns": null,
            "grid_auto_flow": null,
            "grid_auto_rows": null,
            "grid_column": null,
            "grid_gap": null,
            "grid_row": null,
            "grid_template_areas": null,
            "grid_template_columns": null,
            "grid_template_rows": null,
            "height": null,
            "justify_content": null,
            "justify_items": null,
            "left": null,
            "margin": null,
            "max_height": null,
            "max_width": null,
            "min_height": null,
            "min_width": null,
            "object_fit": null,
            "object_position": null,
            "order": null,
            "overflow": null,
            "overflow_x": null,
            "overflow_y": null,
            "padding": null,
            "right": null,
            "top": null,
            "visibility": null,
            "width": null
          }
        },
        "b794f3a5cee04f4184adad7ec4f3e285": {
          "model_module": "@jupyter-widgets/controls",
          "model_name": "DescriptionStyleModel",
          "model_module_version": "1.5.0",
          "state": {
            "_model_module": "@jupyter-widgets/controls",
            "_model_module_version": "1.5.0",
            "_model_name": "DescriptionStyleModel",
            "_view_count": null,
            "_view_module": "@jupyter-widgets/base",
            "_view_module_version": "1.2.0",
            "_view_name": "StyleView",
            "description_width": ""
          }
        },
        "7bee871a12804e9d9b08df1fcab0027f": {
          "model_module": "@jupyter-widgets/base",
          "model_name": "LayoutModel",
          "model_module_version": "1.2.0",
          "state": {
            "_model_module": "@jupyter-widgets/base",
            "_model_module_version": "1.2.0",
            "_model_name": "LayoutModel",
            "_view_count": null,
            "_view_module": "@jupyter-widgets/base",
            "_view_module_version": "1.2.0",
            "_view_name": "LayoutView",
            "align_content": null,
            "align_items": null,
            "align_self": null,
            "border": null,
            "bottom": null,
            "display": null,
            "flex": null,
            "flex_flow": null,
            "grid_area": null,
            "grid_auto_columns": null,
            "grid_auto_flow": null,
            "grid_auto_rows": null,
            "grid_column": null,
            "grid_gap": null,
            "grid_row": null,
            "grid_template_areas": null,
            "grid_template_columns": null,
            "grid_template_rows": null,
            "height": null,
            "justify_content": null,
            "justify_items": null,
            "left": null,
            "margin": null,
            "max_height": null,
            "max_width": null,
            "min_height": null,
            "min_width": null,
            "object_fit": null,
            "object_position": null,
            "order": null,
            "overflow": null,
            "overflow_x": null,
            "overflow_y": null,
            "padding": null,
            "right": null,
            "top": null,
            "visibility": null,
            "width": null
          }
        },
        "6afe43f88207446aac12b4541ee00684": {
          "model_module": "@jupyter-widgets/controls",
          "model_name": "ProgressStyleModel",
          "model_module_version": "1.5.0",
          "state": {
            "_model_module": "@jupyter-widgets/controls",
            "_model_module_version": "1.5.0",
            "_model_name": "ProgressStyleModel",
            "_view_count": null,
            "_view_module": "@jupyter-widgets/base",
            "_view_module_version": "1.2.0",
            "_view_name": "StyleView",
            "bar_color": null,
            "description_width": ""
          }
        },
        "986403c87d654b75a74411b2976293c6": {
          "model_module": "@jupyter-widgets/base",
          "model_name": "LayoutModel",
          "model_module_version": "1.2.0",
          "state": {
            "_model_module": "@jupyter-widgets/base",
            "_model_module_version": "1.2.0",
            "_model_name": "LayoutModel",
            "_view_count": null,
            "_view_module": "@jupyter-widgets/base",
            "_view_module_version": "1.2.0",
            "_view_name": "LayoutView",
            "align_content": null,
            "align_items": null,
            "align_self": null,
            "border": null,
            "bottom": null,
            "display": null,
            "flex": null,
            "flex_flow": null,
            "grid_area": null,
            "grid_auto_columns": null,
            "grid_auto_flow": null,
            "grid_auto_rows": null,
            "grid_column": null,
            "grid_gap": null,
            "grid_row": null,
            "grid_template_areas": null,
            "grid_template_columns": null,
            "grid_template_rows": null,
            "height": null,
            "justify_content": null,
            "justify_items": null,
            "left": null,
            "margin": null,
            "max_height": null,
            "max_width": null,
            "min_height": null,
            "min_width": null,
            "object_fit": null,
            "object_position": null,
            "order": null,
            "overflow": null,
            "overflow_x": null,
            "overflow_y": null,
            "padding": null,
            "right": null,
            "top": null,
            "visibility": null,
            "width": null
          }
        },
        "da3f1bf74cba48c596fe56692303f2c9": {
          "model_module": "@jupyter-widgets/controls",
          "model_name": "DescriptionStyleModel",
          "model_module_version": "1.5.0",
          "state": {
            "_model_module": "@jupyter-widgets/controls",
            "_model_module_version": "1.5.0",
            "_model_name": "DescriptionStyleModel",
            "_view_count": null,
            "_view_module": "@jupyter-widgets/base",
            "_view_module_version": "1.2.0",
            "_view_name": "StyleView",
            "description_width": ""
          }
        },
        "38038bdfd728442384057403c8fa8ad0": {
          "model_module": "@jupyter-widgets/controls",
          "model_name": "HBoxModel",
          "model_module_version": "1.5.0",
          "state": {
            "_dom_classes": [],
            "_model_module": "@jupyter-widgets/controls",
            "_model_module_version": "1.5.0",
            "_model_name": "HBoxModel",
            "_view_count": null,
            "_view_module": "@jupyter-widgets/controls",
            "_view_module_version": "1.5.0",
            "_view_name": "HBoxView",
            "box_style": "",
            "children": [
              "IPY_MODEL_865fe125aeb3439fa1552183b2ddd466",
              "IPY_MODEL_7e09d46798d4442ea0f66a34bffd4682",
              "IPY_MODEL_58174bab55054cb19607b1bcd96a6a88"
            ],
            "layout": "IPY_MODEL_516eb25fa8ec4155a8fc175272223c97"
          }
        },
        "865fe125aeb3439fa1552183b2ddd466": {
          "model_module": "@jupyter-widgets/controls",
          "model_name": "HTMLModel",
          "model_module_version": "1.5.0",
          "state": {
            "_dom_classes": [],
            "_model_module": "@jupyter-widgets/controls",
            "_model_module_version": "1.5.0",
            "_model_name": "HTMLModel",
            "_view_count": null,
            "_view_module": "@jupyter-widgets/controls",
            "_view_module_version": "1.5.0",
            "_view_name": "HTMLView",
            "description": "",
            "description_tooltip": null,
            "layout": "IPY_MODEL_577701b33c564e3491e17f41c1632176",
            "placeholder": "​",
            "style": "IPY_MODEL_bf9bedeffab54cd09c3e7962e5698615",
            "value": "tokenizer_config.json: 100%"
          }
        },
        "7e09d46798d4442ea0f66a34bffd4682": {
          "model_module": "@jupyter-widgets/controls",
          "model_name": "FloatProgressModel",
          "model_module_version": "1.5.0",
          "state": {
            "_dom_classes": [],
            "_model_module": "@jupyter-widgets/controls",
            "_model_module_version": "1.5.0",
            "_model_name": "FloatProgressModel",
            "_view_count": null,
            "_view_module": "@jupyter-widgets/controls",
            "_view_module_version": "1.5.0",
            "_view_name": "ProgressView",
            "bar_style": "success",
            "description": "",
            "description_tooltip": null,
            "layout": "IPY_MODEL_611d71c113a04474a83e39efe33a580a",
            "max": 1243,
            "min": 0,
            "orientation": "horizontal",
            "style": "IPY_MODEL_6e3c92f9ce064b89ad5270404435ee91",
            "value": 1243
          }
        },
        "58174bab55054cb19607b1bcd96a6a88": {
          "model_module": "@jupyter-widgets/controls",
          "model_name": "HTMLModel",
          "model_module_version": "1.5.0",
          "state": {
            "_dom_classes": [],
            "_model_module": "@jupyter-widgets/controls",
            "_model_module_version": "1.5.0",
            "_model_name": "HTMLModel",
            "_view_count": null,
            "_view_module": "@jupyter-widgets/controls",
            "_view_module_version": "1.5.0",
            "_view_name": "HTMLView",
            "description": "",
            "description_tooltip": null,
            "layout": "IPY_MODEL_11122996b2614f41bab0387c254e1090",
            "placeholder": "​",
            "style": "IPY_MODEL_7ac97b7fea994c1186a2292ae60b91f4",
            "value": " 1.24k/1.24k [00:00&lt;00:00, 98.8kB/s]"
          }
        },
        "516eb25fa8ec4155a8fc175272223c97": {
          "model_module": "@jupyter-widgets/base",
          "model_name": "LayoutModel",
          "model_module_version": "1.2.0",
          "state": {
            "_model_module": "@jupyter-widgets/base",
            "_model_module_version": "1.2.0",
            "_model_name": "LayoutModel",
            "_view_count": null,
            "_view_module": "@jupyter-widgets/base",
            "_view_module_version": "1.2.0",
            "_view_name": "LayoutView",
            "align_content": null,
            "align_items": null,
            "align_self": null,
            "border": null,
            "bottom": null,
            "display": null,
            "flex": null,
            "flex_flow": null,
            "grid_area": null,
            "grid_auto_columns": null,
            "grid_auto_flow": null,
            "grid_auto_rows": null,
            "grid_column": null,
            "grid_gap": null,
            "grid_row": null,
            "grid_template_areas": null,
            "grid_template_columns": null,
            "grid_template_rows": null,
            "height": null,
            "justify_content": null,
            "justify_items": null,
            "left": null,
            "margin": null,
            "max_height": null,
            "max_width": null,
            "min_height": null,
            "min_width": null,
            "object_fit": null,
            "object_position": null,
            "order": null,
            "overflow": null,
            "overflow_x": null,
            "overflow_y": null,
            "padding": null,
            "right": null,
            "top": null,
            "visibility": null,
            "width": null
          }
        },
        "577701b33c564e3491e17f41c1632176": {
          "model_module": "@jupyter-widgets/base",
          "model_name": "LayoutModel",
          "model_module_version": "1.2.0",
          "state": {
            "_model_module": "@jupyter-widgets/base",
            "_model_module_version": "1.2.0",
            "_model_name": "LayoutModel",
            "_view_count": null,
            "_view_module": "@jupyter-widgets/base",
            "_view_module_version": "1.2.0",
            "_view_name": "LayoutView",
            "align_content": null,
            "align_items": null,
            "align_self": null,
            "border": null,
            "bottom": null,
            "display": null,
            "flex": null,
            "flex_flow": null,
            "grid_area": null,
            "grid_auto_columns": null,
            "grid_auto_flow": null,
            "grid_auto_rows": null,
            "grid_column": null,
            "grid_gap": null,
            "grid_row": null,
            "grid_template_areas": null,
            "grid_template_columns": null,
            "grid_template_rows": null,
            "height": null,
            "justify_content": null,
            "justify_items": null,
            "left": null,
            "margin": null,
            "max_height": null,
            "max_width": null,
            "min_height": null,
            "min_width": null,
            "object_fit": null,
            "object_position": null,
            "order": null,
            "overflow": null,
            "overflow_x": null,
            "overflow_y": null,
            "padding": null,
            "right": null,
            "top": null,
            "visibility": null,
            "width": null
          }
        },
        "bf9bedeffab54cd09c3e7962e5698615": {
          "model_module": "@jupyter-widgets/controls",
          "model_name": "DescriptionStyleModel",
          "model_module_version": "1.5.0",
          "state": {
            "_model_module": "@jupyter-widgets/controls",
            "_model_module_version": "1.5.0",
            "_model_name": "DescriptionStyleModel",
            "_view_count": null,
            "_view_module": "@jupyter-widgets/base",
            "_view_module_version": "1.2.0",
            "_view_name": "StyleView",
            "description_width": ""
          }
        },
        "611d71c113a04474a83e39efe33a580a": {
          "model_module": "@jupyter-widgets/base",
          "model_name": "LayoutModel",
          "model_module_version": "1.2.0",
          "state": {
            "_model_module": "@jupyter-widgets/base",
            "_model_module_version": "1.2.0",
            "_model_name": "LayoutModel",
            "_view_count": null,
            "_view_module": "@jupyter-widgets/base",
            "_view_module_version": "1.2.0",
            "_view_name": "LayoutView",
            "align_content": null,
            "align_items": null,
            "align_self": null,
            "border": null,
            "bottom": null,
            "display": null,
            "flex": null,
            "flex_flow": null,
            "grid_area": null,
            "grid_auto_columns": null,
            "grid_auto_flow": null,
            "grid_auto_rows": null,
            "grid_column": null,
            "grid_gap": null,
            "grid_row": null,
            "grid_template_areas": null,
            "grid_template_columns": null,
            "grid_template_rows": null,
            "height": null,
            "justify_content": null,
            "justify_items": null,
            "left": null,
            "margin": null,
            "max_height": null,
            "max_width": null,
            "min_height": null,
            "min_width": null,
            "object_fit": null,
            "object_position": null,
            "order": null,
            "overflow": null,
            "overflow_x": null,
            "overflow_y": null,
            "padding": null,
            "right": null,
            "top": null,
            "visibility": null,
            "width": null
          }
        },
        "6e3c92f9ce064b89ad5270404435ee91": {
          "model_module": "@jupyter-widgets/controls",
          "model_name": "ProgressStyleModel",
          "model_module_version": "1.5.0",
          "state": {
            "_model_module": "@jupyter-widgets/controls",
            "_model_module_version": "1.5.0",
            "_model_name": "ProgressStyleModel",
            "_view_count": null,
            "_view_module": "@jupyter-widgets/base",
            "_view_module_version": "1.2.0",
            "_view_name": "StyleView",
            "bar_color": null,
            "description_width": ""
          }
        },
        "11122996b2614f41bab0387c254e1090": {
          "model_module": "@jupyter-widgets/base",
          "model_name": "LayoutModel",
          "model_module_version": "1.2.0",
          "state": {
            "_model_module": "@jupyter-widgets/base",
            "_model_module_version": "1.2.0",
            "_model_name": "LayoutModel",
            "_view_count": null,
            "_view_module": "@jupyter-widgets/base",
            "_view_module_version": "1.2.0",
            "_view_name": "LayoutView",
            "align_content": null,
            "align_items": null,
            "align_self": null,
            "border": null,
            "bottom": null,
            "display": null,
            "flex": null,
            "flex_flow": null,
            "grid_area": null,
            "grid_auto_columns": null,
            "grid_auto_flow": null,
            "grid_auto_rows": null,
            "grid_column": null,
            "grid_gap": null,
            "grid_row": null,
            "grid_template_areas": null,
            "grid_template_columns": null,
            "grid_template_rows": null,
            "height": null,
            "justify_content": null,
            "justify_items": null,
            "left": null,
            "margin": null,
            "max_height": null,
            "max_width": null,
            "min_height": null,
            "min_width": null,
            "object_fit": null,
            "object_position": null,
            "order": null,
            "overflow": null,
            "overflow_x": null,
            "overflow_y": null,
            "padding": null,
            "right": null,
            "top": null,
            "visibility": null,
            "width": null
          }
        },
        "7ac97b7fea994c1186a2292ae60b91f4": {
          "model_module": "@jupyter-widgets/controls",
          "model_name": "DescriptionStyleModel",
          "model_module_version": "1.5.0",
          "state": {
            "_model_module": "@jupyter-widgets/controls",
            "_model_module_version": "1.5.0",
            "_model_name": "DescriptionStyleModel",
            "_view_count": null,
            "_view_module": "@jupyter-widgets/base",
            "_view_module_version": "1.2.0",
            "_view_name": "StyleView",
            "description_width": ""
          }
        },
        "7bbeddd549734d38b79ae0162e7d761a": {
          "model_module": "@jupyter-widgets/controls",
          "model_name": "HBoxModel",
          "model_module_version": "1.5.0",
          "state": {
            "_dom_classes": [],
            "_model_module": "@jupyter-widgets/controls",
            "_model_module_version": "1.5.0",
            "_model_name": "HBoxModel",
            "_view_count": null,
            "_view_module": "@jupyter-widgets/controls",
            "_view_module_version": "1.5.0",
            "_view_name": "HBoxView",
            "box_style": "",
            "children": [
              "IPY_MODEL_ba3ad8a8c76d4e898eaeacab0339b3e8",
              "IPY_MODEL_c456c84a003447f7ad7f26d66eeb22ae",
              "IPY_MODEL_26dc4cabd01b4584a79ba6d1b90f3bd2"
            ],
            "layout": "IPY_MODEL_f9b785c8d6b8466ca90b0dda9969c00d"
          }
        },
        "ba3ad8a8c76d4e898eaeacab0339b3e8": {
          "model_module": "@jupyter-widgets/controls",
          "model_name": "HTMLModel",
          "model_module_version": "1.5.0",
          "state": {
            "_dom_classes": [],
            "_model_module": "@jupyter-widgets/controls",
            "_model_module_version": "1.5.0",
            "_model_name": "HTMLModel",
            "_view_count": null,
            "_view_module": "@jupyter-widgets/controls",
            "_view_module_version": "1.5.0",
            "_view_name": "HTMLView",
            "description": "",
            "description_tooltip": null,
            "layout": "IPY_MODEL_f4aa34f5e667479b95d591aaf35b830a",
            "placeholder": "​",
            "style": "IPY_MODEL_5cf4814dac7a4c8dbef51fb36554dda3",
            "value": "vocab.txt: 100%"
          }
        },
        "c456c84a003447f7ad7f26d66eeb22ae": {
          "model_module": "@jupyter-widgets/controls",
          "model_name": "FloatProgressModel",
          "model_module_version": "1.5.0",
          "state": {
            "_dom_classes": [],
            "_model_module": "@jupyter-widgets/controls",
            "_model_module_version": "1.5.0",
            "_model_name": "FloatProgressModel",
            "_view_count": null,
            "_view_module": "@jupyter-widgets/controls",
            "_view_module_version": "1.5.0",
            "_view_name": "ProgressView",
            "bar_style": "success",
            "description": "",
            "description_tooltip": null,
            "layout": "IPY_MODEL_ea1b41c592ab410f8228ad4e66a972ea",
            "max": 109540,
            "min": 0,
            "orientation": "horizontal",
            "style": "IPY_MODEL_1f8146a3879940fd9f761bbc64fa11a0",
            "value": 109540
          }
        },
        "26dc4cabd01b4584a79ba6d1b90f3bd2": {
          "model_module": "@jupyter-widgets/controls",
          "model_name": "HTMLModel",
          "model_module_version": "1.5.0",
          "state": {
            "_dom_classes": [],
            "_model_module": "@jupyter-widgets/controls",
            "_model_module_version": "1.5.0",
            "_model_name": "HTMLModel",
            "_view_count": null,
            "_view_module": "@jupyter-widgets/controls",
            "_view_module_version": "1.5.0",
            "_view_name": "HTMLView",
            "description": "",
            "description_tooltip": null,
            "layout": "IPY_MODEL_e08c5c7edc0a4a33ac28d3cb3479147f",
            "placeholder": "​",
            "style": "IPY_MODEL_d340dbb6d093465ea5baabdfdfbb5f7a",
            "value": " 110k/110k [00:00&lt;00:00, 4.31MB/s]"
          }
        },
        "f9b785c8d6b8466ca90b0dda9969c00d": {
          "model_module": "@jupyter-widgets/base",
          "model_name": "LayoutModel",
          "model_module_version": "1.2.0",
          "state": {
            "_model_module": "@jupyter-widgets/base",
            "_model_module_version": "1.2.0",
            "_model_name": "LayoutModel",
            "_view_count": null,
            "_view_module": "@jupyter-widgets/base",
            "_view_module_version": "1.2.0",
            "_view_name": "LayoutView",
            "align_content": null,
            "align_items": null,
            "align_self": null,
            "border": null,
            "bottom": null,
            "display": null,
            "flex": null,
            "flex_flow": null,
            "grid_area": null,
            "grid_auto_columns": null,
            "grid_auto_flow": null,
            "grid_auto_rows": null,
            "grid_column": null,
            "grid_gap": null,
            "grid_row": null,
            "grid_template_areas": null,
            "grid_template_columns": null,
            "grid_template_rows": null,
            "height": null,
            "justify_content": null,
            "justify_items": null,
            "left": null,
            "margin": null,
            "max_height": null,
            "max_width": null,
            "min_height": null,
            "min_width": null,
            "object_fit": null,
            "object_position": null,
            "order": null,
            "overflow": null,
            "overflow_x": null,
            "overflow_y": null,
            "padding": null,
            "right": null,
            "top": null,
            "visibility": null,
            "width": null
          }
        },
        "f4aa34f5e667479b95d591aaf35b830a": {
          "model_module": "@jupyter-widgets/base",
          "model_name": "LayoutModel",
          "model_module_version": "1.2.0",
          "state": {
            "_model_module": "@jupyter-widgets/base",
            "_model_module_version": "1.2.0",
            "_model_name": "LayoutModel",
            "_view_count": null,
            "_view_module": "@jupyter-widgets/base",
            "_view_module_version": "1.2.0",
            "_view_name": "LayoutView",
            "align_content": null,
            "align_items": null,
            "align_self": null,
            "border": null,
            "bottom": null,
            "display": null,
            "flex": null,
            "flex_flow": null,
            "grid_area": null,
            "grid_auto_columns": null,
            "grid_auto_flow": null,
            "grid_auto_rows": null,
            "grid_column": null,
            "grid_gap": null,
            "grid_row": null,
            "grid_template_areas": null,
            "grid_template_columns": null,
            "grid_template_rows": null,
            "height": null,
            "justify_content": null,
            "justify_items": null,
            "left": null,
            "margin": null,
            "max_height": null,
            "max_width": null,
            "min_height": null,
            "min_width": null,
            "object_fit": null,
            "object_position": null,
            "order": null,
            "overflow": null,
            "overflow_x": null,
            "overflow_y": null,
            "padding": null,
            "right": null,
            "top": null,
            "visibility": null,
            "width": null
          }
        },
        "5cf4814dac7a4c8dbef51fb36554dda3": {
          "model_module": "@jupyter-widgets/controls",
          "model_name": "DescriptionStyleModel",
          "model_module_version": "1.5.0",
          "state": {
            "_model_module": "@jupyter-widgets/controls",
            "_model_module_version": "1.5.0",
            "_model_name": "DescriptionStyleModel",
            "_view_count": null,
            "_view_module": "@jupyter-widgets/base",
            "_view_module_version": "1.2.0",
            "_view_name": "StyleView",
            "description_width": ""
          }
        },
        "ea1b41c592ab410f8228ad4e66a972ea": {
          "model_module": "@jupyter-widgets/base",
          "model_name": "LayoutModel",
          "model_module_version": "1.2.0",
          "state": {
            "_model_module": "@jupyter-widgets/base",
            "_model_module_version": "1.2.0",
            "_model_name": "LayoutModel",
            "_view_count": null,
            "_view_module": "@jupyter-widgets/base",
            "_view_module_version": "1.2.0",
            "_view_name": "LayoutView",
            "align_content": null,
            "align_items": null,
            "align_self": null,
            "border": null,
            "bottom": null,
            "display": null,
            "flex": null,
            "flex_flow": null,
            "grid_area": null,
            "grid_auto_columns": null,
            "grid_auto_flow": null,
            "grid_auto_rows": null,
            "grid_column": null,
            "grid_gap": null,
            "grid_row": null,
            "grid_template_areas": null,
            "grid_template_columns": null,
            "grid_template_rows": null,
            "height": null,
            "justify_content": null,
            "justify_items": null,
            "left": null,
            "margin": null,
            "max_height": null,
            "max_width": null,
            "min_height": null,
            "min_width": null,
            "object_fit": null,
            "object_position": null,
            "order": null,
            "overflow": null,
            "overflow_x": null,
            "overflow_y": null,
            "padding": null,
            "right": null,
            "top": null,
            "visibility": null,
            "width": null
          }
        },
        "1f8146a3879940fd9f761bbc64fa11a0": {
          "model_module": "@jupyter-widgets/controls",
          "model_name": "ProgressStyleModel",
          "model_module_version": "1.5.0",
          "state": {
            "_model_module": "@jupyter-widgets/controls",
            "_model_module_version": "1.5.0",
            "_model_name": "ProgressStyleModel",
            "_view_count": null,
            "_view_module": "@jupyter-widgets/base",
            "_view_module_version": "1.2.0",
            "_view_name": "StyleView",
            "bar_color": null,
            "description_width": ""
          }
        },
        "e08c5c7edc0a4a33ac28d3cb3479147f": {
          "model_module": "@jupyter-widgets/base",
          "model_name": "LayoutModel",
          "model_module_version": "1.2.0",
          "state": {
            "_model_module": "@jupyter-widgets/base",
            "_model_module_version": "1.2.0",
            "_model_name": "LayoutModel",
            "_view_count": null,
            "_view_module": "@jupyter-widgets/base",
            "_view_module_version": "1.2.0",
            "_view_name": "LayoutView",
            "align_content": null,
            "align_items": null,
            "align_self": null,
            "border": null,
            "bottom": null,
            "display": null,
            "flex": null,
            "flex_flow": null,
            "grid_area": null,
            "grid_auto_columns": null,
            "grid_auto_flow": null,
            "grid_auto_rows": null,
            "grid_column": null,
            "grid_gap": null,
            "grid_row": null,
            "grid_template_areas": null,
            "grid_template_columns": null,
            "grid_template_rows": null,
            "height": null,
            "justify_content": null,
            "justify_items": null,
            "left": null,
            "margin": null,
            "max_height": null,
            "max_width": null,
            "min_height": null,
            "min_width": null,
            "object_fit": null,
            "object_position": null,
            "order": null,
            "overflow": null,
            "overflow_x": null,
            "overflow_y": null,
            "padding": null,
            "right": null,
            "top": null,
            "visibility": null,
            "width": null
          }
        },
        "d340dbb6d093465ea5baabdfdfbb5f7a": {
          "model_module": "@jupyter-widgets/controls",
          "model_name": "DescriptionStyleModel",
          "model_module_version": "1.5.0",
          "state": {
            "_model_module": "@jupyter-widgets/controls",
            "_model_module_version": "1.5.0",
            "_model_name": "DescriptionStyleModel",
            "_view_count": null,
            "_view_module": "@jupyter-widgets/base",
            "_view_module_version": "1.2.0",
            "_view_name": "StyleView",
            "description_width": ""
          }
        },
        "684f484d32c5437eaf862ccba04227c1": {
          "model_module": "@jupyter-widgets/controls",
          "model_name": "HBoxModel",
          "model_module_version": "1.5.0",
          "state": {
            "_dom_classes": [],
            "_model_module": "@jupyter-widgets/controls",
            "_model_module_version": "1.5.0",
            "_model_name": "HBoxModel",
            "_view_count": null,
            "_view_module": "@jupyter-widgets/controls",
            "_view_module_version": "1.5.0",
            "_view_name": "HBoxView",
            "box_style": "",
            "children": [
              "IPY_MODEL_66eabb8e625d46ad99504e467800a088",
              "IPY_MODEL_51f9d2c01ee94533bb8093ec20714258",
              "IPY_MODEL_1868f923d03c4b5b8b3463d2f938e8fa"
            ],
            "layout": "IPY_MODEL_8aeba5fefb9147fbb98bc046aaa7d32a"
          }
        },
        "66eabb8e625d46ad99504e467800a088": {
          "model_module": "@jupyter-widgets/controls",
          "model_name": "HTMLModel",
          "model_module_version": "1.5.0",
          "state": {
            "_dom_classes": [],
            "_model_module": "@jupyter-widgets/controls",
            "_model_module_version": "1.5.0",
            "_model_name": "HTMLModel",
            "_view_count": null,
            "_view_module": "@jupyter-widgets/controls",
            "_view_module_version": "1.5.0",
            "_view_name": "HTMLView",
            "description": "",
            "description_tooltip": null,
            "layout": "IPY_MODEL_89d1d337ff694cac8860ba4648d055d7",
            "placeholder": "​",
            "style": "IPY_MODEL_2d7af4f636b340ebbd716a5414ccd1c4",
            "value": "special_tokens_map.json: 100%"
          }
        },
        "51f9d2c01ee94533bb8093ec20714258": {
          "model_module": "@jupyter-widgets/controls",
          "model_name": "FloatProgressModel",
          "model_module_version": "1.5.0",
          "state": {
            "_dom_classes": [],
            "_model_module": "@jupyter-widgets/controls",
            "_model_module_version": "1.5.0",
            "_model_name": "FloatProgressModel",
            "_view_count": null,
            "_view_module": "@jupyter-widgets/controls",
            "_view_module_version": "1.5.0",
            "_view_name": "ProgressView",
            "bar_style": "success",
            "description": "",
            "description_tooltip": null,
            "layout": "IPY_MODEL_6d4899ea64ac466ba79066e444667ea3",
            "max": 125,
            "min": 0,
            "orientation": "horizontal",
            "style": "IPY_MODEL_5b55b85735014dcfa124ef8f27771539",
            "value": 125
          }
        },
        "1868f923d03c4b5b8b3463d2f938e8fa": {
          "model_module": "@jupyter-widgets/controls",
          "model_name": "HTMLModel",
          "model_module_version": "1.5.0",
          "state": {
            "_dom_classes": [],
            "_model_module": "@jupyter-widgets/controls",
            "_model_module_version": "1.5.0",
            "_model_name": "HTMLModel",
            "_view_count": null,
            "_view_module": "@jupyter-widgets/controls",
            "_view_module_version": "1.5.0",
            "_view_name": "HTMLView",
            "description": "",
            "description_tooltip": null,
            "layout": "IPY_MODEL_5eed4761387b466cabbd1b753021b805",
            "placeholder": "​",
            "style": "IPY_MODEL_32e8b26893b14c148ea49d87996c2e4f",
            "value": " 125/125 [00:00&lt;00:00, 10.6kB/s]"
          }
        },
        "8aeba5fefb9147fbb98bc046aaa7d32a": {
          "model_module": "@jupyter-widgets/base",
          "model_name": "LayoutModel",
          "model_module_version": "1.2.0",
          "state": {
            "_model_module": "@jupyter-widgets/base",
            "_model_module_version": "1.2.0",
            "_model_name": "LayoutModel",
            "_view_count": null,
            "_view_module": "@jupyter-widgets/base",
            "_view_module_version": "1.2.0",
            "_view_name": "LayoutView",
            "align_content": null,
            "align_items": null,
            "align_self": null,
            "border": null,
            "bottom": null,
            "display": null,
            "flex": null,
            "flex_flow": null,
            "grid_area": null,
            "grid_auto_columns": null,
            "grid_auto_flow": null,
            "grid_auto_rows": null,
            "grid_column": null,
            "grid_gap": null,
            "grid_row": null,
            "grid_template_areas": null,
            "grid_template_columns": null,
            "grid_template_rows": null,
            "height": null,
            "justify_content": null,
            "justify_items": null,
            "left": null,
            "margin": null,
            "max_height": null,
            "max_width": null,
            "min_height": null,
            "min_width": null,
            "object_fit": null,
            "object_position": null,
            "order": null,
            "overflow": null,
            "overflow_x": null,
            "overflow_y": null,
            "padding": null,
            "right": null,
            "top": null,
            "visibility": null,
            "width": null
          }
        },
        "89d1d337ff694cac8860ba4648d055d7": {
          "model_module": "@jupyter-widgets/base",
          "model_name": "LayoutModel",
          "model_module_version": "1.2.0",
          "state": {
            "_model_module": "@jupyter-widgets/base",
            "_model_module_version": "1.2.0",
            "_model_name": "LayoutModel",
            "_view_count": null,
            "_view_module": "@jupyter-widgets/base",
            "_view_module_version": "1.2.0",
            "_view_name": "LayoutView",
            "align_content": null,
            "align_items": null,
            "align_self": null,
            "border": null,
            "bottom": null,
            "display": null,
            "flex": null,
            "flex_flow": null,
            "grid_area": null,
            "grid_auto_columns": null,
            "grid_auto_flow": null,
            "grid_auto_rows": null,
            "grid_column": null,
            "grid_gap": null,
            "grid_row": null,
            "grid_template_areas": null,
            "grid_template_columns": null,
            "grid_template_rows": null,
            "height": null,
            "justify_content": null,
            "justify_items": null,
            "left": null,
            "margin": null,
            "max_height": null,
            "max_width": null,
            "min_height": null,
            "min_width": null,
            "object_fit": null,
            "object_position": null,
            "order": null,
            "overflow": null,
            "overflow_x": null,
            "overflow_y": null,
            "padding": null,
            "right": null,
            "top": null,
            "visibility": null,
            "width": null
          }
        },
        "2d7af4f636b340ebbd716a5414ccd1c4": {
          "model_module": "@jupyter-widgets/controls",
          "model_name": "DescriptionStyleModel",
          "model_module_version": "1.5.0",
          "state": {
            "_model_module": "@jupyter-widgets/controls",
            "_model_module_version": "1.5.0",
            "_model_name": "DescriptionStyleModel",
            "_view_count": null,
            "_view_module": "@jupyter-widgets/base",
            "_view_module_version": "1.2.0",
            "_view_name": "StyleView",
            "description_width": ""
          }
        },
        "6d4899ea64ac466ba79066e444667ea3": {
          "model_module": "@jupyter-widgets/base",
          "model_name": "LayoutModel",
          "model_module_version": "1.2.0",
          "state": {
            "_model_module": "@jupyter-widgets/base",
            "_model_module_version": "1.2.0",
            "_model_name": "LayoutModel",
            "_view_count": null,
            "_view_module": "@jupyter-widgets/base",
            "_view_module_version": "1.2.0",
            "_view_name": "LayoutView",
            "align_content": null,
            "align_items": null,
            "align_self": null,
            "border": null,
            "bottom": null,
            "display": null,
            "flex": null,
            "flex_flow": null,
            "grid_area": null,
            "grid_auto_columns": null,
            "grid_auto_flow": null,
            "grid_auto_rows": null,
            "grid_column": null,
            "grid_gap": null,
            "grid_row": null,
            "grid_template_areas": null,
            "grid_template_columns": null,
            "grid_template_rows": null,
            "height": null,
            "justify_content": null,
            "justify_items": null,
            "left": null,
            "margin": null,
            "max_height": null,
            "max_width": null,
            "min_height": null,
            "min_width": null,
            "object_fit": null,
            "object_position": null,
            "order": null,
            "overflow": null,
            "overflow_x": null,
            "overflow_y": null,
            "padding": null,
            "right": null,
            "top": null,
            "visibility": null,
            "width": null
          }
        },
        "5b55b85735014dcfa124ef8f27771539": {
          "model_module": "@jupyter-widgets/controls",
          "model_name": "ProgressStyleModel",
          "model_module_version": "1.5.0",
          "state": {
            "_model_module": "@jupyter-widgets/controls",
            "_model_module_version": "1.5.0",
            "_model_name": "ProgressStyleModel",
            "_view_count": null,
            "_view_module": "@jupyter-widgets/base",
            "_view_module_version": "1.2.0",
            "_view_name": "StyleView",
            "bar_color": null,
            "description_width": ""
          }
        },
        "5eed4761387b466cabbd1b753021b805": {
          "model_module": "@jupyter-widgets/base",
          "model_name": "LayoutModel",
          "model_module_version": "1.2.0",
          "state": {
            "_model_module": "@jupyter-widgets/base",
            "_model_module_version": "1.2.0",
            "_model_name": "LayoutModel",
            "_view_count": null,
            "_view_module": "@jupyter-widgets/base",
            "_view_module_version": "1.2.0",
            "_view_name": "LayoutView",
            "align_content": null,
            "align_items": null,
            "align_self": null,
            "border": null,
            "bottom": null,
            "display": null,
            "flex": null,
            "flex_flow": null,
            "grid_area": null,
            "grid_auto_columns": null,
            "grid_auto_flow": null,
            "grid_auto_rows": null,
            "grid_column": null,
            "grid_gap": null,
            "grid_row": null,
            "grid_template_areas": null,
            "grid_template_columns": null,
            "grid_template_rows": null,
            "height": null,
            "justify_content": null,
            "justify_items": null,
            "left": null,
            "margin": null,
            "max_height": null,
            "max_width": null,
            "min_height": null,
            "min_width": null,
            "object_fit": null,
            "object_position": null,
            "order": null,
            "overflow": null,
            "overflow_x": null,
            "overflow_y": null,
            "padding": null,
            "right": null,
            "top": null,
            "visibility": null,
            "width": null
          }
        },
        "32e8b26893b14c148ea49d87996c2e4f": {
          "model_module": "@jupyter-widgets/controls",
          "model_name": "DescriptionStyleModel",
          "model_module_version": "1.5.0",
          "state": {
            "_model_module": "@jupyter-widgets/controls",
            "_model_module_version": "1.5.0",
            "_model_name": "DescriptionStyleModel",
            "_view_count": null,
            "_view_module": "@jupyter-widgets/base",
            "_view_module_version": "1.2.0",
            "_view_name": "StyleView",
            "description_width": ""
          }
        },
        "b25548cf3d1046fc9560094564babcdc": {
          "model_module": "@jupyter-widgets/controls",
          "model_name": "HBoxModel",
          "model_module_version": "1.5.0",
          "state": {
            "_dom_classes": [],
            "_model_module": "@jupyter-widgets/controls",
            "_model_module_version": "1.5.0",
            "_model_name": "HBoxModel",
            "_view_count": null,
            "_view_module": "@jupyter-widgets/controls",
            "_view_module_version": "1.5.0",
            "_view_name": "HBoxView",
            "box_style": "",
            "children": [
              "IPY_MODEL_0f08fd3e34ce4f0aae82f8b4b10a5c82",
              "IPY_MODEL_3f179e6adc35492391b76059bd680268",
              "IPY_MODEL_f5a019ecca714113a52d51e7ef4ff2a0"
            ],
            "layout": "IPY_MODEL_86f935c226bb49f58d0d17b444b1fe11"
          }
        },
        "0f08fd3e34ce4f0aae82f8b4b10a5c82": {
          "model_module": "@jupyter-widgets/controls",
          "model_name": "HTMLModel",
          "model_module_version": "1.5.0",
          "state": {
            "_dom_classes": [],
            "_model_module": "@jupyter-widgets/controls",
            "_model_module_version": "1.5.0",
            "_model_name": "HTMLModel",
            "_view_count": null,
            "_view_module": "@jupyter-widgets/controls",
            "_view_module_version": "1.5.0",
            "_view_name": "HTMLView",
            "description": "",
            "description_tooltip": null,
            "layout": "IPY_MODEL_ceab519b255749b689509b64d7abf8d4",
            "placeholder": "​",
            "style": "IPY_MODEL_e6d2e5c20a91475c8b8f2aa3ebd98d57",
            "value": "tokenizer_config.json: 100%"
          }
        },
        "3f179e6adc35492391b76059bd680268": {
          "model_module": "@jupyter-widgets/controls",
          "model_name": "FloatProgressModel",
          "model_module_version": "1.5.0",
          "state": {
            "_dom_classes": [],
            "_model_module": "@jupyter-widgets/controls",
            "_model_module_version": "1.5.0",
            "_model_name": "FloatProgressModel",
            "_view_count": null,
            "_view_module": "@jupyter-widgets/controls",
            "_view_module_version": "1.5.0",
            "_view_name": "ProgressView",
            "bar_style": "success",
            "description": "",
            "description_tooltip": null,
            "layout": "IPY_MODEL_e2a8e87a18644fedbad5b48959d8cf17",
            "max": 29,
            "min": 0,
            "orientation": "horizontal",
            "style": "IPY_MODEL_8aee4d36689846cca755edb8c2cc0ddc",
            "value": 29
          }
        },
        "f5a019ecca714113a52d51e7ef4ff2a0": {
          "model_module": "@jupyter-widgets/controls",
          "model_name": "HTMLModel",
          "model_module_version": "1.5.0",
          "state": {
            "_dom_classes": [],
            "_model_module": "@jupyter-widgets/controls",
            "_model_module_version": "1.5.0",
            "_model_name": "HTMLModel",
            "_view_count": null,
            "_view_module": "@jupyter-widgets/controls",
            "_view_module_version": "1.5.0",
            "_view_name": "HTMLView",
            "description": "",
            "description_tooltip": null,
            "layout": "IPY_MODEL_e262ef5340cf491db7188046a514c4f0",
            "placeholder": "​",
            "style": "IPY_MODEL_160fb4d1e1a14e73ad12b9476d248acf",
            "value": " 29.0/29.0 [00:00&lt;00:00, 2.07kB/s]"
          }
        },
        "86f935c226bb49f58d0d17b444b1fe11": {
          "model_module": "@jupyter-widgets/base",
          "model_name": "LayoutModel",
          "model_module_version": "1.2.0",
          "state": {
            "_model_module": "@jupyter-widgets/base",
            "_model_module_version": "1.2.0",
            "_model_name": "LayoutModel",
            "_view_count": null,
            "_view_module": "@jupyter-widgets/base",
            "_view_module_version": "1.2.0",
            "_view_name": "LayoutView",
            "align_content": null,
            "align_items": null,
            "align_self": null,
            "border": null,
            "bottom": null,
            "display": null,
            "flex": null,
            "flex_flow": null,
            "grid_area": null,
            "grid_auto_columns": null,
            "grid_auto_flow": null,
            "grid_auto_rows": null,
            "grid_column": null,
            "grid_gap": null,
            "grid_row": null,
            "grid_template_areas": null,
            "grid_template_columns": null,
            "grid_template_rows": null,
            "height": null,
            "justify_content": null,
            "justify_items": null,
            "left": null,
            "margin": null,
            "max_height": null,
            "max_width": null,
            "min_height": null,
            "min_width": null,
            "object_fit": null,
            "object_position": null,
            "order": null,
            "overflow": null,
            "overflow_x": null,
            "overflow_y": null,
            "padding": null,
            "right": null,
            "top": null,
            "visibility": null,
            "width": null
          }
        },
        "ceab519b255749b689509b64d7abf8d4": {
          "model_module": "@jupyter-widgets/base",
          "model_name": "LayoutModel",
          "model_module_version": "1.2.0",
          "state": {
            "_model_module": "@jupyter-widgets/base",
            "_model_module_version": "1.2.0",
            "_model_name": "LayoutModel",
            "_view_count": null,
            "_view_module": "@jupyter-widgets/base",
            "_view_module_version": "1.2.0",
            "_view_name": "LayoutView",
            "align_content": null,
            "align_items": null,
            "align_self": null,
            "border": null,
            "bottom": null,
            "display": null,
            "flex": null,
            "flex_flow": null,
            "grid_area": null,
            "grid_auto_columns": null,
            "grid_auto_flow": null,
            "grid_auto_rows": null,
            "grid_column": null,
            "grid_gap": null,
            "grid_row": null,
            "grid_template_areas": null,
            "grid_template_columns": null,
            "grid_template_rows": null,
            "height": null,
            "justify_content": null,
            "justify_items": null,
            "left": null,
            "margin": null,
            "max_height": null,
            "max_width": null,
            "min_height": null,
            "min_width": null,
            "object_fit": null,
            "object_position": null,
            "order": null,
            "overflow": null,
            "overflow_x": null,
            "overflow_y": null,
            "padding": null,
            "right": null,
            "top": null,
            "visibility": null,
            "width": null
          }
        },
        "e6d2e5c20a91475c8b8f2aa3ebd98d57": {
          "model_module": "@jupyter-widgets/controls",
          "model_name": "DescriptionStyleModel",
          "model_module_version": "1.5.0",
          "state": {
            "_model_module": "@jupyter-widgets/controls",
            "_model_module_version": "1.5.0",
            "_model_name": "DescriptionStyleModel",
            "_view_count": null,
            "_view_module": "@jupyter-widgets/base",
            "_view_module_version": "1.2.0",
            "_view_name": "StyleView",
            "description_width": ""
          }
        },
        "e2a8e87a18644fedbad5b48959d8cf17": {
          "model_module": "@jupyter-widgets/base",
          "model_name": "LayoutModel",
          "model_module_version": "1.2.0",
          "state": {
            "_model_module": "@jupyter-widgets/base",
            "_model_module_version": "1.2.0",
            "_model_name": "LayoutModel",
            "_view_count": null,
            "_view_module": "@jupyter-widgets/base",
            "_view_module_version": "1.2.0",
            "_view_name": "LayoutView",
            "align_content": null,
            "align_items": null,
            "align_self": null,
            "border": null,
            "bottom": null,
            "display": null,
            "flex": null,
            "flex_flow": null,
            "grid_area": null,
            "grid_auto_columns": null,
            "grid_auto_flow": null,
            "grid_auto_rows": null,
            "grid_column": null,
            "grid_gap": null,
            "grid_row": null,
            "grid_template_areas": null,
            "grid_template_columns": null,
            "grid_template_rows": null,
            "height": null,
            "justify_content": null,
            "justify_items": null,
            "left": null,
            "margin": null,
            "max_height": null,
            "max_width": null,
            "min_height": null,
            "min_width": null,
            "object_fit": null,
            "object_position": null,
            "order": null,
            "overflow": null,
            "overflow_x": null,
            "overflow_y": null,
            "padding": null,
            "right": null,
            "top": null,
            "visibility": null,
            "width": null
          }
        },
        "8aee4d36689846cca755edb8c2cc0ddc": {
          "model_module": "@jupyter-widgets/controls",
          "model_name": "ProgressStyleModel",
          "model_module_version": "1.5.0",
          "state": {
            "_model_module": "@jupyter-widgets/controls",
            "_model_module_version": "1.5.0",
            "_model_name": "ProgressStyleModel",
            "_view_count": null,
            "_view_module": "@jupyter-widgets/base",
            "_view_module_version": "1.2.0",
            "_view_name": "StyleView",
            "bar_color": null,
            "description_width": ""
          }
        },
        "e262ef5340cf491db7188046a514c4f0": {
          "model_module": "@jupyter-widgets/base",
          "model_name": "LayoutModel",
          "model_module_version": "1.2.0",
          "state": {
            "_model_module": "@jupyter-widgets/base",
            "_model_module_version": "1.2.0",
            "_model_name": "LayoutModel",
            "_view_count": null,
            "_view_module": "@jupyter-widgets/base",
            "_view_module_version": "1.2.0",
            "_view_name": "LayoutView",
            "align_content": null,
            "align_items": null,
            "align_self": null,
            "border": null,
            "bottom": null,
            "display": null,
            "flex": null,
            "flex_flow": null,
            "grid_area": null,
            "grid_auto_columns": null,
            "grid_auto_flow": null,
            "grid_auto_rows": null,
            "grid_column": null,
            "grid_gap": null,
            "grid_row": null,
            "grid_template_areas": null,
            "grid_template_columns": null,
            "grid_template_rows": null,
            "height": null,
            "justify_content": null,
            "justify_items": null,
            "left": null,
            "margin": null,
            "max_height": null,
            "max_width": null,
            "min_height": null,
            "min_width": null,
            "object_fit": null,
            "object_position": null,
            "order": null,
            "overflow": null,
            "overflow_x": null,
            "overflow_y": null,
            "padding": null,
            "right": null,
            "top": null,
            "visibility": null,
            "width": null
          }
        },
        "160fb4d1e1a14e73ad12b9476d248acf": {
          "model_module": "@jupyter-widgets/controls",
          "model_name": "DescriptionStyleModel",
          "model_module_version": "1.5.0",
          "state": {
            "_model_module": "@jupyter-widgets/controls",
            "_model_module_version": "1.5.0",
            "_model_name": "DescriptionStyleModel",
            "_view_count": null,
            "_view_module": "@jupyter-widgets/base",
            "_view_module_version": "1.2.0",
            "_view_name": "StyleView",
            "description_width": ""
          }
        },
        "48bc904bb31c4a10a3aba6287d90a009": {
          "model_module": "@jupyter-widgets/controls",
          "model_name": "HBoxModel",
          "model_module_version": "1.5.0",
          "state": {
            "_dom_classes": [],
            "_model_module": "@jupyter-widgets/controls",
            "_model_module_version": "1.5.0",
            "_model_name": "HBoxModel",
            "_view_count": null,
            "_view_module": "@jupyter-widgets/controls",
            "_view_module_version": "1.5.0",
            "_view_name": "HBoxView",
            "box_style": "",
            "children": [
              "IPY_MODEL_fe361163cc284a43871faed9112b63c7",
              "IPY_MODEL_b9848e413e4d4a1a9227d14c90437530",
              "IPY_MODEL_ca58c5f5d7f144cca19a16fc9d139ce7"
            ],
            "layout": "IPY_MODEL_76eca7f3bc444bdbbb8e5ac12b3a40b2"
          }
        },
        "fe361163cc284a43871faed9112b63c7": {
          "model_module": "@jupyter-widgets/controls",
          "model_name": "HTMLModel",
          "model_module_version": "1.5.0",
          "state": {
            "_dom_classes": [],
            "_model_module": "@jupyter-widgets/controls",
            "_model_module_version": "1.5.0",
            "_model_name": "HTMLModel",
            "_view_count": null,
            "_view_module": "@jupyter-widgets/controls",
            "_view_module_version": "1.5.0",
            "_view_name": "HTMLView",
            "description": "",
            "description_tooltip": null,
            "layout": "IPY_MODEL_c4592c78fd1e401b87ac4161f7849fff",
            "placeholder": "​",
            "style": "IPY_MODEL_fa410b8891994100954483a7ab3304d6",
            "value": "vocab.txt: 100%"
          }
        },
        "b9848e413e4d4a1a9227d14c90437530": {
          "model_module": "@jupyter-widgets/controls",
          "model_name": "FloatProgressModel",
          "model_module_version": "1.5.0",
          "state": {
            "_dom_classes": [],
            "_model_module": "@jupyter-widgets/controls",
            "_model_module_version": "1.5.0",
            "_model_name": "FloatProgressModel",
            "_view_count": null,
            "_view_module": "@jupyter-widgets/controls",
            "_view_module_version": "1.5.0",
            "_view_name": "ProgressView",
            "bar_style": "success",
            "description": "",
            "description_tooltip": null,
            "layout": "IPY_MODEL_5d94ddf058794deda0370aaa2d738b8c",
            "max": 109540,
            "min": 0,
            "orientation": "horizontal",
            "style": "IPY_MODEL_0c52164a494f4a9da9c0bfe06b836ea0",
            "value": 109540
          }
        },
        "ca58c5f5d7f144cca19a16fc9d139ce7": {
          "model_module": "@jupyter-widgets/controls",
          "model_name": "HTMLModel",
          "model_module_version": "1.5.0",
          "state": {
            "_dom_classes": [],
            "_model_module": "@jupyter-widgets/controls",
            "_model_module_version": "1.5.0",
            "_model_name": "HTMLModel",
            "_view_count": null,
            "_view_module": "@jupyter-widgets/controls",
            "_view_module_version": "1.5.0",
            "_view_name": "HTMLView",
            "description": "",
            "description_tooltip": null,
            "layout": "IPY_MODEL_ac05fecbdc04480b9652ee298006ed3c",
            "placeholder": "​",
            "style": "IPY_MODEL_3a3a48075288476487b7874a49147809",
            "value": " 110k/110k [00:00&lt;00:00, 4.02MB/s]"
          }
        },
        "76eca7f3bc444bdbbb8e5ac12b3a40b2": {
          "model_module": "@jupyter-widgets/base",
          "model_name": "LayoutModel",
          "model_module_version": "1.2.0",
          "state": {
            "_model_module": "@jupyter-widgets/base",
            "_model_module_version": "1.2.0",
            "_model_name": "LayoutModel",
            "_view_count": null,
            "_view_module": "@jupyter-widgets/base",
            "_view_module_version": "1.2.0",
            "_view_name": "LayoutView",
            "align_content": null,
            "align_items": null,
            "align_self": null,
            "border": null,
            "bottom": null,
            "display": null,
            "flex": null,
            "flex_flow": null,
            "grid_area": null,
            "grid_auto_columns": null,
            "grid_auto_flow": null,
            "grid_auto_rows": null,
            "grid_column": null,
            "grid_gap": null,
            "grid_row": null,
            "grid_template_areas": null,
            "grid_template_columns": null,
            "grid_template_rows": null,
            "height": null,
            "justify_content": null,
            "justify_items": null,
            "left": null,
            "margin": null,
            "max_height": null,
            "max_width": null,
            "min_height": null,
            "min_width": null,
            "object_fit": null,
            "object_position": null,
            "order": null,
            "overflow": null,
            "overflow_x": null,
            "overflow_y": null,
            "padding": null,
            "right": null,
            "top": null,
            "visibility": null,
            "width": null
          }
        },
        "c4592c78fd1e401b87ac4161f7849fff": {
          "model_module": "@jupyter-widgets/base",
          "model_name": "LayoutModel",
          "model_module_version": "1.2.0",
          "state": {
            "_model_module": "@jupyter-widgets/base",
            "_model_module_version": "1.2.0",
            "_model_name": "LayoutModel",
            "_view_count": null,
            "_view_module": "@jupyter-widgets/base",
            "_view_module_version": "1.2.0",
            "_view_name": "LayoutView",
            "align_content": null,
            "align_items": null,
            "align_self": null,
            "border": null,
            "bottom": null,
            "display": null,
            "flex": null,
            "flex_flow": null,
            "grid_area": null,
            "grid_auto_columns": null,
            "grid_auto_flow": null,
            "grid_auto_rows": null,
            "grid_column": null,
            "grid_gap": null,
            "grid_row": null,
            "grid_template_areas": null,
            "grid_template_columns": null,
            "grid_template_rows": null,
            "height": null,
            "justify_content": null,
            "justify_items": null,
            "left": null,
            "margin": null,
            "max_height": null,
            "max_width": null,
            "min_height": null,
            "min_width": null,
            "object_fit": null,
            "object_position": null,
            "order": null,
            "overflow": null,
            "overflow_x": null,
            "overflow_y": null,
            "padding": null,
            "right": null,
            "top": null,
            "visibility": null,
            "width": null
          }
        },
        "fa410b8891994100954483a7ab3304d6": {
          "model_module": "@jupyter-widgets/controls",
          "model_name": "DescriptionStyleModel",
          "model_module_version": "1.5.0",
          "state": {
            "_model_module": "@jupyter-widgets/controls",
            "_model_module_version": "1.5.0",
            "_model_name": "DescriptionStyleModel",
            "_view_count": null,
            "_view_module": "@jupyter-widgets/base",
            "_view_module_version": "1.2.0",
            "_view_name": "StyleView",
            "description_width": ""
          }
        },
        "5d94ddf058794deda0370aaa2d738b8c": {
          "model_module": "@jupyter-widgets/base",
          "model_name": "LayoutModel",
          "model_module_version": "1.2.0",
          "state": {
            "_model_module": "@jupyter-widgets/base",
            "_model_module_version": "1.2.0",
            "_model_name": "LayoutModel",
            "_view_count": null,
            "_view_module": "@jupyter-widgets/base",
            "_view_module_version": "1.2.0",
            "_view_name": "LayoutView",
            "align_content": null,
            "align_items": null,
            "align_self": null,
            "border": null,
            "bottom": null,
            "display": null,
            "flex": null,
            "flex_flow": null,
            "grid_area": null,
            "grid_auto_columns": null,
            "grid_auto_flow": null,
            "grid_auto_rows": null,
            "grid_column": null,
            "grid_gap": null,
            "grid_row": null,
            "grid_template_areas": null,
            "grid_template_columns": null,
            "grid_template_rows": null,
            "height": null,
            "justify_content": null,
            "justify_items": null,
            "left": null,
            "margin": null,
            "max_height": null,
            "max_width": null,
            "min_height": null,
            "min_width": null,
            "object_fit": null,
            "object_position": null,
            "order": null,
            "overflow": null,
            "overflow_x": null,
            "overflow_y": null,
            "padding": null,
            "right": null,
            "top": null,
            "visibility": null,
            "width": null
          }
        },
        "0c52164a494f4a9da9c0bfe06b836ea0": {
          "model_module": "@jupyter-widgets/controls",
          "model_name": "ProgressStyleModel",
          "model_module_version": "1.5.0",
          "state": {
            "_model_module": "@jupyter-widgets/controls",
            "_model_module_version": "1.5.0",
            "_model_name": "ProgressStyleModel",
            "_view_count": null,
            "_view_module": "@jupyter-widgets/base",
            "_view_module_version": "1.2.0",
            "_view_name": "StyleView",
            "bar_color": null,
            "description_width": ""
          }
        },
        "ac05fecbdc04480b9652ee298006ed3c": {
          "model_module": "@jupyter-widgets/base",
          "model_name": "LayoutModel",
          "model_module_version": "1.2.0",
          "state": {
            "_model_module": "@jupyter-widgets/base",
            "_model_module_version": "1.2.0",
            "_model_name": "LayoutModel",
            "_view_count": null,
            "_view_module": "@jupyter-widgets/base",
            "_view_module_version": "1.2.0",
            "_view_name": "LayoutView",
            "align_content": null,
            "align_items": null,
            "align_self": null,
            "border": null,
            "bottom": null,
            "display": null,
            "flex": null,
            "flex_flow": null,
            "grid_area": null,
            "grid_auto_columns": null,
            "grid_auto_flow": null,
            "grid_auto_rows": null,
            "grid_column": null,
            "grid_gap": null,
            "grid_row": null,
            "grid_template_areas": null,
            "grid_template_columns": null,
            "grid_template_rows": null,
            "height": null,
            "justify_content": null,
            "justify_items": null,
            "left": null,
            "margin": null,
            "max_height": null,
            "max_width": null,
            "min_height": null,
            "min_width": null,
            "object_fit": null,
            "object_position": null,
            "order": null,
            "overflow": null,
            "overflow_x": null,
            "overflow_y": null,
            "padding": null,
            "right": null,
            "top": null,
            "visibility": null,
            "width": null
          }
        },
        "3a3a48075288476487b7874a49147809": {
          "model_module": "@jupyter-widgets/controls",
          "model_name": "DescriptionStyleModel",
          "model_module_version": "1.5.0",
          "state": {
            "_model_module": "@jupyter-widgets/controls",
            "_model_module_version": "1.5.0",
            "_model_name": "DescriptionStyleModel",
            "_view_count": null,
            "_view_module": "@jupyter-widgets/base",
            "_view_module_version": "1.2.0",
            "_view_name": "StyleView",
            "description_width": ""
          }
        },
        "def7a06fda39486e8fdfc5b76fc3e610": {
          "model_module": "@jupyter-widgets/controls",
          "model_name": "HBoxModel",
          "model_module_version": "1.5.0",
          "state": {
            "_dom_classes": [],
            "_model_module": "@jupyter-widgets/controls",
            "_model_module_version": "1.5.0",
            "_model_name": "HBoxModel",
            "_view_count": null,
            "_view_module": "@jupyter-widgets/controls",
            "_view_module_version": "1.5.0",
            "_view_name": "HBoxView",
            "box_style": "",
            "children": [
              "IPY_MODEL_0642f0d0711040d899a28820d136eb3a",
              "IPY_MODEL_da45b66ab89043c8ba696e0732b9af76",
              "IPY_MODEL_9fa2ae5c49ed4a26af68b2934c2f7c3b"
            ],
            "layout": "IPY_MODEL_fa4f8425f95944648809ed6160279a23"
          }
        },
        "0642f0d0711040d899a28820d136eb3a": {
          "model_module": "@jupyter-widgets/controls",
          "model_name": "HTMLModel",
          "model_module_version": "1.5.0",
          "state": {
            "_dom_classes": [],
            "_model_module": "@jupyter-widgets/controls",
            "_model_module_version": "1.5.0",
            "_model_name": "HTMLModel",
            "_view_count": null,
            "_view_module": "@jupyter-widgets/controls",
            "_view_module_version": "1.5.0",
            "_view_name": "HTMLView",
            "description": "",
            "description_tooltip": null,
            "layout": "IPY_MODEL_ae98c164d7db4603a0bc13ba31c42ede",
            "placeholder": "​",
            "style": "IPY_MODEL_a10edd7652974b81bd8c28a7092b3d4e",
            "value": "tokenizer.json: 100%"
          }
        },
        "da45b66ab89043c8ba696e0732b9af76": {
          "model_module": "@jupyter-widgets/controls",
          "model_name": "FloatProgressModel",
          "model_module_version": "1.5.0",
          "state": {
            "_dom_classes": [],
            "_model_module": "@jupyter-widgets/controls",
            "_model_module_version": "1.5.0",
            "_model_name": "FloatProgressModel",
            "_view_count": null,
            "_view_module": "@jupyter-widgets/controls",
            "_view_module_version": "1.5.0",
            "_view_name": "ProgressView",
            "bar_style": "success",
            "description": "",
            "description_tooltip": null,
            "layout": "IPY_MODEL_0a9061e1c05c4acbbf3953482567d37b",
            "max": 268943,
            "min": 0,
            "orientation": "horizontal",
            "style": "IPY_MODEL_2b00b95c4b834c5d9096ac4fcf28cfc1",
            "value": 268943
          }
        },
        "9fa2ae5c49ed4a26af68b2934c2f7c3b": {
          "model_module": "@jupyter-widgets/controls",
          "model_name": "HTMLModel",
          "model_module_version": "1.5.0",
          "state": {
            "_dom_classes": [],
            "_model_module": "@jupyter-widgets/controls",
            "_model_module_version": "1.5.0",
            "_model_name": "HTMLModel",
            "_view_count": null,
            "_view_module": "@jupyter-widgets/controls",
            "_view_module_version": "1.5.0",
            "_view_name": "HTMLView",
            "description": "",
            "description_tooltip": null,
            "layout": "IPY_MODEL_251d9a87fd3b44d3a11df7044f578f93",
            "placeholder": "​",
            "style": "IPY_MODEL_a85de1e391a54bff848669d68299cb88",
            "value": " 269k/269k [00:00&lt;00:00, 12.5MB/s]"
          }
        },
        "fa4f8425f95944648809ed6160279a23": {
          "model_module": "@jupyter-widgets/base",
          "model_name": "LayoutModel",
          "model_module_version": "1.2.0",
          "state": {
            "_model_module": "@jupyter-widgets/base",
            "_model_module_version": "1.2.0",
            "_model_name": "LayoutModel",
            "_view_count": null,
            "_view_module": "@jupyter-widgets/base",
            "_view_module_version": "1.2.0",
            "_view_name": "LayoutView",
            "align_content": null,
            "align_items": null,
            "align_self": null,
            "border": null,
            "bottom": null,
            "display": null,
            "flex": null,
            "flex_flow": null,
            "grid_area": null,
            "grid_auto_columns": null,
            "grid_auto_flow": null,
            "grid_auto_rows": null,
            "grid_column": null,
            "grid_gap": null,
            "grid_row": null,
            "grid_template_areas": null,
            "grid_template_columns": null,
            "grid_template_rows": null,
            "height": null,
            "justify_content": null,
            "justify_items": null,
            "left": null,
            "margin": null,
            "max_height": null,
            "max_width": null,
            "min_height": null,
            "min_width": null,
            "object_fit": null,
            "object_position": null,
            "order": null,
            "overflow": null,
            "overflow_x": null,
            "overflow_y": null,
            "padding": null,
            "right": null,
            "top": null,
            "visibility": null,
            "width": null
          }
        },
        "ae98c164d7db4603a0bc13ba31c42ede": {
          "model_module": "@jupyter-widgets/base",
          "model_name": "LayoutModel",
          "model_module_version": "1.2.0",
          "state": {
            "_model_module": "@jupyter-widgets/base",
            "_model_module_version": "1.2.0",
            "_model_name": "LayoutModel",
            "_view_count": null,
            "_view_module": "@jupyter-widgets/base",
            "_view_module_version": "1.2.0",
            "_view_name": "LayoutView",
            "align_content": null,
            "align_items": null,
            "align_self": null,
            "border": null,
            "bottom": null,
            "display": null,
            "flex": null,
            "flex_flow": null,
            "grid_area": null,
            "grid_auto_columns": null,
            "grid_auto_flow": null,
            "grid_auto_rows": null,
            "grid_column": null,
            "grid_gap": null,
            "grid_row": null,
            "grid_template_areas": null,
            "grid_template_columns": null,
            "grid_template_rows": null,
            "height": null,
            "justify_content": null,
            "justify_items": null,
            "left": null,
            "margin": null,
            "max_height": null,
            "max_width": null,
            "min_height": null,
            "min_width": null,
            "object_fit": null,
            "object_position": null,
            "order": null,
            "overflow": null,
            "overflow_x": null,
            "overflow_y": null,
            "padding": null,
            "right": null,
            "top": null,
            "visibility": null,
            "width": null
          }
        },
        "a10edd7652974b81bd8c28a7092b3d4e": {
          "model_module": "@jupyter-widgets/controls",
          "model_name": "DescriptionStyleModel",
          "model_module_version": "1.5.0",
          "state": {
            "_model_module": "@jupyter-widgets/controls",
            "_model_module_version": "1.5.0",
            "_model_name": "DescriptionStyleModel",
            "_view_count": null,
            "_view_module": "@jupyter-widgets/base",
            "_view_module_version": "1.2.0",
            "_view_name": "StyleView",
            "description_width": ""
          }
        },
        "0a9061e1c05c4acbbf3953482567d37b": {
          "model_module": "@jupyter-widgets/base",
          "model_name": "LayoutModel",
          "model_module_version": "1.2.0",
          "state": {
            "_model_module": "@jupyter-widgets/base",
            "_model_module_version": "1.2.0",
            "_model_name": "LayoutModel",
            "_view_count": null,
            "_view_module": "@jupyter-widgets/base",
            "_view_module_version": "1.2.0",
            "_view_name": "LayoutView",
            "align_content": null,
            "align_items": null,
            "align_self": null,
            "border": null,
            "bottom": null,
            "display": null,
            "flex": null,
            "flex_flow": null,
            "grid_area": null,
            "grid_auto_columns": null,
            "grid_auto_flow": null,
            "grid_auto_rows": null,
            "grid_column": null,
            "grid_gap": null,
            "grid_row": null,
            "grid_template_areas": null,
            "grid_template_columns": null,
            "grid_template_rows": null,
            "height": null,
            "justify_content": null,
            "justify_items": null,
            "left": null,
            "margin": null,
            "max_height": null,
            "max_width": null,
            "min_height": null,
            "min_width": null,
            "object_fit": null,
            "object_position": null,
            "order": null,
            "overflow": null,
            "overflow_x": null,
            "overflow_y": null,
            "padding": null,
            "right": null,
            "top": null,
            "visibility": null,
            "width": null
          }
        },
        "2b00b95c4b834c5d9096ac4fcf28cfc1": {
          "model_module": "@jupyter-widgets/controls",
          "model_name": "ProgressStyleModel",
          "model_module_version": "1.5.0",
          "state": {
            "_model_module": "@jupyter-widgets/controls",
            "_model_module_version": "1.5.0",
            "_model_name": "ProgressStyleModel",
            "_view_count": null,
            "_view_module": "@jupyter-widgets/base",
            "_view_module_version": "1.2.0",
            "_view_name": "StyleView",
            "bar_color": null,
            "description_width": ""
          }
        },
        "251d9a87fd3b44d3a11df7044f578f93": {
          "model_module": "@jupyter-widgets/base",
          "model_name": "LayoutModel",
          "model_module_version": "1.2.0",
          "state": {
            "_model_module": "@jupyter-widgets/base",
            "_model_module_version": "1.2.0",
            "_model_name": "LayoutModel",
            "_view_count": null,
            "_view_module": "@jupyter-widgets/base",
            "_view_module_version": "1.2.0",
            "_view_name": "LayoutView",
            "align_content": null,
            "align_items": null,
            "align_self": null,
            "border": null,
            "bottom": null,
            "display": null,
            "flex": null,
            "flex_flow": null,
            "grid_area": null,
            "grid_auto_columns": null,
            "grid_auto_flow": null,
            "grid_auto_rows": null,
            "grid_column": null,
            "grid_gap": null,
            "grid_row": null,
            "grid_template_areas": null,
            "grid_template_columns": null,
            "grid_template_rows": null,
            "height": null,
            "justify_content": null,
            "justify_items": null,
            "left": null,
            "margin": null,
            "max_height": null,
            "max_width": null,
            "min_height": null,
            "min_width": null,
            "object_fit": null,
            "object_position": null,
            "order": null,
            "overflow": null,
            "overflow_x": null,
            "overflow_y": null,
            "padding": null,
            "right": null,
            "top": null,
            "visibility": null,
            "width": null
          }
        },
        "a85de1e391a54bff848669d68299cb88": {
          "model_module": "@jupyter-widgets/controls",
          "model_name": "DescriptionStyleModel",
          "model_module_version": "1.5.0",
          "state": {
            "_model_module": "@jupyter-widgets/controls",
            "_model_module_version": "1.5.0",
            "_model_name": "DescriptionStyleModel",
            "_view_count": null,
            "_view_module": "@jupyter-widgets/base",
            "_view_module_version": "1.2.0",
            "_view_name": "StyleView",
            "description_width": ""
          }
        },
        "695f5ffcb99a45e3a08b773ffd659f6d": {
          "model_module": "@jupyter-widgets/controls",
          "model_name": "HBoxModel",
          "model_module_version": "1.5.0",
          "state": {
            "_dom_classes": [],
            "_model_module": "@jupyter-widgets/controls",
            "_model_module_version": "1.5.0",
            "_model_name": "HBoxModel",
            "_view_count": null,
            "_view_module": "@jupyter-widgets/controls",
            "_view_module_version": "1.5.0",
            "_view_name": "HBoxView",
            "box_style": "",
            "children": [
              "IPY_MODEL_a6baa0ef15ac4ed39626dafbdde8bfde",
              "IPY_MODEL_89dccc0ff6a54ca8b083340889b36817",
              "IPY_MODEL_402541475e5740c2b958570ef7843c1a"
            ],
            "layout": "IPY_MODEL_08effaee68d94672b8be0a0e28096613"
          }
        },
        "a6baa0ef15ac4ed39626dafbdde8bfde": {
          "model_module": "@jupyter-widgets/controls",
          "model_name": "HTMLModel",
          "model_module_version": "1.5.0",
          "state": {
            "_dom_classes": [],
            "_model_module": "@jupyter-widgets/controls",
            "_model_module_version": "1.5.0",
            "_model_name": "HTMLModel",
            "_view_count": null,
            "_view_module": "@jupyter-widgets/controls",
            "_view_module_version": "1.5.0",
            "_view_name": "HTMLView",
            "description": "",
            "description_tooltip": null,
            "layout": "IPY_MODEL_2d1b224f038d4ad1ab23d44c33547b47",
            "placeholder": "​",
            "style": "IPY_MODEL_73780c468c4c4ba7b0776e296362ceca",
            "value": "config.json: 100%"
          }
        },
        "89dccc0ff6a54ca8b083340889b36817": {
          "model_module": "@jupyter-widgets/controls",
          "model_name": "FloatProgressModel",
          "model_module_version": "1.5.0",
          "state": {
            "_dom_classes": [],
            "_model_module": "@jupyter-widgets/controls",
            "_model_module_version": "1.5.0",
            "_model_name": "FloatProgressModel",
            "_view_count": null,
            "_view_module": "@jupyter-widgets/controls",
            "_view_module_version": "1.5.0",
            "_view_name": "ProgressView",
            "bar_style": "success",
            "description": "",
            "description_tooltip": null,
            "layout": "IPY_MODEL_7dfa0bb0de1544ba81a062a6631b8336",
            "max": 624,
            "min": 0,
            "orientation": "horizontal",
            "style": "IPY_MODEL_3bdabc1e8f6b4344af8b4a76b1481c10",
            "value": 624
          }
        },
        "402541475e5740c2b958570ef7843c1a": {
          "model_module": "@jupyter-widgets/controls",
          "model_name": "HTMLModel",
          "model_module_version": "1.5.0",
          "state": {
            "_dom_classes": [],
            "_model_module": "@jupyter-widgets/controls",
            "_model_module_version": "1.5.0",
            "_model_name": "HTMLModel",
            "_view_count": null,
            "_view_module": "@jupyter-widgets/controls",
            "_view_module_version": "1.5.0",
            "_view_name": "HTMLView",
            "description": "",
            "description_tooltip": null,
            "layout": "IPY_MODEL_0a11fb3c10e64e35bc20285f922cf93c",
            "placeholder": "​",
            "style": "IPY_MODEL_a53c2ec30d4d4313a6ba63dea07c235a",
            "value": " 624/624 [00:00&lt;00:00, 55.8kB/s]"
          }
        },
        "08effaee68d94672b8be0a0e28096613": {
          "model_module": "@jupyter-widgets/base",
          "model_name": "LayoutModel",
          "model_module_version": "1.2.0",
          "state": {
            "_model_module": "@jupyter-widgets/base",
            "_model_module_version": "1.2.0",
            "_model_name": "LayoutModel",
            "_view_count": null,
            "_view_module": "@jupyter-widgets/base",
            "_view_module_version": "1.2.0",
            "_view_name": "LayoutView",
            "align_content": null,
            "align_items": null,
            "align_self": null,
            "border": null,
            "bottom": null,
            "display": null,
            "flex": null,
            "flex_flow": null,
            "grid_area": null,
            "grid_auto_columns": null,
            "grid_auto_flow": null,
            "grid_auto_rows": null,
            "grid_column": null,
            "grid_gap": null,
            "grid_row": null,
            "grid_template_areas": null,
            "grid_template_columns": null,
            "grid_template_rows": null,
            "height": null,
            "justify_content": null,
            "justify_items": null,
            "left": null,
            "margin": null,
            "max_height": null,
            "max_width": null,
            "min_height": null,
            "min_width": null,
            "object_fit": null,
            "object_position": null,
            "order": null,
            "overflow": null,
            "overflow_x": null,
            "overflow_y": null,
            "padding": null,
            "right": null,
            "top": null,
            "visibility": null,
            "width": null
          }
        },
        "2d1b224f038d4ad1ab23d44c33547b47": {
          "model_module": "@jupyter-widgets/base",
          "model_name": "LayoutModel",
          "model_module_version": "1.2.0",
          "state": {
            "_model_module": "@jupyter-widgets/base",
            "_model_module_version": "1.2.0",
            "_model_name": "LayoutModel",
            "_view_count": null,
            "_view_module": "@jupyter-widgets/base",
            "_view_module_version": "1.2.0",
            "_view_name": "LayoutView",
            "align_content": null,
            "align_items": null,
            "align_self": null,
            "border": null,
            "bottom": null,
            "display": null,
            "flex": null,
            "flex_flow": null,
            "grid_area": null,
            "grid_auto_columns": null,
            "grid_auto_flow": null,
            "grid_auto_rows": null,
            "grid_column": null,
            "grid_gap": null,
            "grid_row": null,
            "grid_template_areas": null,
            "grid_template_columns": null,
            "grid_template_rows": null,
            "height": null,
            "justify_content": null,
            "justify_items": null,
            "left": null,
            "margin": null,
            "max_height": null,
            "max_width": null,
            "min_height": null,
            "min_width": null,
            "object_fit": null,
            "object_position": null,
            "order": null,
            "overflow": null,
            "overflow_x": null,
            "overflow_y": null,
            "padding": null,
            "right": null,
            "top": null,
            "visibility": null,
            "width": null
          }
        },
        "73780c468c4c4ba7b0776e296362ceca": {
          "model_module": "@jupyter-widgets/controls",
          "model_name": "DescriptionStyleModel",
          "model_module_version": "1.5.0",
          "state": {
            "_model_module": "@jupyter-widgets/controls",
            "_model_module_version": "1.5.0",
            "_model_name": "DescriptionStyleModel",
            "_view_count": null,
            "_view_module": "@jupyter-widgets/base",
            "_view_module_version": "1.2.0",
            "_view_name": "StyleView",
            "description_width": ""
          }
        },
        "7dfa0bb0de1544ba81a062a6631b8336": {
          "model_module": "@jupyter-widgets/base",
          "model_name": "LayoutModel",
          "model_module_version": "1.2.0",
          "state": {
            "_model_module": "@jupyter-widgets/base",
            "_model_module_version": "1.2.0",
            "_model_name": "LayoutModel",
            "_view_count": null,
            "_view_module": "@jupyter-widgets/base",
            "_view_module_version": "1.2.0",
            "_view_name": "LayoutView",
            "align_content": null,
            "align_items": null,
            "align_self": null,
            "border": null,
            "bottom": null,
            "display": null,
            "flex": null,
            "flex_flow": null,
            "grid_area": null,
            "grid_auto_columns": null,
            "grid_auto_flow": null,
            "grid_auto_rows": null,
            "grid_column": null,
            "grid_gap": null,
            "grid_row": null,
            "grid_template_areas": null,
            "grid_template_columns": null,
            "grid_template_rows": null,
            "height": null,
            "justify_content": null,
            "justify_items": null,
            "left": null,
            "margin": null,
            "max_height": null,
            "max_width": null,
            "min_height": null,
            "min_width": null,
            "object_fit": null,
            "object_position": null,
            "order": null,
            "overflow": null,
            "overflow_x": null,
            "overflow_y": null,
            "padding": null,
            "right": null,
            "top": null,
            "visibility": null,
            "width": null
          }
        },
        "3bdabc1e8f6b4344af8b4a76b1481c10": {
          "model_module": "@jupyter-widgets/controls",
          "model_name": "ProgressStyleModel",
          "model_module_version": "1.5.0",
          "state": {
            "_model_module": "@jupyter-widgets/controls",
            "_model_module_version": "1.5.0",
            "_model_name": "ProgressStyleModel",
            "_view_count": null,
            "_view_module": "@jupyter-widgets/base",
            "_view_module_version": "1.2.0",
            "_view_name": "StyleView",
            "bar_color": null,
            "description_width": ""
          }
        },
        "0a11fb3c10e64e35bc20285f922cf93c": {
          "model_module": "@jupyter-widgets/base",
          "model_name": "LayoutModel",
          "model_module_version": "1.2.0",
          "state": {
            "_model_module": "@jupyter-widgets/base",
            "_model_module_version": "1.2.0",
            "_model_name": "LayoutModel",
            "_view_count": null,
            "_view_module": "@jupyter-widgets/base",
            "_view_module_version": "1.2.0",
            "_view_name": "LayoutView",
            "align_content": null,
            "align_items": null,
            "align_self": null,
            "border": null,
            "bottom": null,
            "display": null,
            "flex": null,
            "flex_flow": null,
            "grid_area": null,
            "grid_auto_columns": null,
            "grid_auto_flow": null,
            "grid_auto_rows": null,
            "grid_column": null,
            "grid_gap": null,
            "grid_row": null,
            "grid_template_areas": null,
            "grid_template_columns": null,
            "grid_template_rows": null,
            "height": null,
            "justify_content": null,
            "justify_items": null,
            "left": null,
            "margin": null,
            "max_height": null,
            "max_width": null,
            "min_height": null,
            "min_width": null,
            "object_fit": null,
            "object_position": null,
            "order": null,
            "overflow": null,
            "overflow_x": null,
            "overflow_y": null,
            "padding": null,
            "right": null,
            "top": null,
            "visibility": null,
            "width": null
          }
        },
        "a53c2ec30d4d4313a6ba63dea07c235a": {
          "model_module": "@jupyter-widgets/controls",
          "model_name": "DescriptionStyleModel",
          "model_module_version": "1.5.0",
          "state": {
            "_model_module": "@jupyter-widgets/controls",
            "_model_module_version": "1.5.0",
            "_model_name": "DescriptionStyleModel",
            "_view_count": null,
            "_view_module": "@jupyter-widgets/base",
            "_view_module_version": "1.2.0",
            "_view_name": "StyleView",
            "description_width": ""
          }
        },
        "83fa7332ae8a47998830d8c9c8e12a87": {
          "model_module": "@jupyter-widgets/controls",
          "model_name": "HBoxModel",
          "model_module_version": "1.5.0",
          "state": {
            "_dom_classes": [],
            "_model_module": "@jupyter-widgets/controls",
            "_model_module_version": "1.5.0",
            "_model_name": "HBoxModel",
            "_view_count": null,
            "_view_module": "@jupyter-widgets/controls",
            "_view_module_version": "1.5.0",
            "_view_name": "HBoxView",
            "box_style": "",
            "children": [
              "IPY_MODEL_cdfdccce201c4aa09e9d047aa325da5d",
              "IPY_MODEL_c5d442395db947e29d5af896dab2edea",
              "IPY_MODEL_773f07dc2ea244be962f303d583daa5a"
            ],
            "layout": "IPY_MODEL_fe6622e0471d43a9b017c73e19f6d67f"
          }
        },
        "cdfdccce201c4aa09e9d047aa325da5d": {
          "model_module": "@jupyter-widgets/controls",
          "model_name": "HTMLModel",
          "model_module_version": "1.5.0",
          "state": {
            "_dom_classes": [],
            "_model_module": "@jupyter-widgets/controls",
            "_model_module_version": "1.5.0",
            "_model_name": "HTMLModel",
            "_view_count": null,
            "_view_module": "@jupyter-widgets/controls",
            "_view_module_version": "1.5.0",
            "_view_name": "HTMLView",
            "description": "",
            "description_tooltip": null,
            "layout": "IPY_MODEL_43e500228aaa4e1489ab18d90aff4018",
            "placeholder": "​",
            "style": "IPY_MODEL_2c2e1bdfb7084a85bf0bef290ad7ce27",
            "value": "config.json: 100%"
          }
        },
        "c5d442395db947e29d5af896dab2edea": {
          "model_module": "@jupyter-widgets/controls",
          "model_name": "FloatProgressModel",
          "model_module_version": "1.5.0",
          "state": {
            "_dom_classes": [],
            "_model_module": "@jupyter-widgets/controls",
            "_model_module_version": "1.5.0",
            "_model_name": "FloatProgressModel",
            "_view_count": null,
            "_view_module": "@jupyter-widgets/controls",
            "_view_module_version": "1.5.0",
            "_view_name": "ProgressView",
            "bar_style": "success",
            "description": "",
            "description_tooltip": null,
            "layout": "IPY_MODEL_23d94640b4e54e7291a0f2228faed500",
            "max": 997,
            "min": 0,
            "orientation": "horizontal",
            "style": "IPY_MODEL_b150440aa493438a88792732aa14d428",
            "value": 997
          }
        },
        "773f07dc2ea244be962f303d583daa5a": {
          "model_module": "@jupyter-widgets/controls",
          "model_name": "HTMLModel",
          "model_module_version": "1.5.0",
          "state": {
            "_dom_classes": [],
            "_model_module": "@jupyter-widgets/controls",
            "_model_module_version": "1.5.0",
            "_model_name": "HTMLModel",
            "_view_count": null,
            "_view_module": "@jupyter-widgets/controls",
            "_view_module_version": "1.5.0",
            "_view_name": "HTMLView",
            "description": "",
            "description_tooltip": null,
            "layout": "IPY_MODEL_f4d3cd0d6f504019a40ac86162da7937",
            "placeholder": "​",
            "style": "IPY_MODEL_8bc59f0e012f4cb1a57c49acfa34dd9f",
            "value": " 997/997 [00:00&lt;00:00, 90.9kB/s]"
          }
        },
        "fe6622e0471d43a9b017c73e19f6d67f": {
          "model_module": "@jupyter-widgets/base",
          "model_name": "LayoutModel",
          "model_module_version": "1.2.0",
          "state": {
            "_model_module": "@jupyter-widgets/base",
            "_model_module_version": "1.2.0",
            "_model_name": "LayoutModel",
            "_view_count": null,
            "_view_module": "@jupyter-widgets/base",
            "_view_module_version": "1.2.0",
            "_view_name": "LayoutView",
            "align_content": null,
            "align_items": null,
            "align_self": null,
            "border": null,
            "bottom": null,
            "display": null,
            "flex": null,
            "flex_flow": null,
            "grid_area": null,
            "grid_auto_columns": null,
            "grid_auto_flow": null,
            "grid_auto_rows": null,
            "grid_column": null,
            "grid_gap": null,
            "grid_row": null,
            "grid_template_areas": null,
            "grid_template_columns": null,
            "grid_template_rows": null,
            "height": null,
            "justify_content": null,
            "justify_items": null,
            "left": null,
            "margin": null,
            "max_height": null,
            "max_width": null,
            "min_height": null,
            "min_width": null,
            "object_fit": null,
            "object_position": null,
            "order": null,
            "overflow": null,
            "overflow_x": null,
            "overflow_y": null,
            "padding": null,
            "right": null,
            "top": null,
            "visibility": null,
            "width": null
          }
        },
        "43e500228aaa4e1489ab18d90aff4018": {
          "model_module": "@jupyter-widgets/base",
          "model_name": "LayoutModel",
          "model_module_version": "1.2.0",
          "state": {
            "_model_module": "@jupyter-widgets/base",
            "_model_module_version": "1.2.0",
            "_model_name": "LayoutModel",
            "_view_count": null,
            "_view_module": "@jupyter-widgets/base",
            "_view_module_version": "1.2.0",
            "_view_name": "LayoutView",
            "align_content": null,
            "align_items": null,
            "align_self": null,
            "border": null,
            "bottom": null,
            "display": null,
            "flex": null,
            "flex_flow": null,
            "grid_area": null,
            "grid_auto_columns": null,
            "grid_auto_flow": null,
            "grid_auto_rows": null,
            "grid_column": null,
            "grid_gap": null,
            "grid_row": null,
            "grid_template_areas": null,
            "grid_template_columns": null,
            "grid_template_rows": null,
            "height": null,
            "justify_content": null,
            "justify_items": null,
            "left": null,
            "margin": null,
            "max_height": null,
            "max_width": null,
            "min_height": null,
            "min_width": null,
            "object_fit": null,
            "object_position": null,
            "order": null,
            "overflow": null,
            "overflow_x": null,
            "overflow_y": null,
            "padding": null,
            "right": null,
            "top": null,
            "visibility": null,
            "width": null
          }
        },
        "2c2e1bdfb7084a85bf0bef290ad7ce27": {
          "model_module": "@jupyter-widgets/controls",
          "model_name": "DescriptionStyleModel",
          "model_module_version": "1.5.0",
          "state": {
            "_model_module": "@jupyter-widgets/controls",
            "_model_module_version": "1.5.0",
            "_model_name": "DescriptionStyleModel",
            "_view_count": null,
            "_view_module": "@jupyter-widgets/base",
            "_view_module_version": "1.2.0",
            "_view_name": "StyleView",
            "description_width": ""
          }
        },
        "23d94640b4e54e7291a0f2228faed500": {
          "model_module": "@jupyter-widgets/base",
          "model_name": "LayoutModel",
          "model_module_version": "1.2.0",
          "state": {
            "_model_module": "@jupyter-widgets/base",
            "_model_module_version": "1.2.0",
            "_model_name": "LayoutModel",
            "_view_count": null,
            "_view_module": "@jupyter-widgets/base",
            "_view_module_version": "1.2.0",
            "_view_name": "LayoutView",
            "align_content": null,
            "align_items": null,
            "align_self": null,
            "border": null,
            "bottom": null,
            "display": null,
            "flex": null,
            "flex_flow": null,
            "grid_area": null,
            "grid_auto_columns": null,
            "grid_auto_flow": null,
            "grid_auto_rows": null,
            "grid_column": null,
            "grid_gap": null,
            "grid_row": null,
            "grid_template_areas": null,
            "grid_template_columns": null,
            "grid_template_rows": null,
            "height": null,
            "justify_content": null,
            "justify_items": null,
            "left": null,
            "margin": null,
            "max_height": null,
            "max_width": null,
            "min_height": null,
            "min_width": null,
            "object_fit": null,
            "object_position": null,
            "order": null,
            "overflow": null,
            "overflow_x": null,
            "overflow_y": null,
            "padding": null,
            "right": null,
            "top": null,
            "visibility": null,
            "width": null
          }
        },
        "b150440aa493438a88792732aa14d428": {
          "model_module": "@jupyter-widgets/controls",
          "model_name": "ProgressStyleModel",
          "model_module_version": "1.5.0",
          "state": {
            "_model_module": "@jupyter-widgets/controls",
            "_model_module_version": "1.5.0",
            "_model_name": "ProgressStyleModel",
            "_view_count": null,
            "_view_module": "@jupyter-widgets/base",
            "_view_module_version": "1.2.0",
            "_view_name": "StyleView",
            "bar_color": null,
            "description_width": ""
          }
        },
        "f4d3cd0d6f504019a40ac86162da7937": {
          "model_module": "@jupyter-widgets/base",
          "model_name": "LayoutModel",
          "model_module_version": "1.2.0",
          "state": {
            "_model_module": "@jupyter-widgets/base",
            "_model_module_version": "1.2.0",
            "_model_name": "LayoutModel",
            "_view_count": null,
            "_view_module": "@jupyter-widgets/base",
            "_view_module_version": "1.2.0",
            "_view_name": "LayoutView",
            "align_content": null,
            "align_items": null,
            "align_self": null,
            "border": null,
            "bottom": null,
            "display": null,
            "flex": null,
            "flex_flow": null,
            "grid_area": null,
            "grid_auto_columns": null,
            "grid_auto_flow": null,
            "grid_auto_rows": null,
            "grid_column": null,
            "grid_gap": null,
            "grid_row": null,
            "grid_template_areas": null,
            "grid_template_columns": null,
            "grid_template_rows": null,
            "height": null,
            "justify_content": null,
            "justify_items": null,
            "left": null,
            "margin": null,
            "max_height": null,
            "max_width": null,
            "min_height": null,
            "min_width": null,
            "object_fit": null,
            "object_position": null,
            "order": null,
            "overflow": null,
            "overflow_x": null,
            "overflow_y": null,
            "padding": null,
            "right": null,
            "top": null,
            "visibility": null,
            "width": null
          }
        },
        "8bc59f0e012f4cb1a57c49acfa34dd9f": {
          "model_module": "@jupyter-widgets/controls",
          "model_name": "DescriptionStyleModel",
          "model_module_version": "1.5.0",
          "state": {
            "_model_module": "@jupyter-widgets/controls",
            "_model_module_version": "1.5.0",
            "_model_name": "DescriptionStyleModel",
            "_view_count": null,
            "_view_module": "@jupyter-widgets/base",
            "_view_module_version": "1.2.0",
            "_view_name": "StyleView",
            "description_width": ""
          }
        },
        "5bf4e39f9afd48b88ab19c5b1ac132b9": {
          "model_module": "@jupyter-widgets/controls",
          "model_name": "HBoxModel",
          "model_module_version": "1.5.0",
          "state": {
            "_dom_classes": [],
            "_model_module": "@jupyter-widgets/controls",
            "_model_module_version": "1.5.0",
            "_model_name": "HBoxModel",
            "_view_count": null,
            "_view_module": "@jupyter-widgets/controls",
            "_view_module_version": "1.5.0",
            "_view_name": "HBoxView",
            "box_style": "",
            "children": [
              "IPY_MODEL_1565fc4a35754b63a808156f86286632",
              "IPY_MODEL_761b706b9af34ccf9be97b15f982ed88",
              "IPY_MODEL_8e1e52b4ebee4bdc8350ec2d7573f497"
            ],
            "layout": "IPY_MODEL_0fd46d159869467995d25a0fd2fbba34"
          }
        },
        "1565fc4a35754b63a808156f86286632": {
          "model_module": "@jupyter-widgets/controls",
          "model_name": "HTMLModel",
          "model_module_version": "1.5.0",
          "state": {
            "_dom_classes": [],
            "_model_module": "@jupyter-widgets/controls",
            "_model_module_version": "1.5.0",
            "_model_name": "HTMLModel",
            "_view_count": null,
            "_view_module": "@jupyter-widgets/controls",
            "_view_module_version": "1.5.0",
            "_view_name": "HTMLView",
            "description": "",
            "description_tooltip": null,
            "layout": "IPY_MODEL_43334756e6ab4cfd80a8933b91a72516",
            "placeholder": "​",
            "style": "IPY_MODEL_1039201541af48709d6eee83ee94bef5",
            "value": "pytorch_model.bin: 100%"
          }
        },
        "761b706b9af34ccf9be97b15f982ed88": {
          "model_module": "@jupyter-widgets/controls",
          "model_name": "FloatProgressModel",
          "model_module_version": "1.5.0",
          "state": {
            "_dom_classes": [],
            "_model_module": "@jupyter-widgets/controls",
            "_model_module_version": "1.5.0",
            "_model_name": "FloatProgressModel",
            "_view_count": null,
            "_view_module": "@jupyter-widgets/controls",
            "_view_module_version": "1.5.0",
            "_view_name": "ProgressView",
            "bar_style": "success",
            "description": "",
            "description_tooltip": null,
            "layout": "IPY_MODEL_7cfb2fbe090e41e29cf6778d6a760f64",
            "max": 505258273,
            "min": 0,
            "orientation": "horizontal",
            "style": "IPY_MODEL_0842b7a1148846ea9fa44ffea46b3a3a",
            "value": 505258273
          }
        },
        "8e1e52b4ebee4bdc8350ec2d7573f497": {
          "model_module": "@jupyter-widgets/controls",
          "model_name": "HTMLModel",
          "model_module_version": "1.5.0",
          "state": {
            "_dom_classes": [],
            "_model_module": "@jupyter-widgets/controls",
            "_model_module_version": "1.5.0",
            "_model_name": "HTMLModel",
            "_view_count": null,
            "_view_module": "@jupyter-widgets/controls",
            "_view_module_version": "1.5.0",
            "_view_name": "HTMLView",
            "description": "",
            "description_tooltip": null,
            "layout": "IPY_MODEL_6e559e8dbbcc49f98b9bf6703b44e610",
            "placeholder": "​",
            "style": "IPY_MODEL_c6d55f1907bb439580d6300e8771b167",
            "value": " 505M/505M [00:05&lt;00:00, 95.2MB/s]"
          }
        },
        "0fd46d159869467995d25a0fd2fbba34": {
          "model_module": "@jupyter-widgets/base",
          "model_name": "LayoutModel",
          "model_module_version": "1.2.0",
          "state": {
            "_model_module": "@jupyter-widgets/base",
            "_model_module_version": "1.2.0",
            "_model_name": "LayoutModel",
            "_view_count": null,
            "_view_module": "@jupyter-widgets/base",
            "_view_module_version": "1.2.0",
            "_view_name": "LayoutView",
            "align_content": null,
            "align_items": null,
            "align_self": null,
            "border": null,
            "bottom": null,
            "display": null,
            "flex": null,
            "flex_flow": null,
            "grid_area": null,
            "grid_auto_columns": null,
            "grid_auto_flow": null,
            "grid_auto_rows": null,
            "grid_column": null,
            "grid_gap": null,
            "grid_row": null,
            "grid_template_areas": null,
            "grid_template_columns": null,
            "grid_template_rows": null,
            "height": null,
            "justify_content": null,
            "justify_items": null,
            "left": null,
            "margin": null,
            "max_height": null,
            "max_width": null,
            "min_height": null,
            "min_width": null,
            "object_fit": null,
            "object_position": null,
            "order": null,
            "overflow": null,
            "overflow_x": null,
            "overflow_y": null,
            "padding": null,
            "right": null,
            "top": null,
            "visibility": null,
            "width": null
          }
        },
        "43334756e6ab4cfd80a8933b91a72516": {
          "model_module": "@jupyter-widgets/base",
          "model_name": "LayoutModel",
          "model_module_version": "1.2.0",
          "state": {
            "_model_module": "@jupyter-widgets/base",
            "_model_module_version": "1.2.0",
            "_model_name": "LayoutModel",
            "_view_count": null,
            "_view_module": "@jupyter-widgets/base",
            "_view_module_version": "1.2.0",
            "_view_name": "LayoutView",
            "align_content": null,
            "align_items": null,
            "align_self": null,
            "border": null,
            "bottom": null,
            "display": null,
            "flex": null,
            "flex_flow": null,
            "grid_area": null,
            "grid_auto_columns": null,
            "grid_auto_flow": null,
            "grid_auto_rows": null,
            "grid_column": null,
            "grid_gap": null,
            "grid_row": null,
            "grid_template_areas": null,
            "grid_template_columns": null,
            "grid_template_rows": null,
            "height": null,
            "justify_content": null,
            "justify_items": null,
            "left": null,
            "margin": null,
            "max_height": null,
            "max_width": null,
            "min_height": null,
            "min_width": null,
            "object_fit": null,
            "object_position": null,
            "order": null,
            "overflow": null,
            "overflow_x": null,
            "overflow_y": null,
            "padding": null,
            "right": null,
            "top": null,
            "visibility": null,
            "width": null
          }
        },
        "1039201541af48709d6eee83ee94bef5": {
          "model_module": "@jupyter-widgets/controls",
          "model_name": "DescriptionStyleModel",
          "model_module_version": "1.5.0",
          "state": {
            "_model_module": "@jupyter-widgets/controls",
            "_model_module_version": "1.5.0",
            "_model_name": "DescriptionStyleModel",
            "_view_count": null,
            "_view_module": "@jupyter-widgets/base",
            "_view_module_version": "1.2.0",
            "_view_name": "StyleView",
            "description_width": ""
          }
        },
        "7cfb2fbe090e41e29cf6778d6a760f64": {
          "model_module": "@jupyter-widgets/base",
          "model_name": "LayoutModel",
          "model_module_version": "1.2.0",
          "state": {
            "_model_module": "@jupyter-widgets/base",
            "_model_module_version": "1.2.0",
            "_model_name": "LayoutModel",
            "_view_count": null,
            "_view_module": "@jupyter-widgets/base",
            "_view_module_version": "1.2.0",
            "_view_name": "LayoutView",
            "align_content": null,
            "align_items": null,
            "align_self": null,
            "border": null,
            "bottom": null,
            "display": null,
            "flex": null,
            "flex_flow": null,
            "grid_area": null,
            "grid_auto_columns": null,
            "grid_auto_flow": null,
            "grid_auto_rows": null,
            "grid_column": null,
            "grid_gap": null,
            "grid_row": null,
            "grid_template_areas": null,
            "grid_template_columns": null,
            "grid_template_rows": null,
            "height": null,
            "justify_content": null,
            "justify_items": null,
            "left": null,
            "margin": null,
            "max_height": null,
            "max_width": null,
            "min_height": null,
            "min_width": null,
            "object_fit": null,
            "object_position": null,
            "order": null,
            "overflow": null,
            "overflow_x": null,
            "overflow_y": null,
            "padding": null,
            "right": null,
            "top": null,
            "visibility": null,
            "width": null
          }
        },
        "0842b7a1148846ea9fa44ffea46b3a3a": {
          "model_module": "@jupyter-widgets/controls",
          "model_name": "ProgressStyleModel",
          "model_module_version": "1.5.0",
          "state": {
            "_model_module": "@jupyter-widgets/controls",
            "_model_module_version": "1.5.0",
            "_model_name": "ProgressStyleModel",
            "_view_count": null,
            "_view_module": "@jupyter-widgets/base",
            "_view_module_version": "1.2.0",
            "_view_name": "StyleView",
            "bar_color": null,
            "description_width": ""
          }
        },
        "6e559e8dbbcc49f98b9bf6703b44e610": {
          "model_module": "@jupyter-widgets/base",
          "model_name": "LayoutModel",
          "model_module_version": "1.2.0",
          "state": {
            "_model_module": "@jupyter-widgets/base",
            "_model_module_version": "1.2.0",
            "_model_name": "LayoutModel",
            "_view_count": null,
            "_view_module": "@jupyter-widgets/base",
            "_view_module_version": "1.2.0",
            "_view_name": "LayoutView",
            "align_content": null,
            "align_items": null,
            "align_self": null,
            "border": null,
            "bottom": null,
            "display": null,
            "flex": null,
            "flex_flow": null,
            "grid_area": null,
            "grid_auto_columns": null,
            "grid_auto_flow": null,
            "grid_auto_rows": null,
            "grid_column": null,
            "grid_gap": null,
            "grid_row": null,
            "grid_template_areas": null,
            "grid_template_columns": null,
            "grid_template_rows": null,
            "height": null,
            "justify_content": null,
            "justify_items": null,
            "left": null,
            "margin": null,
            "max_height": null,
            "max_width": null,
            "min_height": null,
            "min_width": null,
            "object_fit": null,
            "object_position": null,
            "order": null,
            "overflow": null,
            "overflow_x": null,
            "overflow_y": null,
            "padding": null,
            "right": null,
            "top": null,
            "visibility": null,
            "width": null
          }
        },
        "c6d55f1907bb439580d6300e8771b167": {
          "model_module": "@jupyter-widgets/controls",
          "model_name": "DescriptionStyleModel",
          "model_module_version": "1.5.0",
          "state": {
            "_model_module": "@jupyter-widgets/controls",
            "_model_module_version": "1.5.0",
            "_model_name": "DescriptionStyleModel",
            "_view_count": null,
            "_view_module": "@jupyter-widgets/base",
            "_view_module_version": "1.2.0",
            "_view_name": "StyleView",
            "description_width": ""
          }
        },
        "5f49d83a35304ce0850b5eec4b6b34e8": {
          "model_module": "@jupyter-widgets/controls",
          "model_name": "HBoxModel",
          "model_module_version": "1.5.0",
          "state": {
            "_dom_classes": [],
            "_model_module": "@jupyter-widgets/controls",
            "_model_module_version": "1.5.0",
            "_model_name": "HBoxModel",
            "_view_count": null,
            "_view_module": "@jupyter-widgets/controls",
            "_view_module_version": "1.5.0",
            "_view_name": "HBoxView",
            "box_style": "",
            "children": [
              "IPY_MODEL_696c82eeee9f495099150b2d2ba7c5e7",
              "IPY_MODEL_2842cfcd24ee48b2baa44a625c66e2c7",
              "IPY_MODEL_8bbee6db56c848e99d1ad419381ed9c7"
            ],
            "layout": "IPY_MODEL_1e09d691c5d44a1aac06b1fbaa986a75"
          }
        },
        "696c82eeee9f495099150b2d2ba7c5e7": {
          "model_module": "@jupyter-widgets/controls",
          "model_name": "HTMLModel",
          "model_module_version": "1.5.0",
          "state": {
            "_dom_classes": [],
            "_model_module": "@jupyter-widgets/controls",
            "_model_module_version": "1.5.0",
            "_model_name": "HTMLModel",
            "_view_count": null,
            "_view_module": "@jupyter-widgets/controls",
            "_view_module_version": "1.5.0",
            "_view_name": "HTMLView",
            "description": "",
            "description_tooltip": null,
            "layout": "IPY_MODEL_75de6e54220b414295d10c4de5e5c0ad",
            "placeholder": "​",
            "style": "IPY_MODEL_b99a1d48e5fc45ff889695aaa8bea2d6",
            "value": "config.json: 100%"
          }
        },
        "2842cfcd24ee48b2baa44a625c66e2c7": {
          "model_module": "@jupyter-widgets/controls",
          "model_name": "FloatProgressModel",
          "model_module_version": "1.5.0",
          "state": {
            "_dom_classes": [],
            "_model_module": "@jupyter-widgets/controls",
            "_model_module_version": "1.5.0",
            "_model_name": "FloatProgressModel",
            "_view_count": null,
            "_view_module": "@jupyter-widgets/controls",
            "_view_module_version": "1.5.0",
            "_view_name": "ProgressView",
            "bar_style": "success",
            "description": "",
            "description_tooltip": null,
            "layout": "IPY_MODEL_5f0d610a2b2e4e1883e8e64eb860618d",
            "max": 1306,
            "min": 0,
            "orientation": "horizontal",
            "style": "IPY_MODEL_17425a9d673e4cc4b616429568545d4a",
            "value": 1306
          }
        },
        "8bbee6db56c848e99d1ad419381ed9c7": {
          "model_module": "@jupyter-widgets/controls",
          "model_name": "HTMLModel",
          "model_module_version": "1.5.0",
          "state": {
            "_dom_classes": [],
            "_model_module": "@jupyter-widgets/controls",
            "_model_module_version": "1.5.0",
            "_model_name": "HTMLModel",
            "_view_count": null,
            "_view_module": "@jupyter-widgets/controls",
            "_view_module_version": "1.5.0",
            "_view_name": "HTMLView",
            "description": "",
            "description_tooltip": null,
            "layout": "IPY_MODEL_71d781b7fcc141ec8d752a533d3ffe90",
            "placeholder": "​",
            "style": "IPY_MODEL_ee3fe21b4b4d4f6baa39f89efe382481",
            "value": " 1.31k/1.31k [00:00&lt;00:00, 78.3kB/s]"
          }
        },
        "1e09d691c5d44a1aac06b1fbaa986a75": {
          "model_module": "@jupyter-widgets/base",
          "model_name": "LayoutModel",
          "model_module_version": "1.2.0",
          "state": {
            "_model_module": "@jupyter-widgets/base",
            "_model_module_version": "1.2.0",
            "_model_name": "LayoutModel",
            "_view_count": null,
            "_view_module": "@jupyter-widgets/base",
            "_view_module_version": "1.2.0",
            "_view_name": "LayoutView",
            "align_content": null,
            "align_items": null,
            "align_self": null,
            "border": null,
            "bottom": null,
            "display": null,
            "flex": null,
            "flex_flow": null,
            "grid_area": null,
            "grid_auto_columns": null,
            "grid_auto_flow": null,
            "grid_auto_rows": null,
            "grid_column": null,
            "grid_gap": null,
            "grid_row": null,
            "grid_template_areas": null,
            "grid_template_columns": null,
            "grid_template_rows": null,
            "height": null,
            "justify_content": null,
            "justify_items": null,
            "left": null,
            "margin": null,
            "max_height": null,
            "max_width": null,
            "min_height": null,
            "min_width": null,
            "object_fit": null,
            "object_position": null,
            "order": null,
            "overflow": null,
            "overflow_x": null,
            "overflow_y": null,
            "padding": null,
            "right": null,
            "top": null,
            "visibility": null,
            "width": null
          }
        },
        "75de6e54220b414295d10c4de5e5c0ad": {
          "model_module": "@jupyter-widgets/base",
          "model_name": "LayoutModel",
          "model_module_version": "1.2.0",
          "state": {
            "_model_module": "@jupyter-widgets/base",
            "_model_module_version": "1.2.0",
            "_model_name": "LayoutModel",
            "_view_count": null,
            "_view_module": "@jupyter-widgets/base",
            "_view_module_version": "1.2.0",
            "_view_name": "LayoutView",
            "align_content": null,
            "align_items": null,
            "align_self": null,
            "border": null,
            "bottom": null,
            "display": null,
            "flex": null,
            "flex_flow": null,
            "grid_area": null,
            "grid_auto_columns": null,
            "grid_auto_flow": null,
            "grid_auto_rows": null,
            "grid_column": null,
            "grid_gap": null,
            "grid_row": null,
            "grid_template_areas": null,
            "grid_template_columns": null,
            "grid_template_rows": null,
            "height": null,
            "justify_content": null,
            "justify_items": null,
            "left": null,
            "margin": null,
            "max_height": null,
            "max_width": null,
            "min_height": null,
            "min_width": null,
            "object_fit": null,
            "object_position": null,
            "order": null,
            "overflow": null,
            "overflow_x": null,
            "overflow_y": null,
            "padding": null,
            "right": null,
            "top": null,
            "visibility": null,
            "width": null
          }
        },
        "b99a1d48e5fc45ff889695aaa8bea2d6": {
          "model_module": "@jupyter-widgets/controls",
          "model_name": "DescriptionStyleModel",
          "model_module_version": "1.5.0",
          "state": {
            "_model_module": "@jupyter-widgets/controls",
            "_model_module_version": "1.5.0",
            "_model_name": "DescriptionStyleModel",
            "_view_count": null,
            "_view_module": "@jupyter-widgets/base",
            "_view_module_version": "1.2.0",
            "_view_name": "StyleView",
            "description_width": ""
          }
        },
        "5f0d610a2b2e4e1883e8e64eb860618d": {
          "model_module": "@jupyter-widgets/base",
          "model_name": "LayoutModel",
          "model_module_version": "1.2.0",
          "state": {
            "_model_module": "@jupyter-widgets/base",
            "_model_module_version": "1.2.0",
            "_model_name": "LayoutModel",
            "_view_count": null,
            "_view_module": "@jupyter-widgets/base",
            "_view_module_version": "1.2.0",
            "_view_name": "LayoutView",
            "align_content": null,
            "align_items": null,
            "align_self": null,
            "border": null,
            "bottom": null,
            "display": null,
            "flex": null,
            "flex_flow": null,
            "grid_area": null,
            "grid_auto_columns": null,
            "grid_auto_flow": null,
            "grid_auto_rows": null,
            "grid_column": null,
            "grid_gap": null,
            "grid_row": null,
            "grid_template_areas": null,
            "grid_template_columns": null,
            "grid_template_rows": null,
            "height": null,
            "justify_content": null,
            "justify_items": null,
            "left": null,
            "margin": null,
            "max_height": null,
            "max_width": null,
            "min_height": null,
            "min_width": null,
            "object_fit": null,
            "object_position": null,
            "order": null,
            "overflow": null,
            "overflow_x": null,
            "overflow_y": null,
            "padding": null,
            "right": null,
            "top": null,
            "visibility": null,
            "width": null
          }
        },
        "17425a9d673e4cc4b616429568545d4a": {
          "model_module": "@jupyter-widgets/controls",
          "model_name": "ProgressStyleModel",
          "model_module_version": "1.5.0",
          "state": {
            "_model_module": "@jupyter-widgets/controls",
            "_model_module_version": "1.5.0",
            "_model_name": "ProgressStyleModel",
            "_view_count": null,
            "_view_module": "@jupyter-widgets/base",
            "_view_module_version": "1.2.0",
            "_view_name": "StyleView",
            "bar_color": null,
            "description_width": ""
          }
        },
        "71d781b7fcc141ec8d752a533d3ffe90": {
          "model_module": "@jupyter-widgets/base",
          "model_name": "LayoutModel",
          "model_module_version": "1.2.0",
          "state": {
            "_model_module": "@jupyter-widgets/base",
            "_model_module_version": "1.2.0",
            "_model_name": "LayoutModel",
            "_view_count": null,
            "_view_module": "@jupyter-widgets/base",
            "_view_module_version": "1.2.0",
            "_view_name": "LayoutView",
            "align_content": null,
            "align_items": null,
            "align_self": null,
            "border": null,
            "bottom": null,
            "display": null,
            "flex": null,
            "flex_flow": null,
            "grid_area": null,
            "grid_auto_columns": null,
            "grid_auto_flow": null,
            "grid_auto_rows": null,
            "grid_column": null,
            "grid_gap": null,
            "grid_row": null,
            "grid_template_areas": null,
            "grid_template_columns": null,
            "grid_template_rows": null,
            "height": null,
            "justify_content": null,
            "justify_items": null,
            "left": null,
            "margin": null,
            "max_height": null,
            "max_width": null,
            "min_height": null,
            "min_width": null,
            "object_fit": null,
            "object_position": null,
            "order": null,
            "overflow": null,
            "overflow_x": null,
            "overflow_y": null,
            "padding": null,
            "right": null,
            "top": null,
            "visibility": null,
            "width": null
          }
        },
        "ee3fe21b4b4d4f6baa39f89efe382481": {
          "model_module": "@jupyter-widgets/controls",
          "model_name": "DescriptionStyleModel",
          "model_module_version": "1.5.0",
          "state": {
            "_model_module": "@jupyter-widgets/controls",
            "_model_module_version": "1.5.0",
            "_model_name": "DescriptionStyleModel",
            "_view_count": null,
            "_view_module": "@jupyter-widgets/base",
            "_view_module_version": "1.2.0",
            "_view_name": "StyleView",
            "description_width": ""
          }
        },
        "defd68987c524050a67d517cabdbcdfa": {
          "model_module": "@jupyter-widgets/controls",
          "model_name": "HBoxModel",
          "model_module_version": "1.5.0",
          "state": {
            "_dom_classes": [],
            "_model_module": "@jupyter-widgets/controls",
            "_model_module_version": "1.5.0",
            "_model_name": "HBoxModel",
            "_view_count": null,
            "_view_module": "@jupyter-widgets/controls",
            "_view_module_version": "1.5.0",
            "_view_name": "HBoxView",
            "box_style": "",
            "children": [
              "IPY_MODEL_4fbb934f26ac45879cb587d0adefb50b",
              "IPY_MODEL_d4f0aabcc81d453ba3719752abeb400b",
              "IPY_MODEL_1d9cd34759e84d61a484bff05a3a6705"
            ],
            "layout": "IPY_MODEL_819a65f5bab547a28aad892dfc137158"
          }
        },
        "4fbb934f26ac45879cb587d0adefb50b": {
          "model_module": "@jupyter-widgets/controls",
          "model_name": "HTMLModel",
          "model_module_version": "1.5.0",
          "state": {
            "_dom_classes": [],
            "_model_module": "@jupyter-widgets/controls",
            "_model_module_version": "1.5.0",
            "_model_name": "HTMLModel",
            "_view_count": null,
            "_view_module": "@jupyter-widgets/controls",
            "_view_module_version": "1.5.0",
            "_view_name": "HTMLView",
            "description": "",
            "description_tooltip": null,
            "layout": "IPY_MODEL_456c60adad62462a8152a030eab1b0c7",
            "placeholder": "​",
            "style": "IPY_MODEL_28628fc2b1c6471b90f7ab61bfc330ea",
            "value": "model.safetensors: 100%"
          }
        },
        "d4f0aabcc81d453ba3719752abeb400b": {
          "model_module": "@jupyter-widgets/controls",
          "model_name": "FloatProgressModel",
          "model_module_version": "1.5.0",
          "state": {
            "_dom_classes": [],
            "_model_module": "@jupyter-widgets/controls",
            "_model_module_version": "1.5.0",
            "_model_name": "FloatProgressModel",
            "_view_count": null,
            "_view_module": "@jupyter-widgets/controls",
            "_view_module_version": "1.5.0",
            "_view_name": "ProgressView",
            "bar_style": "success",
            "description": "",
            "description_tooltip": null,
            "layout": "IPY_MODEL_0d1e60e7f57944c19cf52624d8664cf8",
            "max": 505172360,
            "min": 0,
            "orientation": "horizontal",
            "style": "IPY_MODEL_9ef77b5468974d76a193e148cb6ea659",
            "value": 505172360
          }
        },
        "1d9cd34759e84d61a484bff05a3a6705": {
          "model_module": "@jupyter-widgets/controls",
          "model_name": "HTMLModel",
          "model_module_version": "1.5.0",
          "state": {
            "_dom_classes": [],
            "_model_module": "@jupyter-widgets/controls",
            "_model_module_version": "1.5.0",
            "_model_name": "HTMLModel",
            "_view_count": null,
            "_view_module": "@jupyter-widgets/controls",
            "_view_module_version": "1.5.0",
            "_view_name": "HTMLView",
            "description": "",
            "description_tooltip": null,
            "layout": "IPY_MODEL_df7677157c4f471eb85b2a0ef6c596a1",
            "placeholder": "​",
            "style": "IPY_MODEL_6bd6a9eb1227458889e6cdf12a999620",
            "value": " 505M/505M [00:06&lt;00:00, 107MB/s]"
          }
        },
        "819a65f5bab547a28aad892dfc137158": {
          "model_module": "@jupyter-widgets/base",
          "model_name": "LayoutModel",
          "model_module_version": "1.2.0",
          "state": {
            "_model_module": "@jupyter-widgets/base",
            "_model_module_version": "1.2.0",
            "_model_name": "LayoutModel",
            "_view_count": null,
            "_view_module": "@jupyter-widgets/base",
            "_view_module_version": "1.2.0",
            "_view_name": "LayoutView",
            "align_content": null,
            "align_items": null,
            "align_self": null,
            "border": null,
            "bottom": null,
            "display": null,
            "flex": null,
            "flex_flow": null,
            "grid_area": null,
            "grid_auto_columns": null,
            "grid_auto_flow": null,
            "grid_auto_rows": null,
            "grid_column": null,
            "grid_gap": null,
            "grid_row": null,
            "grid_template_areas": null,
            "grid_template_columns": null,
            "grid_template_rows": null,
            "height": null,
            "justify_content": null,
            "justify_items": null,
            "left": null,
            "margin": null,
            "max_height": null,
            "max_width": null,
            "min_height": null,
            "min_width": null,
            "object_fit": null,
            "object_position": null,
            "order": null,
            "overflow": null,
            "overflow_x": null,
            "overflow_y": null,
            "padding": null,
            "right": null,
            "top": null,
            "visibility": null,
            "width": null
          }
        },
        "456c60adad62462a8152a030eab1b0c7": {
          "model_module": "@jupyter-widgets/base",
          "model_name": "LayoutModel",
          "model_module_version": "1.2.0",
          "state": {
            "_model_module": "@jupyter-widgets/base",
            "_model_module_version": "1.2.0",
            "_model_name": "LayoutModel",
            "_view_count": null,
            "_view_module": "@jupyter-widgets/base",
            "_view_module_version": "1.2.0",
            "_view_name": "LayoutView",
            "align_content": null,
            "align_items": null,
            "align_self": null,
            "border": null,
            "bottom": null,
            "display": null,
            "flex": null,
            "flex_flow": null,
            "grid_area": null,
            "grid_auto_columns": null,
            "grid_auto_flow": null,
            "grid_auto_rows": null,
            "grid_column": null,
            "grid_gap": null,
            "grid_row": null,
            "grid_template_areas": null,
            "grid_template_columns": null,
            "grid_template_rows": null,
            "height": null,
            "justify_content": null,
            "justify_items": null,
            "left": null,
            "margin": null,
            "max_height": null,
            "max_width": null,
            "min_height": null,
            "min_width": null,
            "object_fit": null,
            "object_position": null,
            "order": null,
            "overflow": null,
            "overflow_x": null,
            "overflow_y": null,
            "padding": null,
            "right": null,
            "top": null,
            "visibility": null,
            "width": null
          }
        },
        "28628fc2b1c6471b90f7ab61bfc330ea": {
          "model_module": "@jupyter-widgets/controls",
          "model_name": "DescriptionStyleModel",
          "model_module_version": "1.5.0",
          "state": {
            "_model_module": "@jupyter-widgets/controls",
            "_model_module_version": "1.5.0",
            "_model_name": "DescriptionStyleModel",
            "_view_count": null,
            "_view_module": "@jupyter-widgets/base",
            "_view_module_version": "1.2.0",
            "_view_name": "StyleView",
            "description_width": ""
          }
        },
        "0d1e60e7f57944c19cf52624d8664cf8": {
          "model_module": "@jupyter-widgets/base",
          "model_name": "LayoutModel",
          "model_module_version": "1.2.0",
          "state": {
            "_model_module": "@jupyter-widgets/base",
            "_model_module_version": "1.2.0",
            "_model_name": "LayoutModel",
            "_view_count": null,
            "_view_module": "@jupyter-widgets/base",
            "_view_module_version": "1.2.0",
            "_view_name": "LayoutView",
            "align_content": null,
            "align_items": null,
            "align_self": null,
            "border": null,
            "bottom": null,
            "display": null,
            "flex": null,
            "flex_flow": null,
            "grid_area": null,
            "grid_auto_columns": null,
            "grid_auto_flow": null,
            "grid_auto_rows": null,
            "grid_column": null,
            "grid_gap": null,
            "grid_row": null,
            "grid_template_areas": null,
            "grid_template_columns": null,
            "grid_template_rows": null,
            "height": null,
            "justify_content": null,
            "justify_items": null,
            "left": null,
            "margin": null,
            "max_height": null,
            "max_width": null,
            "min_height": null,
            "min_width": null,
            "object_fit": null,
            "object_position": null,
            "order": null,
            "overflow": null,
            "overflow_x": null,
            "overflow_y": null,
            "padding": null,
            "right": null,
            "top": null,
            "visibility": null,
            "width": null
          }
        },
        "9ef77b5468974d76a193e148cb6ea659": {
          "model_module": "@jupyter-widgets/controls",
          "model_name": "ProgressStyleModel",
          "model_module_version": "1.5.0",
          "state": {
            "_model_module": "@jupyter-widgets/controls",
            "_model_module_version": "1.5.0",
            "_model_name": "ProgressStyleModel",
            "_view_count": null,
            "_view_module": "@jupyter-widgets/base",
            "_view_module_version": "1.2.0",
            "_view_name": "StyleView",
            "bar_color": null,
            "description_width": ""
          }
        },
        "df7677157c4f471eb85b2a0ef6c596a1": {
          "model_module": "@jupyter-widgets/base",
          "model_name": "LayoutModel",
          "model_module_version": "1.2.0",
          "state": {
            "_model_module": "@jupyter-widgets/base",
            "_model_module_version": "1.2.0",
            "_model_name": "LayoutModel",
            "_view_count": null,
            "_view_module": "@jupyter-widgets/base",
            "_view_module_version": "1.2.0",
            "_view_name": "LayoutView",
            "align_content": null,
            "align_items": null,
            "align_self": null,
            "border": null,
            "bottom": null,
            "display": null,
            "flex": null,
            "flex_flow": null,
            "grid_area": null,
            "grid_auto_columns": null,
            "grid_auto_flow": null,
            "grid_auto_rows": null,
            "grid_column": null,
            "grid_gap": null,
            "grid_row": null,
            "grid_template_areas": null,
            "grid_template_columns": null,
            "grid_template_rows": null,
            "height": null,
            "justify_content": null,
            "justify_items": null,
            "left": null,
            "margin": null,
            "max_height": null,
            "max_width": null,
            "min_height": null,
            "min_width": null,
            "object_fit": null,
            "object_position": null,
            "order": null,
            "overflow": null,
            "overflow_x": null,
            "overflow_y": null,
            "padding": null,
            "right": null,
            "top": null,
            "visibility": null,
            "width": null
          }
        },
        "6bd6a9eb1227458889e6cdf12a999620": {
          "model_module": "@jupyter-widgets/controls",
          "model_name": "DescriptionStyleModel",
          "model_module_version": "1.5.0",
          "state": {
            "_model_module": "@jupyter-widgets/controls",
            "_model_module_version": "1.5.0",
            "_model_name": "DescriptionStyleModel",
            "_view_count": null,
            "_view_module": "@jupyter-widgets/base",
            "_view_module_version": "1.2.0",
            "_view_name": "StyleView",
            "description_width": ""
          }
        }
      }
    }
  },
  "nbformat": 4,
  "nbformat_minor": 0
}